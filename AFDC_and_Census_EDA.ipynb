{
 "cells": [
  {
   "cell_type": "code",
   "execution_count": 2,
   "metadata": {},
   "outputs": [
    {
     "name": "stderr",
     "output_type": "stream",
     "text": [
      "/Users/ethandeng/anaconda3/envs/dsc180a/lib/python3.11/site-packages/fuzzywuzzy/fuzz.py:11: UserWarning: Using slow pure-python SequenceMatcher. Install python-Levenshtein to remove this warning\n",
      "  warnings.warn('Using slow pure-python SequenceMatcher. Install python-Levenshtein to remove this warning')\n"
     ]
    }
   ],
   "source": [
    "import numpy as np\n",
    "import requests\n",
    "import pandas as pd\n",
    "import matplotlib.pyplot as plt\n",
    "import itertools\n",
    "from collections import Counter\n",
    "import seaborn as sns\n",
    "import plotly.express as px\n",
    "import geopandas as gpd\n",
    "import folium\n",
    "from folium.features import Choropleth\n",
    "import cenpy as c\n",
    "import networkx as nx\n",
    "import osmnx as ox\n",
    "from IPython.display import IFrame\n",
    "import ast"
   ]
  },
  {
   "attachments": {},
   "cell_type": "markdown",
   "metadata": {},
   "source": [
    "# Finding insights on AFDC dataset, mostly focusing on EV Chargers"
   ]
  },
  {
   "cell_type": "code",
   "execution_count": 3,
   "metadata": {},
   "outputs": [
    {
     "name": "stderr",
     "output_type": "stream",
     "text": [
      "/var/folders/6g/hzhm6cpn3n53kypvmqckpqrh0000gn/T/ipykernel_84225/2422982858.py:1: DtypeWarning: Columns (14,28,29,31,32,33,34,37,46,50,51,52,53,54,55,56,59,60,61,62,63,66,73,74) have mixed types. Specify dtype option on import or set low_memory=False.\n",
      "  df = pd.read_csv('data/fuel_stations.csv')\n"
     ]
    },
    {
     "data": {
      "text/html": [
       "<div>\n",
       "<style scoped>\n",
       "    .dataframe tbody tr th:only-of-type {\n",
       "        vertical-align: middle;\n",
       "    }\n",
       "\n",
       "    .dataframe tbody tr th {\n",
       "        vertical-align: top;\n",
       "    }\n",
       "\n",
       "    .dataframe thead th {\n",
       "        text-align: right;\n",
       "    }\n",
       "</style>\n",
       "<table border=\"1\" class=\"dataframe\">\n",
       "  <thead>\n",
       "    <tr style=\"text-align: right;\">\n",
       "      <th></th>\n",
       "      <th>access_code</th>\n",
       "      <th>access_days_time</th>\n",
       "      <th>access_detail_code</th>\n",
       "      <th>cards_accepted</th>\n",
       "      <th>date_last_confirmed</th>\n",
       "      <th>expected_date</th>\n",
       "      <th>fuel_type_code</th>\n",
       "      <th>groups_with_access_code</th>\n",
       "      <th>id</th>\n",
       "      <th>maximum_vehicle_class</th>\n",
       "      <th>...</th>\n",
       "      <th>access_days_time_fr</th>\n",
       "      <th>intersection_directions_fr</th>\n",
       "      <th>bd_blends_fr</th>\n",
       "      <th>groups_with_access_code_fr</th>\n",
       "      <th>ev_pricing_fr</th>\n",
       "      <th>federal_agency.id</th>\n",
       "      <th>federal_agency.code</th>\n",
       "      <th>federal_agency.name</th>\n",
       "      <th>ev_network_ids.station</th>\n",
       "      <th>ev_network_ids.posts</th>\n",
       "    </tr>\n",
       "  </thead>\n",
       "  <tbody>\n",
       "    <tr>\n",
       "      <th>0</th>\n",
       "      <td>private</td>\n",
       "      <td>NaN</td>\n",
       "      <td>NaN</td>\n",
       "      <td>NaN</td>\n",
       "      <td>2024-10-11</td>\n",
       "      <td>NaN</td>\n",
       "      <td>CNG</td>\n",
       "      <td>Private</td>\n",
       "      <td>17</td>\n",
       "      <td>MD</td>\n",
       "      <td>...</td>\n",
       "      <td>NaN</td>\n",
       "      <td>NaN</td>\n",
       "      <td>NaN</td>\n",
       "      <td>Privé</td>\n",
       "      <td>NaN</td>\n",
       "      <td>NaN</td>\n",
       "      <td>NaN</td>\n",
       "      <td>NaN</td>\n",
       "      <td>NaN</td>\n",
       "      <td>NaN</td>\n",
       "    </tr>\n",
       "    <tr>\n",
       "      <th>1</th>\n",
       "      <td>private</td>\n",
       "      <td>NaN</td>\n",
       "      <td>GOVERNMENT</td>\n",
       "      <td>NaN</td>\n",
       "      <td>2024-02-12</td>\n",
       "      <td>NaN</td>\n",
       "      <td>CNG</td>\n",
       "      <td>Private - Government only</td>\n",
       "      <td>45</td>\n",
       "      <td>LD</td>\n",
       "      <td>...</td>\n",
       "      <td>NaN</td>\n",
       "      <td>NaN</td>\n",
       "      <td>NaN</td>\n",
       "      <td>Privé - Réservé au gouvernement</td>\n",
       "      <td>NaN</td>\n",
       "      <td>NaN</td>\n",
       "      <td>NaN</td>\n",
       "      <td>NaN</td>\n",
       "      <td>NaN</td>\n",
       "      <td>NaN</td>\n",
       "    </tr>\n",
       "    <tr>\n",
       "      <th>2</th>\n",
       "      <td>private</td>\n",
       "      <td>NaN</td>\n",
       "      <td>NaN</td>\n",
       "      <td>NaN</td>\n",
       "      <td>2023-12-13</td>\n",
       "      <td>NaN</td>\n",
       "      <td>CNG</td>\n",
       "      <td>Private</td>\n",
       "      <td>64</td>\n",
       "      <td>HD</td>\n",
       "      <td>...</td>\n",
       "      <td>NaN</td>\n",
       "      <td>NaN</td>\n",
       "      <td>NaN</td>\n",
       "      <td>Privé</td>\n",
       "      <td>NaN</td>\n",
       "      <td>NaN</td>\n",
       "      <td>NaN</td>\n",
       "      <td>NaN</td>\n",
       "      <td>NaN</td>\n",
       "      <td>NaN</td>\n",
       "    </tr>\n",
       "    <tr>\n",
       "      <th>3</th>\n",
       "      <td>public</td>\n",
       "      <td>24 hours daily</td>\n",
       "      <td>CREDIT_CARD_ALWAYS</td>\n",
       "      <td>CREDIT M V Voyager</td>\n",
       "      <td>2024-04-14</td>\n",
       "      <td>NaN</td>\n",
       "      <td>CNG</td>\n",
       "      <td>Public - Credit card at all times</td>\n",
       "      <td>73</td>\n",
       "      <td>MD</td>\n",
       "      <td>...</td>\n",
       "      <td>NaN</td>\n",
       "      <td>NaN</td>\n",
       "      <td>NaN</td>\n",
       "      <td>Public - Carte de crédit en tout temps</td>\n",
       "      <td>NaN</td>\n",
       "      <td>NaN</td>\n",
       "      <td>NaN</td>\n",
       "      <td>NaN</td>\n",
       "      <td>NaN</td>\n",
       "      <td>NaN</td>\n",
       "    </tr>\n",
       "    <tr>\n",
       "      <th>4</th>\n",
       "      <td>public</td>\n",
       "      <td>24 hours daily; call 866-809-4869 for Clean En...</td>\n",
       "      <td>CREDIT_CARD_ALWAYS</td>\n",
       "      <td>A CleanEnergy Comdata D FuelMan M V Voyager Wr...</td>\n",
       "      <td>2024-11-06</td>\n",
       "      <td>NaN</td>\n",
       "      <td>CNG</td>\n",
       "      <td>Public - Credit card at all times</td>\n",
       "      <td>81</td>\n",
       "      <td>MD</td>\n",
       "      <td>...</td>\n",
       "      <td>NaN</td>\n",
       "      <td>NaN</td>\n",
       "      <td>NaN</td>\n",
       "      <td>Public - Carte de crédit en tout temps</td>\n",
       "      <td>NaN</td>\n",
       "      <td>NaN</td>\n",
       "      <td>NaN</td>\n",
       "      <td>NaN</td>\n",
       "      <td>NaN</td>\n",
       "      <td>NaN</td>\n",
       "    </tr>\n",
       "    <tr>\n",
       "      <th>...</th>\n",
       "      <td>...</td>\n",
       "      <td>...</td>\n",
       "      <td>...</td>\n",
       "      <td>...</td>\n",
       "      <td>...</td>\n",
       "      <td>...</td>\n",
       "      <td>...</td>\n",
       "      <td>...</td>\n",
       "      <td>...</td>\n",
       "      <td>...</td>\n",
       "      <td>...</td>\n",
       "      <td>...</td>\n",
       "      <td>...</td>\n",
       "      <td>...</td>\n",
       "      <td>...</td>\n",
       "      <td>...</td>\n",
       "      <td>...</td>\n",
       "      <td>...</td>\n",
       "      <td>...</td>\n",
       "      <td>...</td>\n",
       "      <td>...</td>\n",
       "    </tr>\n",
       "    <tr>\n",
       "      <th>90794</th>\n",
       "      <td>public</td>\n",
       "      <td>24 hours daily</td>\n",
       "      <td>NaN</td>\n",
       "      <td>NaN</td>\n",
       "      <td>2024-11-21</td>\n",
       "      <td>NaN</td>\n",
       "      <td>ELEC</td>\n",
       "      <td>Public</td>\n",
       "      <td>371770</td>\n",
       "      <td>NaN</td>\n",
       "      <td>...</td>\n",
       "      <td>NaN</td>\n",
       "      <td>NaN</td>\n",
       "      <td>NaN</td>\n",
       "      <td>Public</td>\n",
       "      <td>NaN</td>\n",
       "      <td>NaN</td>\n",
       "      <td>NaN</td>\n",
       "      <td>NaN</td>\n",
       "      <td>['b08ade98-43f1-4506-b820-20ac9377be8a']</td>\n",
       "      <td>['6709a497dc9ef04fcb51a121', '6709a497dc9ef04f...</td>\n",
       "    </tr>\n",
       "    <tr>\n",
       "      <th>90795</th>\n",
       "      <td>public</td>\n",
       "      <td>24 hours daily</td>\n",
       "      <td>NaN</td>\n",
       "      <td>NaN</td>\n",
       "      <td>2024-11-21</td>\n",
       "      <td>NaN</td>\n",
       "      <td>ELEC</td>\n",
       "      <td>Public</td>\n",
       "      <td>371771</td>\n",
       "      <td>NaN</td>\n",
       "      <td>...</td>\n",
       "      <td>NaN</td>\n",
       "      <td>NaN</td>\n",
       "      <td>NaN</td>\n",
       "      <td>Public</td>\n",
       "      <td>NaN</td>\n",
       "      <td>NaN</td>\n",
       "      <td>NaN</td>\n",
       "      <td>NaN</td>\n",
       "      <td>['cfbad0f3-3968-4cea-891e-51d9d00bdd72']</td>\n",
       "      <td>['6334036d769d347763920a36', '6334036d769d3477...</td>\n",
       "    </tr>\n",
       "    <tr>\n",
       "      <th>90796</th>\n",
       "      <td>public</td>\n",
       "      <td>24 hours daily</td>\n",
       "      <td>NaN</td>\n",
       "      <td>NaN</td>\n",
       "      <td>2024-11-21</td>\n",
       "      <td>NaN</td>\n",
       "      <td>ELEC</td>\n",
       "      <td>Public</td>\n",
       "      <td>371772</td>\n",
       "      <td>NaN</td>\n",
       "      <td>...</td>\n",
       "      <td>NaN</td>\n",
       "      <td>NaN</td>\n",
       "      <td>NaN</td>\n",
       "      <td>Public</td>\n",
       "      <td>NaN</td>\n",
       "      <td>NaN</td>\n",
       "      <td>NaN</td>\n",
       "      <td>NaN</td>\n",
       "      <td>['ccb3851a-a716-4254-9fca-9b622cd1737c']</td>\n",
       "      <td>['63629495ed69bf480aac7e61', '63629495ed69bf48...</td>\n",
       "    </tr>\n",
       "    <tr>\n",
       "      <th>90797</th>\n",
       "      <td>public</td>\n",
       "      <td>24 hours daily</td>\n",
       "      <td>NaN</td>\n",
       "      <td>NaN</td>\n",
       "      <td>2024-11-21</td>\n",
       "      <td>NaN</td>\n",
       "      <td>ELEC</td>\n",
       "      <td>Public</td>\n",
       "      <td>371773</td>\n",
       "      <td>NaN</td>\n",
       "      <td>...</td>\n",
       "      <td>NaN</td>\n",
       "      <td>NaN</td>\n",
       "      <td>NaN</td>\n",
       "      <td>Public</td>\n",
       "      <td>NaN</td>\n",
       "      <td>NaN</td>\n",
       "      <td>NaN</td>\n",
       "      <td>NaN</td>\n",
       "      <td>['ac526980-fbed-4cd4-a491-23a984c6b2b0']</td>\n",
       "      <td>['64a8b721adb945566afb0721', '64b61e2db323a268...</td>\n",
       "    </tr>\n",
       "    <tr>\n",
       "      <th>90798</th>\n",
       "      <td>public</td>\n",
       "      <td>24 hours daily</td>\n",
       "      <td>NaN</td>\n",
       "      <td>A D M V</td>\n",
       "      <td>2024-11-21</td>\n",
       "      <td>NaN</td>\n",
       "      <td>ELEC</td>\n",
       "      <td>Public</td>\n",
       "      <td>371774</td>\n",
       "      <td>NaN</td>\n",
       "      <td>...</td>\n",
       "      <td>NaN</td>\n",
       "      <td>NaN</td>\n",
       "      <td>NaN</td>\n",
       "      <td>Public</td>\n",
       "      <td>NaN</td>\n",
       "      <td>NaN</td>\n",
       "      <td>NaN</td>\n",
       "      <td>NaN</td>\n",
       "      <td>['59080']</td>\n",
       "      <td>['AX80-APDK', 'AX80-AQNS', 'AX80-AREE', 'AX80-...</td>\n",
       "    </tr>\n",
       "  </tbody>\n",
       "</table>\n",
       "<p>90799 rows × 77 columns</p>\n",
       "</div>"
      ],
      "text/plain": [
       "      access_code                                   access_days_time  \\\n",
       "0         private                                                NaN   \n",
       "1         private                                                NaN   \n",
       "2         private                                                NaN   \n",
       "3          public                                     24 hours daily   \n",
       "4          public  24 hours daily; call 866-809-4869 for Clean En...   \n",
       "...           ...                                                ...   \n",
       "90794      public                                     24 hours daily   \n",
       "90795      public                                     24 hours daily   \n",
       "90796      public                                     24 hours daily   \n",
       "90797      public                                     24 hours daily   \n",
       "90798      public                                     24 hours daily   \n",
       "\n",
       "       access_detail_code                                     cards_accepted  \\\n",
       "0                     NaN                                                NaN   \n",
       "1              GOVERNMENT                                                NaN   \n",
       "2                     NaN                                                NaN   \n",
       "3      CREDIT_CARD_ALWAYS                                 CREDIT M V Voyager   \n",
       "4      CREDIT_CARD_ALWAYS  A CleanEnergy Comdata D FuelMan M V Voyager Wr...   \n",
       "...                   ...                                                ...   \n",
       "90794                 NaN                                                NaN   \n",
       "90795                 NaN                                                NaN   \n",
       "90796                 NaN                                                NaN   \n",
       "90797                 NaN                                                NaN   \n",
       "90798                 NaN                                            A D M V   \n",
       "\n",
       "      date_last_confirmed expected_date fuel_type_code  \\\n",
       "0              2024-10-11           NaN            CNG   \n",
       "1              2024-02-12           NaN            CNG   \n",
       "2              2023-12-13           NaN            CNG   \n",
       "3              2024-04-14           NaN            CNG   \n",
       "4              2024-11-06           NaN            CNG   \n",
       "...                   ...           ...            ...   \n",
       "90794          2024-11-21           NaN           ELEC   \n",
       "90795          2024-11-21           NaN           ELEC   \n",
       "90796          2024-11-21           NaN           ELEC   \n",
       "90797          2024-11-21           NaN           ELEC   \n",
       "90798          2024-11-21           NaN           ELEC   \n",
       "\n",
       "                 groups_with_access_code      id maximum_vehicle_class  ...  \\\n",
       "0                                Private      17                    MD  ...   \n",
       "1              Private - Government only      45                    LD  ...   \n",
       "2                                Private      64                    HD  ...   \n",
       "3      Public - Credit card at all times      73                    MD  ...   \n",
       "4      Public - Credit card at all times      81                    MD  ...   \n",
       "...                                  ...     ...                   ...  ...   \n",
       "90794                             Public  371770                   NaN  ...   \n",
       "90795                             Public  371771                   NaN  ...   \n",
       "90796                             Public  371772                   NaN  ...   \n",
       "90797                             Public  371773                   NaN  ...   \n",
       "90798                             Public  371774                   NaN  ...   \n",
       "\n",
       "      access_days_time_fr intersection_directions_fr bd_blends_fr  \\\n",
       "0                     NaN                        NaN          NaN   \n",
       "1                     NaN                        NaN          NaN   \n",
       "2                     NaN                        NaN          NaN   \n",
       "3                     NaN                        NaN          NaN   \n",
       "4                     NaN                        NaN          NaN   \n",
       "...                   ...                        ...          ...   \n",
       "90794                 NaN                        NaN          NaN   \n",
       "90795                 NaN                        NaN          NaN   \n",
       "90796                 NaN                        NaN          NaN   \n",
       "90797                 NaN                        NaN          NaN   \n",
       "90798                 NaN                        NaN          NaN   \n",
       "\n",
       "                   groups_with_access_code_fr ev_pricing_fr federal_agency.id  \\\n",
       "0                                       Privé           NaN               NaN   \n",
       "1             Privé - Réservé au gouvernement           NaN               NaN   \n",
       "2                                       Privé           NaN               NaN   \n",
       "3      Public - Carte de crédit en tout temps           NaN               NaN   \n",
       "4      Public - Carte de crédit en tout temps           NaN               NaN   \n",
       "...                                       ...           ...               ...   \n",
       "90794                                  Public           NaN               NaN   \n",
       "90795                                  Public           NaN               NaN   \n",
       "90796                                  Public           NaN               NaN   \n",
       "90797                                  Public           NaN               NaN   \n",
       "90798                                  Public           NaN               NaN   \n",
       "\n",
       "      federal_agency.code federal_agency.name  \\\n",
       "0                     NaN                 NaN   \n",
       "1                     NaN                 NaN   \n",
       "2                     NaN                 NaN   \n",
       "3                     NaN                 NaN   \n",
       "4                     NaN                 NaN   \n",
       "...                   ...                 ...   \n",
       "90794                 NaN                 NaN   \n",
       "90795                 NaN                 NaN   \n",
       "90796                 NaN                 NaN   \n",
       "90797                 NaN                 NaN   \n",
       "90798                 NaN                 NaN   \n",
       "\n",
       "                         ev_network_ids.station  \\\n",
       "0                                           NaN   \n",
       "1                                           NaN   \n",
       "2                                           NaN   \n",
       "3                                           NaN   \n",
       "4                                           NaN   \n",
       "...                                         ...   \n",
       "90794  ['b08ade98-43f1-4506-b820-20ac9377be8a']   \n",
       "90795  ['cfbad0f3-3968-4cea-891e-51d9d00bdd72']   \n",
       "90796  ['ccb3851a-a716-4254-9fca-9b622cd1737c']   \n",
       "90797  ['ac526980-fbed-4cd4-a491-23a984c6b2b0']   \n",
       "90798                                 ['59080']   \n",
       "\n",
       "                                    ev_network_ids.posts  \n",
       "0                                                    NaN  \n",
       "1                                                    NaN  \n",
       "2                                                    NaN  \n",
       "3                                                    NaN  \n",
       "4                                                    NaN  \n",
       "...                                                  ...  \n",
       "90794  ['6709a497dc9ef04fcb51a121', '6709a497dc9ef04f...  \n",
       "90795  ['6334036d769d347763920a36', '6334036d769d3477...  \n",
       "90796  ['63629495ed69bf480aac7e61', '63629495ed69bf48...  \n",
       "90797  ['64a8b721adb945566afb0721', '64b61e2db323a268...  \n",
       "90798  ['AX80-APDK', 'AX80-AQNS', 'AX80-AREE', 'AX80-...  \n",
       "\n",
       "[90799 rows x 77 columns]"
      ]
     },
     "execution_count": 3,
     "metadata": {},
     "output_type": "execute_result"
    }
   ],
   "source": [
    "df = pd.read_csv('data/fuel_stations.csv')\n",
    "df"
   ]
  },
  {
   "attachments": {},
   "cell_type": "markdown",
   "metadata": {},
   "source": [
    "There are so many columns in this dataset, lets just look at the ones that could bring more insights on EV Chargers"
   ]
  },
  {
   "cell_type": "code",
   "execution_count": 4,
   "metadata": {},
   "outputs": [
    {
     "data": {
      "text/plain": [
       "Index(['access_code', 'access_days_time', 'access_detail_code',\n",
       "       'cards_accepted', 'date_last_confirmed', 'expected_date',\n",
       "       'fuel_type_code', 'groups_with_access_code', 'id',\n",
       "       'maximum_vehicle_class', 'open_date', 'owner_type_code',\n",
       "       'restricted_access', 'status_code', 'funding_sources', 'facility_type',\n",
       "       'station_name', 'station_phone', 'updated_at', 'geocode_status',\n",
       "       'latitude', 'longitude', 'city', 'country', 'intersection_directions',\n",
       "       'plus4', 'state', 'street_address', 'zip', 'bd_blends',\n",
       "       'cng_dispenser_num', 'cng_fill_type_code', 'cng_has_rng', 'cng_psi',\n",
       "       'cng_renewable_source', 'cng_total_compression', 'cng_total_storage',\n",
       "       'cng_vehicle_class', 'e85_blender_pump', 'e85_other_ethanol_blends',\n",
       "       'ev_connector_types', 'ev_dc_fast_num', 'ev_level1_evse_num',\n",
       "       'ev_level2_evse_num', 'ev_network', 'ev_network_web', 'ev_other_evse',\n",
       "       'ev_pricing', 'ev_renewable_source', 'ev_workplace_charging',\n",
       "       'hy_is_retail', 'hy_pressures', 'hy_standards', 'hy_status_link',\n",
       "       'lng_has_rng', 'lng_renewable_source', 'lng_vehicle_class',\n",
       "       'lpg_nozzle_types', 'lpg_primary', 'ng_fill_type_code', 'ng_psi',\n",
       "       'ng_vehicle_class', 'rd_blended_with_biodiesel', 'rd_blends',\n",
       "       'rd_blends_fr', 'rd_max_biodiesel_level', 'nps_unit_name',\n",
       "       'access_days_time_fr', 'intersection_directions_fr', 'bd_blends_fr',\n",
       "       'groups_with_access_code_fr', 'ev_pricing_fr', 'federal_agency.id',\n",
       "       'federal_agency.code', 'federal_agency.name', 'ev_network_ids.station',\n",
       "       'ev_network_ids.posts'],\n",
       "      dtype='object')"
      ]
     },
     "execution_count": 4,
     "metadata": {},
     "output_type": "execute_result"
    }
   ],
   "source": [
    "df.columns"
   ]
  },
  {
   "attachments": {},
   "cell_type": "markdown",
   "metadata": {},
   "source": [
    "Below we can see that there are way too many facility types to consider, and many of them are 'nan.' So this isn't very useful to us"
   ]
  },
  {
   "cell_type": "code",
   "execution_count": 5,
   "metadata": {},
   "outputs": [
    {
     "data": {
      "text/plain": [
       "{nan: 59853,\n",
       " 'CONVENIENCE_STORE': 4942,\n",
       " 'HOTEL': 3170,\n",
       " 'CAR_DEALER': 2949,\n",
       " 'GAS_STATION': 2338,\n",
       " 'PARKING_LOT': 1456,\n",
       " 'PUBLIC': 1154,\n",
       " 'FUEL_RESELLER': 1101,\n",
       " 'FED_GOV': 1067,\n",
       " 'RENTAL_CAR_RETURN': 1042,\n",
       " 'OFFICE_BLDG': 1028,\n",
       " 'MUNI_GOV': 1020,\n",
       " 'SHOPPING_CENTER': 782,\n",
       " 'UTILITY': 648,\n",
       " 'COLLEGE_CAMPUS': 533,\n",
       " 'FLEET_GARAGE': 526,\n",
       " 'PARKING_GARAGE': 510,\n",
       " 'STANDALONE_STATION': 496,\n",
       " 'RESTAURANT': 486,\n",
       " 'GROCERY': 467,\n",
       " 'PAY_GARAGE': 412,\n",
       " 'INN': 358,\n",
       " 'BREWERY_DISTILLERY_WINERY': 288,\n",
       " 'TRAVEL_CENTER': 284,\n",
       " 'OTHER': 279,\n",
       " 'STATE_GOV': 270,\n",
       " 'MULTI_UNIT_DWELLING': 267,\n",
       " 'HOSPITAL': 246,\n",
       " 'SCHOOL': 231,\n",
       " 'PARK': 229,\n",
       " 'COOP': 206,\n",
       " 'AIRPORT': 191,\n",
       " 'NATL_PARK': 182,\n",
       " 'SHOPPING_MALL': 150,\n",
       " 'LIBRARY': 147,\n",
       " 'REC_SPORTS_FACILITY': 140,\n",
       " 'OTHER_ENTERTAINMENT': 137,\n",
       " 'MIL_BASE': 134,\n",
       " 'BANK': 134,\n",
       " 'MUSEUM': 95,\n",
       " 'B_AND_B': 85,\n",
       " 'FIRE_STATION': 79,\n",
       " 'STREET_PARKING': 78,\n",
       " 'TRUCK_STOP': 76,\n",
       " 'AUTO_REPAIR': 59,\n",
       " 'RESEARCH_FACILITY': 58,\n",
       " 'CAMPGROUND': 58,\n",
       " 'RETAIL': 50,\n",
       " 'PLACE_OF_WORSHIP': 43,\n",
       " 'PAY_LOT': 38,\n",
       " 'HARDWARE_STORE': 37,\n",
       " 'FACTORY': 32,\n",
       " 'REST_STOP': 29,\n",
       " 'PRISON': 27,\n",
       " 'CARWASH': 22,\n",
       " 'CONVENTION_CENTER': 20,\n",
       " 'STORAGE': 19,\n",
       " 'RV_PARK': 13,\n",
       " 'ARENA': 9,\n",
       " 'WORKPLACE': 7,\n",
       " 'MOTOR_POOL': 5,\n",
       " 'STADIUM': 3,\n",
       " 'PHARMACY': 3,\n",
       " 'TNC': 1}"
      ]
     },
     "execution_count": 5,
     "metadata": {},
     "output_type": "execute_result"
    }
   ],
   "source": [
    "# Count all unique facility in the 'facility_type' column\n",
    "facility_counts = df['facility_type'].value_counts(dropna=False).to_dict()\n",
    "facility_counts"
   ]
  },
  {
   "attachments": {},
   "cell_type": "markdown",
   "metadata": {},
   "source": [
    "It's interesting to see how many are utilizing renewable sources, and theres clearly a very limitted amount, and most are not even documented"
   ]
  },
  {
   "cell_type": "code",
   "execution_count": 6,
   "metadata": {},
   "outputs": [
    {
     "data": {
      "text/plain": [
       "{nan: 90390,\n",
       " 'SOLAR': 266,\n",
       " 'NONE': 100,\n",
       " 'WIND': 30,\n",
       " 'HYDRO': 10,\n",
       " 'WASTEWATER': 3}"
      ]
     },
     "execution_count": 6,
     "metadata": {},
     "output_type": "execute_result"
    }
   ],
   "source": [
    "# Count all unique renewable source in the 'ev_renewable_source' column\n",
    "ev_renewables_count = df['ev_renewable_source'].value_counts(dropna=False).to_dict()\n",
    "ev_renewables_count"
   ]
  },
  {
   "attachments": {},
   "cell_type": "markdown",
   "metadata": {},
   "source": [
    "Here we investigate the distribution of the different EV connector types, and there is some interesting data here that tells us that there are far more J1772 plugs than any other charger out there"
   ]
  },
  {
   "cell_type": "code",
   "execution_count": 7,
   "metadata": {},
   "outputs": [
    {
     "data": {
      "text/plain": [
       "{'J1772': 65261,\n",
       " 'None': 11566,\n",
       " 'J1772COMBO': 9767,\n",
       " 'TESLA': 7869,\n",
       " 'CHADEMO': 6398,\n",
       " 'NEMA515': 316,\n",
       " 'NEMA520': 171,\n",
       " 'NEMA1450': 159}"
      ]
     },
     "execution_count": 7,
     "metadata": {},
     "output_type": "execute_result"
    }
   ],
   "source": [
    "# Flatten the lists by parsing the string representation of lists into actual lists\n",
    "flattened_connectors = []\n",
    "\n",
    "for connectors in df['ev_connector_types'].dropna():\n",
    "    # Convert the string representation of lists to actual lists\n",
    "    connector_list = ast.literal_eval(connectors)\n",
    "    flattened_connectors.extend(connector_list)\n",
    "\n",
    "# Count the occurrences of each connector type\n",
    "connector_counts = Counter(flattened_connectors)\n",
    "\n",
    "# Include None\n",
    "nan_count = df['ev_connector_types'].isna().sum()\n",
    "connector_counts['None'] = nan_count\n",
    "\n",
    "# Sort the result by count\n",
    "ev_connectors_count_sorted = dict(sorted(connector_counts.items(), key=lambda item: item[1], reverse=True))\n",
    "\n",
    "# Display the sorted counts\n",
    "ev_connectors_count_sorted"
   ]
  },
  {
   "attachments": {},
   "cell_type": "markdown",
   "metadata": {},
   "source": [
    "Here I plot the number of each connector on a bar graph to get a better visual representation of the differences in values"
   ]
  },
  {
   "cell_type": "code",
   "execution_count": 8,
   "metadata": {},
   "outputs": [
    {
     "data": {
      "text/plain": [
       "<function matplotlib.pyplot.show(close=None, block=None)>"
      ]
     },
     "execution_count": 8,
     "metadata": {},
     "output_type": "execute_result"
    },
    {
     "data": {
      "image/png": "[encoded data removed]",
      "text/plain": [
       "<Figure size 1000x600 with 1 Axes>"
      ]
     },
     "metadata": {},
     "output_type": "display_data"
    }
   ],
   "source": [
    "plt.figure(figsize=(10,6))\n",
    "plt.bar(ev_connectors_count_sorted.keys(), ev_connectors_count_sorted.values(), color='skyblue')\n",
    "plt.title('Count of EV Connector Types in AFDC')\n",
    "plt.xlabel('Connector Type')\n",
    "plt.ylabel('Count')\n",
    "plt.xticks(rotation=45)\n",
    "plt.show"
   ]
  },
  {
   "attachments": {},
   "cell_type": "markdown",
   "metadata": {},
   "source": [
    "Here I get the count of each fuel type found in the dataset, and the overwhelming majority is electric"
   ]
  },
  {
   "cell_type": "code",
   "execution_count": 9,
   "metadata": {},
   "outputs": [
    {
     "data": {
      "text/plain": [
       "{'ELEC': 79276,\n",
       " 'E85': 4703,\n",
       " 'LPG': 2834,\n",
       " 'BD': 1791,\n",
       " 'CNG': 1322,\n",
       " 'RD': 655,\n",
       " 'LNG': 114,\n",
       " 'HY': 104}"
      ]
     },
     "execution_count": 9,
     "metadata": {},
     "output_type": "execute_result"
    }
   ],
   "source": [
    "# Count all unique fuel types in the 'fuel_type_code' column\n",
    "fuel_code_count = df['fuel_type_code'].value_counts(dropna=False).to_dict()\n",
    "fuel_code_count"
   ]
  },
  {
   "attachments": {},
   "cell_type": "markdown",
   "metadata": {},
   "source": [
    "Here I plot the count of each fuel type to help visualize how drastic the differnece in values are"
   ]
  },
  {
   "cell_type": "code",
   "execution_count": 10,
   "metadata": {},
   "outputs": [
    {
     "data": {
      "image/png": "[encoded data removed]",
      "text/plain": [
       "<Figure size 1000x600 with 1 Axes>"
      ]
     },
     "metadata": {},
     "output_type": "display_data"
    }
   ],
   "source": [
    "plt.figure(figsize=(10,6))\n",
    "plt.bar(fuel_code_count.keys(), fuel_code_count.values(), color='blue')\n",
    "plt.title('Count of Fuel Types in AFDC')\n",
    "plt.xlabel('Fuel Type')\n",
    "plt.ylabel('Count')\n",
    "plt.xticks(rotation=45)\n",
    "plt.show()"
   ]
  },
  {
   "attachments": {},
   "cell_type": "markdown",
   "metadata": {},
   "source": [
    "Here I get the columns I found relevant to get more insight on the EV Chargers, as most of the other columns give us information about other fuel types or are just completely irrelevant."
   ]
  },
  {
   "cell_type": "code",
   "execution_count": 11,
   "metadata": {},
   "outputs": [
    {
     "name": "stderr",
     "output_type": "stream",
     "text": [
      "/var/folders/6g/hzhm6cpn3n53kypvmqckpqrh0000gn/T/ipykernel_84225/3734144729.py:9: SettingWithCopyWarning: \n",
      "A value is trying to be set on a copy of a slice from a DataFrame.\n",
      "Try using .loc[row_indexer,col_indexer] = value instead\n",
      "\n",
      "See the caveats in the documentation: https://pandas.pydata.org/pandas-docs/stable/user_guide/indexing.html#returning-a-view-versus-a-copy\n",
      "  rdf_ELEC['open_date'] = pd.to_datetime(rdf_ELEC['open_date'], errors='coerce')\n"
     ]
    },
    {
     "data": {
      "text/html": [
       "<div>\n",
       "<style scoped>\n",
       "    .dataframe tbody tr th:only-of-type {\n",
       "        vertical-align: middle;\n",
       "    }\n",
       "\n",
       "    .dataframe tbody tr th {\n",
       "        vertical-align: top;\n",
       "    }\n",
       "\n",
       "    .dataframe thead th {\n",
       "        text-align: right;\n",
       "    }\n",
       "</style>\n",
       "<table border=\"1\" class=\"dataframe\">\n",
       "  <thead>\n",
       "    <tr style=\"text-align: right;\">\n",
       "      <th></th>\n",
       "      <th>id</th>\n",
       "      <th>access_code</th>\n",
       "      <th>fuel_type_code</th>\n",
       "      <th>open_date</th>\n",
       "      <th>date_last_confirmed</th>\n",
       "      <th>state</th>\n",
       "      <th>zip</th>\n",
       "      <th>city</th>\n",
       "      <th>latitude</th>\n",
       "      <th>longitude</th>\n",
       "      <th>ev_connector_types</th>\n",
       "      <th>ev_network</th>\n",
       "    </tr>\n",
       "  </thead>\n",
       "  <tbody>\n",
       "    <tr>\n",
       "      <th>124</th>\n",
       "      <td>1517</td>\n",
       "      <td>private</td>\n",
       "      <td>ELEC</td>\n",
       "      <td>1999-10-15</td>\n",
       "      <td>2023-09-14</td>\n",
       "      <td>CA</td>\n",
       "      <td>91352</td>\n",
       "      <td>Sun Valley</td>\n",
       "      <td>34.248319</td>\n",
       "      <td>-118.387971</td>\n",
       "      <td>['CHADEMO', 'J1772', 'J1772COMBO']</td>\n",
       "      <td>SHELL_RECHARGE</td>\n",
       "    </tr>\n",
       "    <tr>\n",
       "      <th>125</th>\n",
       "      <td>1523</td>\n",
       "      <td>public</td>\n",
       "      <td>ELEC</td>\n",
       "      <td>1995-08-30</td>\n",
       "      <td>2023-01-10</td>\n",
       "      <td>CA</td>\n",
       "      <td>90015</td>\n",
       "      <td>Los Angeles</td>\n",
       "      <td>34.040539</td>\n",
       "      <td>-118.271387</td>\n",
       "      <td>['J1772']</td>\n",
       "      <td>Non-Networked</td>\n",
       "    </tr>\n",
       "    <tr>\n",
       "      <th>126</th>\n",
       "      <td>1525</td>\n",
       "      <td>private</td>\n",
       "      <td>ELEC</td>\n",
       "      <td>1999-10-15</td>\n",
       "      <td>2023-09-14</td>\n",
       "      <td>CA</td>\n",
       "      <td>90012</td>\n",
       "      <td>Los Angeles</td>\n",
       "      <td>34.059133</td>\n",
       "      <td>-118.248589</td>\n",
       "      <td>['CHADEMO', 'J1772', 'J1772COMBO']</td>\n",
       "      <td>Non-Networked</td>\n",
       "    </tr>\n",
       "    <tr>\n",
       "      <th>127</th>\n",
       "      <td>1531</td>\n",
       "      <td>private</td>\n",
       "      <td>ELEC</td>\n",
       "      <td>2018-05-01</td>\n",
       "      <td>2024-01-09</td>\n",
       "      <td>CA</td>\n",
       "      <td>90803</td>\n",
       "      <td>Long Beach</td>\n",
       "      <td>33.759802</td>\n",
       "      <td>-118.096665</td>\n",
       "      <td>['CHADEMO', 'J1772', 'J1772COMBO']</td>\n",
       "      <td>Non-Networked</td>\n",
       "    </tr>\n",
       "    <tr>\n",
       "      <th>128</th>\n",
       "      <td>1552</td>\n",
       "      <td>private</td>\n",
       "      <td>ELEC</td>\n",
       "      <td>1999-10-15</td>\n",
       "      <td>2024-01-09</td>\n",
       "      <td>CA</td>\n",
       "      <td>90744</td>\n",
       "      <td>Wilmington</td>\n",
       "      <td>33.770508</td>\n",
       "      <td>-118.265628</td>\n",
       "      <td>['J1772']</td>\n",
       "      <td>Non-Networked</td>\n",
       "    </tr>\n",
       "    <tr>\n",
       "      <th>...</th>\n",
       "      <td>...</td>\n",
       "      <td>...</td>\n",
       "      <td>...</td>\n",
       "      <td>...</td>\n",
       "      <td>...</td>\n",
       "      <td>...</td>\n",
       "      <td>...</td>\n",
       "      <td>...</td>\n",
       "      <td>...</td>\n",
       "      <td>...</td>\n",
       "      <td>...</td>\n",
       "      <td>...</td>\n",
       "    </tr>\n",
       "    <tr>\n",
       "      <th>90794</th>\n",
       "      <td>371770</td>\n",
       "      <td>public</td>\n",
       "      <td>ELEC</td>\n",
       "      <td>2024-11-21</td>\n",
       "      <td>2024-11-21</td>\n",
       "      <td>NC</td>\n",
       "      <td>27405</td>\n",
       "      <td>GREENSBORO</td>\n",
       "      <td>36.086100</td>\n",
       "      <td>-79.781702</td>\n",
       "      <td>['J1772COMBO']</td>\n",
       "      <td>EV Connect</td>\n",
       "    </tr>\n",
       "    <tr>\n",
       "      <th>90795</th>\n",
       "      <td>371771</td>\n",
       "      <td>public</td>\n",
       "      <td>ELEC</td>\n",
       "      <td>2024-11-21</td>\n",
       "      <td>2024-11-21</td>\n",
       "      <td>CA</td>\n",
       "      <td>91606</td>\n",
       "      <td>North Hollywood</td>\n",
       "      <td>34.183859</td>\n",
       "      <td>-118.387419</td>\n",
       "      <td>['J1772']</td>\n",
       "      <td>EV Connect</td>\n",
       "    </tr>\n",
       "    <tr>\n",
       "      <th>90796</th>\n",
       "      <td>371772</td>\n",
       "      <td>public</td>\n",
       "      <td>ELEC</td>\n",
       "      <td>2024-11-21</td>\n",
       "      <td>2024-11-21</td>\n",
       "      <td>CA</td>\n",
       "      <td>90503</td>\n",
       "      <td>Torrance</td>\n",
       "      <td>33.836794</td>\n",
       "      <td>-118.356955</td>\n",
       "      <td>['J1772']</td>\n",
       "      <td>EV Connect</td>\n",
       "    </tr>\n",
       "    <tr>\n",
       "      <th>90797</th>\n",
       "      <td>371773</td>\n",
       "      <td>public</td>\n",
       "      <td>ELEC</td>\n",
       "      <td>2024-11-21</td>\n",
       "      <td>2024-11-21</td>\n",
       "      <td>GA</td>\n",
       "      <td>30830</td>\n",
       "      <td>WAYNESBORO</td>\n",
       "      <td>33.111382</td>\n",
       "      <td>-82.026612</td>\n",
       "      <td>['J1772', 'J1772COMBO']</td>\n",
       "      <td>EV Connect</td>\n",
       "    </tr>\n",
       "    <tr>\n",
       "      <th>90798</th>\n",
       "      <td>371774</td>\n",
       "      <td>public</td>\n",
       "      <td>ELEC</td>\n",
       "      <td>2024-11-21</td>\n",
       "      <td>2024-11-21</td>\n",
       "      <td>HI</td>\n",
       "      <td>96813</td>\n",
       "      <td>Honolulu</td>\n",
       "      <td>21.307583</td>\n",
       "      <td>-157.863826</td>\n",
       "      <td>['J1772']</td>\n",
       "      <td>FLASH</td>\n",
       "    </tr>\n",
       "  </tbody>\n",
       "</table>\n",
       "<p>79276 rows × 12 columns</p>\n",
       "</div>"
      ],
      "text/plain": [
       "           id access_code fuel_type_code  open_date date_last_confirmed state  \\\n",
       "124      1517     private           ELEC 1999-10-15          2023-09-14    CA   \n",
       "125      1523      public           ELEC 1995-08-30          2023-01-10    CA   \n",
       "126      1525     private           ELEC 1999-10-15          2023-09-14    CA   \n",
       "127      1531     private           ELEC 2018-05-01          2024-01-09    CA   \n",
       "128      1552     private           ELEC 1999-10-15          2024-01-09    CA   \n",
       "...       ...         ...            ...        ...                 ...   ...   \n",
       "90794  371770      public           ELEC 2024-11-21          2024-11-21    NC   \n",
       "90795  371771      public           ELEC 2024-11-21          2024-11-21    CA   \n",
       "90796  371772      public           ELEC 2024-11-21          2024-11-21    CA   \n",
       "90797  371773      public           ELEC 2024-11-21          2024-11-21    GA   \n",
       "90798  371774      public           ELEC 2024-11-21          2024-11-21    HI   \n",
       "\n",
       "         zip             city   latitude   longitude  \\\n",
       "124    91352       Sun Valley  34.248319 -118.387971   \n",
       "125    90015      Los Angeles  34.040539 -118.271387   \n",
       "126    90012      Los Angeles  34.059133 -118.248589   \n",
       "127    90803       Long Beach  33.759802 -118.096665   \n",
       "128    90744       Wilmington  33.770508 -118.265628   \n",
       "...      ...              ...        ...         ...   \n",
       "90794  27405       GREENSBORO  36.086100  -79.781702   \n",
       "90795  91606  North Hollywood  34.183859 -118.387419   \n",
       "90796  90503         Torrance  33.836794 -118.356955   \n",
       "90797  30830       WAYNESBORO  33.111382  -82.026612   \n",
       "90798  96813         Honolulu  21.307583 -157.863826   \n",
       "\n",
       "                       ev_connector_types      ev_network  \n",
       "124    ['CHADEMO', 'J1772', 'J1772COMBO']  SHELL_RECHARGE  \n",
       "125                             ['J1772']   Non-Networked  \n",
       "126    ['CHADEMO', 'J1772', 'J1772COMBO']   Non-Networked  \n",
       "127    ['CHADEMO', 'J1772', 'J1772COMBO']   Non-Networked  \n",
       "128                             ['J1772']   Non-Networked  \n",
       "...                                   ...             ...  \n",
       "90794                      ['J1772COMBO']      EV Connect  \n",
       "90795                           ['J1772']      EV Connect  \n",
       "90796                           ['J1772']      EV Connect  \n",
       "90797             ['J1772', 'J1772COMBO']      EV Connect  \n",
       "90798                           ['J1772']           FLASH  \n",
       "\n",
       "[79276 rows x 12 columns]"
      ]
     },
     "execution_count": 11,
     "metadata": {},
     "output_type": "execute_result"
    }
   ],
   "source": [
    "# Extracting the relevant columns in the dataframe for analysis\n",
    "relevant_columns = ['id', 'access_code', 'fuel_type_code', 'open_date', 'date_last_confirmed', \n",
    "                    'state', 'zip', 'city', 'latitude', 'longitude', 'ev_connector_types', 'ev_network'\n",
    "                    ]\n",
    "rdf = df[relevant_columns]\n",
    "\n",
    "# Getting only Electric fuel types\n",
    "rdf_ELEC = rdf[rdf['fuel_type_code'] == 'ELEC']\n",
    "rdf_ELEC['open_date'] = pd.to_datetime(rdf_ELEC['open_date'], errors='coerce')\n",
    "rdf_ELEC"
   ]
  },
  {
   "attachments": {},
   "cell_type": "markdown",
   "metadata": {},
   "source": [
    "Here I use data from the internet that contains all the zip codes in SDGE and I use that to condence down the dataframe into just the rows that have a zip code in the SDGE territory"
   ]
  },
  {
   "cell_type": "code",
   "execution_count": 12,
   "metadata": {},
   "outputs": [
    {
     "name": "stderr",
     "output_type": "stream",
     "text": [
      "/var/folders/6g/hzhm6cpn3n53kypvmqckpqrh0000gn/T/ipykernel_84225/89281783.py:8: SettingWithCopyWarning: \n",
      "A value is trying to be set on a copy of a slice from a DataFrame.\n",
      "Try using .loc[row_indexer,col_indexer] = value instead\n",
      "\n",
      "See the caveats in the documentation: https://pandas.pydata.org/pandas-docs/stable/user_guide/indexing.html#returning-a-view-versus-a-copy\n",
      "  rdf_ELEC['zip'] = rdf_ELEC['zip'].astype(str)\n"
     ]
    },
    {
     "data": {
      "text/html": [
       "<div>\n",
       "<style scoped>\n",
       "    .dataframe tbody tr th:only-of-type {\n",
       "        vertical-align: middle;\n",
       "    }\n",
       "\n",
       "    .dataframe tbody tr th {\n",
       "        vertical-align: top;\n",
       "    }\n",
       "\n",
       "    .dataframe thead th {\n",
       "        text-align: right;\n",
       "    }\n",
       "</style>\n",
       "<table border=\"1\" class=\"dataframe\">\n",
       "  <thead>\n",
       "    <tr style=\"text-align: right;\">\n",
       "      <th></th>\n",
       "      <th>id</th>\n",
       "      <th>access_code</th>\n",
       "      <th>fuel_type_code</th>\n",
       "      <th>open_date</th>\n",
       "      <th>date_last_confirmed</th>\n",
       "      <th>state</th>\n",
       "      <th>zip</th>\n",
       "      <th>city</th>\n",
       "      <th>latitude</th>\n",
       "      <th>longitude</th>\n",
       "      <th>ev_connector_types</th>\n",
       "      <th>ev_network</th>\n",
       "    </tr>\n",
       "  </thead>\n",
       "  <tbody>\n",
       "    <tr>\n",
       "      <th>136</th>\n",
       "      <td>6355</td>\n",
       "      <td>public</td>\n",
       "      <td>ELEC</td>\n",
       "      <td>1997-07-30</td>\n",
       "      <td>2024-08-15</td>\n",
       "      <td>CA</td>\n",
       "      <td>92037</td>\n",
       "      <td>La Jolla</td>\n",
       "      <td>32.899470</td>\n",
       "      <td>-117.243000</td>\n",
       "      <td>['J1772']</td>\n",
       "      <td>Non-Networked</td>\n",
       "    </tr>\n",
       "    <tr>\n",
       "      <th>3091</th>\n",
       "      <td>39886</td>\n",
       "      <td>public</td>\n",
       "      <td>ELEC</td>\n",
       "      <td>2011-03-15</td>\n",
       "      <td>2024-02-12</td>\n",
       "      <td>CA</td>\n",
       "      <td>92020</td>\n",
       "      <td>El Cajon</td>\n",
       "      <td>32.795896</td>\n",
       "      <td>-116.976156</td>\n",
       "      <td>['J1772']</td>\n",
       "      <td>Non-Networked</td>\n",
       "    </tr>\n",
       "    <tr>\n",
       "      <th>3094</th>\n",
       "      <td>39889</td>\n",
       "      <td>public</td>\n",
       "      <td>ELEC</td>\n",
       "      <td>2011-03-15</td>\n",
       "      <td>2024-02-12</td>\n",
       "      <td>CA</td>\n",
       "      <td>92029</td>\n",
       "      <td>Escondido</td>\n",
       "      <td>33.116492</td>\n",
       "      <td>-117.106837</td>\n",
       "      <td>['J1772']</td>\n",
       "      <td>Non-Networked</td>\n",
       "    </tr>\n",
       "    <tr>\n",
       "      <th>3118</th>\n",
       "      <td>39915</td>\n",
       "      <td>public</td>\n",
       "      <td>ELEC</td>\n",
       "      <td>2011-03-15</td>\n",
       "      <td>2024-02-12</td>\n",
       "      <td>CA</td>\n",
       "      <td>91950</td>\n",
       "      <td>National City</td>\n",
       "      <td>32.659001</td>\n",
       "      <td>-117.100836</td>\n",
       "      <td>['J1772']</td>\n",
       "      <td>Non-Networked</td>\n",
       "    </tr>\n",
       "    <tr>\n",
       "      <th>3119</th>\n",
       "      <td>39916</td>\n",
       "      <td>public</td>\n",
       "      <td>ELEC</td>\n",
       "      <td>2011-03-15</td>\n",
       "      <td>2024-02-12</td>\n",
       "      <td>CA</td>\n",
       "      <td>92056</td>\n",
       "      <td>Oceanside</td>\n",
       "      <td>33.181953</td>\n",
       "      <td>-117.298334</td>\n",
       "      <td>['CHADEMO', 'J1772', 'J1772COMBO']</td>\n",
       "      <td>Non-Networked</td>\n",
       "    </tr>\n",
       "    <tr>\n",
       "      <th>...</th>\n",
       "      <td>...</td>\n",
       "      <td>...</td>\n",
       "      <td>...</td>\n",
       "      <td>...</td>\n",
       "      <td>...</td>\n",
       "      <td>...</td>\n",
       "      <td>...</td>\n",
       "      <td>...</td>\n",
       "      <td>...</td>\n",
       "      <td>...</td>\n",
       "      <td>...</td>\n",
       "      <td>...</td>\n",
       "    </tr>\n",
       "    <tr>\n",
       "      <th>90527</th>\n",
       "      <td>371388</td>\n",
       "      <td>public</td>\n",
       "      <td>ELEC</td>\n",
       "      <td>2024-11-16</td>\n",
       "      <td>2024-11-21</td>\n",
       "      <td>CA</td>\n",
       "      <td>92154</td>\n",
       "      <td>San Diego</td>\n",
       "      <td>32.565890</td>\n",
       "      <td>-116.918901</td>\n",
       "      <td>['J1772']</td>\n",
       "      <td>ChargePoint Network</td>\n",
       "    </tr>\n",
       "    <tr>\n",
       "      <th>90650</th>\n",
       "      <td>371540</td>\n",
       "      <td>public</td>\n",
       "      <td>ELEC</td>\n",
       "      <td>2024-11-19</td>\n",
       "      <td>2024-11-21</td>\n",
       "      <td>CA</td>\n",
       "      <td>92024</td>\n",
       "      <td>Encinitas</td>\n",
       "      <td>33.061196</td>\n",
       "      <td>-117.262326</td>\n",
       "      <td>['J1772']</td>\n",
       "      <td>ChargePoint Network</td>\n",
       "    </tr>\n",
       "    <tr>\n",
       "      <th>90711</th>\n",
       "      <td>371656</td>\n",
       "      <td>public</td>\n",
       "      <td>ELEC</td>\n",
       "      <td>2024-11-20</td>\n",
       "      <td>2024-11-21</td>\n",
       "      <td>CA</td>\n",
       "      <td>92694</td>\n",
       "      <td>Ladera Ranch</td>\n",
       "      <td>33.557595</td>\n",
       "      <td>-117.627120</td>\n",
       "      <td>['J1772']</td>\n",
       "      <td>ChargePoint Network</td>\n",
       "    </tr>\n",
       "    <tr>\n",
       "      <th>90712</th>\n",
       "      <td>371657</td>\n",
       "      <td>public</td>\n",
       "      <td>ELEC</td>\n",
       "      <td>2024-11-20</td>\n",
       "      <td>2024-11-21</td>\n",
       "      <td>CA</td>\n",
       "      <td>92694</td>\n",
       "      <td>Ladera Ranch</td>\n",
       "      <td>33.558222</td>\n",
       "      <td>-117.627168</td>\n",
       "      <td>['J1772']</td>\n",
       "      <td>ChargePoint Network</td>\n",
       "    </tr>\n",
       "    <tr>\n",
       "      <th>90740</th>\n",
       "      <td>371699</td>\n",
       "      <td>public</td>\n",
       "      <td>ELEC</td>\n",
       "      <td>2025-01-01</td>\n",
       "      <td>NaN</td>\n",
       "      <td>CA</td>\n",
       "      <td>92059</td>\n",
       "      <td>Pala</td>\n",
       "      <td>33.364270</td>\n",
       "      <td>-117.087110</td>\n",
       "      <td>['CHADEMO', 'J1772', 'J1772COMBO']</td>\n",
       "      <td>Non-Networked</td>\n",
       "    </tr>\n",
       "  </tbody>\n",
       "</table>\n",
       "<p>1716 rows × 12 columns</p>\n",
       "</div>"
      ],
      "text/plain": [
       "           id access_code fuel_type_code  open_date date_last_confirmed state  \\\n",
       "136      6355      public           ELEC 1997-07-30          2024-08-15    CA   \n",
       "3091    39886      public           ELEC 2011-03-15          2024-02-12    CA   \n",
       "3094    39889      public           ELEC 2011-03-15          2024-02-12    CA   \n",
       "3118    39915      public           ELEC 2011-03-15          2024-02-12    CA   \n",
       "3119    39916      public           ELEC 2011-03-15          2024-02-12    CA   \n",
       "...       ...         ...            ...        ...                 ...   ...   \n",
       "90527  371388      public           ELEC 2024-11-16          2024-11-21    CA   \n",
       "90650  371540      public           ELEC 2024-11-19          2024-11-21    CA   \n",
       "90711  371656      public           ELEC 2024-11-20          2024-11-21    CA   \n",
       "90712  371657      public           ELEC 2024-11-20          2024-11-21    CA   \n",
       "90740  371699      public           ELEC 2025-01-01                 NaN    CA   \n",
       "\n",
       "         zip           city   latitude   longitude  \\\n",
       "136    92037       La Jolla  32.899470 -117.243000   \n",
       "3091   92020       El Cajon  32.795896 -116.976156   \n",
       "3094   92029      Escondido  33.116492 -117.106837   \n",
       "3118   91950  National City  32.659001 -117.100836   \n",
       "3119   92056      Oceanside  33.181953 -117.298334   \n",
       "...      ...            ...        ...         ...   \n",
       "90527  92154      San Diego  32.565890 -116.918901   \n",
       "90650  92024      Encinitas  33.061196 -117.262326   \n",
       "90711  92694   Ladera Ranch  33.557595 -117.627120   \n",
       "90712  92694   Ladera Ranch  33.558222 -117.627168   \n",
       "90740  92059           Pala  33.364270 -117.087110   \n",
       "\n",
       "                       ev_connector_types           ev_network  \n",
       "136                             ['J1772']        Non-Networked  \n",
       "3091                            ['J1772']        Non-Networked  \n",
       "3094                            ['J1772']        Non-Networked  \n",
       "3118                            ['J1772']        Non-Networked  \n",
       "3119   ['CHADEMO', 'J1772', 'J1772COMBO']        Non-Networked  \n",
       "...                                   ...                  ...  \n",
       "90527                           ['J1772']  ChargePoint Network  \n",
       "90650                           ['J1772']  ChargePoint Network  \n",
       "90711                           ['J1772']  ChargePoint Network  \n",
       "90712                           ['J1772']  ChargePoint Network  \n",
       "90740  ['CHADEMO', 'J1772', 'J1772COMBO']        Non-Networked  \n",
       "\n",
       "[1716 rows x 12 columns]"
      ]
     },
     "execution_count": 12,
     "metadata": {},
     "output_type": "execute_result"
    }
   ],
   "source": [
    "# Read in csv that contains all the zip codes in the SDGE Territory \n",
    "# and creates a list of unique zip codes in SDGE\n",
    "SDGE_zip_codes_df = pd.read_csv('data/SDGE_zip_codes_2024.csv')\n",
    "SDGE_zip_codes = SDGE_zip_codes_df['ZipCode'].unique()\n",
    "SDGE_zip_codes = [str(zip_code) for zip_code in SDGE_zip_codes]\n",
    "\n",
    "# Create Dataframe of all Electric Fuel sources in SDGE Zip codes\n",
    "rdf_ELEC['zip'] = rdf_ELEC['zip'].astype(str)\n",
    "SDGE_df = rdf_ELEC[rdf_ELEC['zip'].isin(SDGE_zip_codes)]\n",
    "SDGE_df\n"
   ]
  },
  {
   "attachments": {},
   "cell_type": "markdown",
   "metadata": {},
   "source": [
    "# Time series graph shows massive increase in EV Charging Stations in 2020"
   ]
  },
  {
   "attachments": {},
   "cell_type": "markdown",
   "metadata": {},
   "source": [
    "Getting the total number of EV chargers added per year in the SDGE territory"
   ]
  },
  {
   "cell_type": "code",
   "execution_count": 13,
   "metadata": {},
   "outputs": [],
   "source": [
    "# Group by the number entries there are for each year\n",
    "SDGE_growth_df = SDGE_df.groupby(SDGE_df['open_date'].dt.to_period('Y')).size().reset_index(name='stations_confirmed')\n",
    "\n",
    "# Create a new column calculating the total number of stations there are\n",
    "SDGE_growth_df['cumulative_stations'] = SDGE_growth_df['stations_confirmed'].cumsum()\n",
    "SDGE_growth_df = SDGE_growth_df[(SDGE_growth_df['open_date'].dt.year > 2000) & (SDGE_growth_df['open_date'].dt.year < 2025)]\n",
    "SDGE_growth_df['open_date'] = SDGE_growth_df['open_date'].dt.to_timestamp()"
   ]
  },
  {
   "attachments": {},
   "cell_type": "markdown",
   "metadata": {},
   "source": [
    "Plot the Time Series graph to see the massive growth spike in EV chargers being built in 2020"
   ]
  },
  {
   "cell_type": "code",
   "execution_count": 14,
   "metadata": {},
   "outputs": [
    {
     "data": {
      "application/vnd.plotly.v1+json": {
       "config": {
        "plotlyServerURL": "https://plot.ly"
       },
       "data": [
        {
         "hovertemplate": "Legend=cumulative_stations<br>open_date=%{x}<br>Number of Charging Stations=%{y}<extra></extra>",
         "legendgroup": "cumulative_stations",
         "line": {
          "color": "#636efa",
          "dash": "solid"
         },
         "marker": {
          "symbol": "circle"
         },
         "mode": "lines+markers",
         "name": "Cumulative Chargers",
         "orientation": "v",
         "showlegend": true,
         "type": "scatter",
         "x": [
          "2006-01-01T00:00:00",
          "2011-01-01T00:00:00",
          "2012-01-01T00:00:00",
          "2013-01-01T00:00:00",
          "2014-01-01T00:00:00",
          "2015-01-01T00:00:00",
          "2016-01-01T00:00:00",
          "2017-01-01T00:00:00",
          "2018-01-01T00:00:00",
          "2019-01-01T00:00:00",
          "2020-01-01T00:00:00",
          "2021-01-01T00:00:00",
          "2022-01-01T00:00:00",
          "2023-01-01T00:00:00",
          "2024-01-01T00:00:00"
         ],
         "xaxis": "x",
         "y": [
          2,
          21,
          33,
          40,
          57,
          99,
          137,
          155,
          190,
          252,
          480,
          912,
          1313,
          1524,
          1700
         ],
         "yaxis": "y"
        },
        {
         "hovertemplate": "Legend=stations_confirmed<br>open_date=%{x}<br>Number of Charging Stations=%{y}<extra></extra>",
         "legendgroup": "stations_confirmed",
         "line": {
          "color": "#EF553B",
          "dash": "solid"
         },
         "marker": {
          "symbol": "circle"
         },
         "mode": "lines+markers",
         "name": "Chargers Added That Year",
         "orientation": "v",
         "showlegend": true,
         "type": "scatter",
         "x": [
          "2006-01-01T00:00:00",
          "2011-01-01T00:00:00",
          "2012-01-01T00:00:00",
          "2013-01-01T00:00:00",
          "2014-01-01T00:00:00",
          "2015-01-01T00:00:00",
          "2016-01-01T00:00:00",
          "2017-01-01T00:00:00",
          "2018-01-01T00:00:00",
          "2019-01-01T00:00:00",
          "2020-01-01T00:00:00",
          "2021-01-01T00:00:00",
          "2022-01-01T00:00:00",
          "2023-01-01T00:00:00",
          "2024-01-01T00:00:00"
         ],
         "xaxis": "x",
         "y": [
          1,
          19,
          12,
          7,
          17,
          42,
          38,
          18,
          35,
          62,
          228,
          432,
          401,
          211,
          176
         ],
         "yaxis": "y"
        }
       ],
       "layout": {
        "height": 600,
        "legend": {
         "title": {
          "text": "Legend"
         },
         "tracegroupgap": 0
        },
        "template": {
         "data": {
          "bar": [
           {
            "error_x": {
             "color": "#2a3f5f"
            },
            "error_y": {
             "color": "#2a3f5f"
            },
            "marker": {
             "line": {
              "color": "#E5ECF6",
              "width": 0.5
             },
             "pattern": {
              "fillmode": "overlay",
              "size": 10,
              "solidity": 0.2
             }
            },
            "type": "bar"
           }
          ],
          "barpolar": [
           {
            "marker": {
             "line": {
              "color": "#E5ECF6",
              "width": 0.5
             },
             "pattern": {
              "fillmode": "overlay",
              "size": 10,
              "solidity": 0.2
             }
            },
            "type": "barpolar"
           }
          ],
          "carpet": [
           {
            "aaxis": {
             "endlinecolor": "#2a3f5f",
             "gridcolor": "white",
             "linecolor": "white",
             "minorgridcolor": "white",
             "startlinecolor": "#2a3f5f"
            },
            "baxis": {
             "endlinecolor": "#2a3f5f",
             "gridcolor": "white",
             "linecolor": "white",
             "minorgridcolor": "white",
             "startlinecolor": "#2a3f5f"
            },
            "type": "carpet"
           }
          ],
          "choropleth": [
           {
            "colorbar": {
             "outlinewidth": 0,
             "ticks": ""
            },
            "type": "choropleth"
           }
          ],
          "contour": [
           {
            "colorbar": {
             "outlinewidth": 0,
             "ticks": ""
            },
            "colorscale": [
             [
              0,
              "#0d0887"
             ],
             [
              0.1111111111111111,
              "#46039f"
             ],
             [
              0.2222222222222222,
              "#7201a8"
             ],
             [
              0.3333333333333333,
              "#9c179e"
             ],
             [
              0.4444444444444444,
              "#bd3786"
             ],
             [
              0.5555555555555556,
              "#d8576b"
             ],
             [
              0.6666666666666666,
              "#ed7953"
             ],
             [
              0.7777777777777778,
              "#fb9f3a"
             ],
             [
              0.8888888888888888,
              "#fdca26"
             ],
             [
              1,
              "#f0f921"
             ]
            ],
            "type": "contour"
           }
          ],
          "contourcarpet": [
           {
            "colorbar": {
             "outlinewidth": 0,
             "ticks": ""
            },
            "type": "contourcarpet"
           }
          ],
          "heatmap": [
           {
            "colorbar": {
             "outlinewidth": 0,
             "ticks": ""
            },
            "colorscale": [
             [
              0,
              "#0d0887"
             ],
             [
              0.1111111111111111,
              "#46039f"
             ],
             [
              0.2222222222222222,
              "#7201a8"
             ],
             [
              0.3333333333333333,
              "#9c179e"
             ],
             [
              0.4444444444444444,
              "#bd3786"
             ],
             [
              0.5555555555555556,
              "#d8576b"
             ],
             [
              0.6666666666666666,
              "#ed7953"
             ],
             [
              0.7777777777777778,
              "#fb9f3a"
             ],
             [
              0.8888888888888888,
              "#fdca26"
             ],
             [
              1,
              "#f0f921"
             ]
            ],
            "type": "heatmap"
           }
          ],
          "heatmapgl": [
           {
            "colorbar": {
             "outlinewidth": 0,
             "ticks": ""
            },
            "colorscale": [
             [
              0,
              "#0d0887"
             ],
             [
              0.1111111111111111,
              "#46039f"
             ],
             [
              0.2222222222222222,
              "#7201a8"
             ],
             [
              0.3333333333333333,
              "#9c179e"
             ],
             [
              0.4444444444444444,
              "#bd3786"
             ],
             [
              0.5555555555555556,
              "#d8576b"
             ],
             [
              0.6666666666666666,
              "#ed7953"
             ],
             [
              0.7777777777777778,
              "#fb9f3a"
             ],
             [
              0.8888888888888888,
              "#fdca26"
             ],
             [
              1,
              "#f0f921"
             ]
            ],
            "type": "heatmapgl"
           }
          ],
          "histogram": [
           {
            "marker": {
             "pattern": {
              "fillmode": "overlay",
              "size": 10,
              "solidity": 0.2
             }
            },
            "type": "histogram"
           }
          ],
          "histogram2d": [
           {
            "colorbar": {
             "outlinewidth": 0,
             "ticks": ""
            },
            "colorscale": [
             [
              0,
              "#0d0887"
             ],
             [
              0.1111111111111111,
              "#46039f"
             ],
             [
              0.2222222222222222,
              "#7201a8"
             ],
             [
              0.3333333333333333,
              "#9c179e"
             ],
             [
              0.4444444444444444,
              "#bd3786"
             ],
             [
              0.5555555555555556,
              "#d8576b"
             ],
             [
              0.6666666666666666,
              "#ed7953"
             ],
             [
              0.7777777777777778,
              "#fb9f3a"
             ],
             [
              0.8888888888888888,
              "#fdca26"
             ],
             [
              1,
              "#f0f921"
             ]
            ],
            "type": "histogram2d"
           }
          ],
          "histogram2dcontour": [
           {
            "colorbar": {
             "outlinewidth": 0,
             "ticks": ""
            },
            "colorscale": [
             [
              0,
              "#0d0887"
             ],
             [
              0.1111111111111111,
              "#46039f"
             ],
             [
              0.2222222222222222,
              "#7201a8"
             ],
             [
              0.3333333333333333,
              "#9c179e"
             ],
             [
              0.4444444444444444,
              "#bd3786"
             ],
             [
              0.5555555555555556,
              "#d8576b"
             ],
             [
              0.6666666666666666,
              "#ed7953"
             ],
             [
              0.7777777777777778,
              "#fb9f3a"
             ],
             [
              0.8888888888888888,
              "#fdca26"
             ],
             [
              1,
              "#f0f921"
             ]
            ],
            "type": "histogram2dcontour"
           }
          ],
          "mesh3d": [
           {
            "colorbar": {
             "outlinewidth": 0,
             "ticks": ""
            },
            "type": "mesh3d"
           }
          ],
          "parcoords": [
           {
            "line": {
             "colorbar": {
              "outlinewidth": 0,
              "ticks": ""
             }
            },
            "type": "parcoords"
           }
          ],
          "pie": [
           {
            "automargin": true,
            "type": "pie"
           }
          ],
          "scatter": [
           {
            "fillpattern": {
             "fillmode": "overlay",
             "size": 10,
             "solidity": 0.2
            },
            "type": "scatter"
           }
          ],
          "scatter3d": [
           {
            "line": {
             "colorbar": {
              "outlinewidth": 0,
              "ticks": ""
             }
            },
            "marker": {
             "colorbar": {
              "outlinewidth": 0,
              "ticks": ""
             }
            },
            "type": "scatter3d"
           }
          ],
          "scattercarpet": [
           {
            "marker": {
             "colorbar": {
              "outlinewidth": 0,
              "ticks": ""
             }
            },
            "type": "scattercarpet"
           }
          ],
          "scattergeo": [
           {
            "marker": {
             "colorbar": {
              "outlinewidth": 0,
              "ticks": ""
             }
            },
            "type": "scattergeo"
           }
          ],
          "scattergl": [
           {
            "marker": {
             "colorbar": {
              "outlinewidth": 0,
              "ticks": ""
             }
            },
            "type": "scattergl"
           }
          ],
          "scattermapbox": [
           {
            "marker": {
             "colorbar": {
              "outlinewidth": 0,
              "ticks": ""
             }
            },
            "type": "scattermapbox"
           }
          ],
          "scatterpolar": [
           {
            "marker": {
             "colorbar": {
              "outlinewidth": 0,
              "ticks": ""
             }
            },
            "type": "scatterpolar"
           }
          ],
          "scatterpolargl": [
           {
            "marker": {
             "colorbar": {
              "outlinewidth": 0,
              "ticks": ""
             }
            },
            "type": "scatterpolargl"
           }
          ],
          "scatterternary": [
           {
            "marker": {
             "colorbar": {
              "outlinewidth": 0,
              "ticks": ""
             }
            },
            "type": "scatterternary"
           }
          ],
          "surface": [
           {
            "colorbar": {
             "outlinewidth": 0,
             "ticks": ""
            },
            "colorscale": [
             [
              0,
              "#0d0887"
             ],
             [
              0.1111111111111111,
              "#46039f"
             ],
             [
              0.2222222222222222,
              "#7201a8"
             ],
             [
              0.3333333333333333,
              "#9c179e"
             ],
             [
              0.4444444444444444,
              "#bd3786"
             ],
             [
              0.5555555555555556,
              "#d8576b"
             ],
             [
              0.6666666666666666,
              "#ed7953"
             ],
             [
              0.7777777777777778,
              "#fb9f3a"
             ],
             [
              0.8888888888888888,
              "#fdca26"
             ],
             [
              1,
              "#f0f921"
             ]
            ],
            "type": "surface"
           }
          ],
          "table": [
           {
            "cells": {
             "fill": {
              "color": "#EBF0F8"
             },
             "line": {
              "color": "white"
             }
            },
            "header": {
             "fill": {
              "color": "#C8D4E3"
             },
             "line": {
              "color": "white"
             }
            },
            "type": "table"
           }
          ]
         },
         "layout": {
          "annotationdefaults": {
           "arrowcolor": "#2a3f5f",
           "arrowhead": 0,
           "arrowwidth": 1
          },
          "autotypenumbers": "strict",
          "coloraxis": {
           "colorbar": {
            "outlinewidth": 0,
            "ticks": ""
           }
          },
          "colorscale": {
           "diverging": [
            [
             0,
             "#8e0152"
            ],
            [
             0.1,
             "#c51b7d"
            ],
            [
             0.2,
             "#de77ae"
            ],
            [
             0.3,
             "#f1b6da"
            ],
            [
             0.4,
             "#fde0ef"
            ],
            [
             0.5,
             "#f7f7f7"
            ],
            [
             0.6,
             "#e6f5d0"
            ],
            [
             0.7,
             "#b8e186"
            ],
            [
             0.8,
             "#7fbc41"
            ],
            [
             0.9,
             "#4d9221"
            ],
            [
             1,
             "#276419"
            ]
           ],
           "sequential": [
            [
             0,
             "#0d0887"
            ],
            [
             0.1111111111111111,
             "#46039f"
            ],
            [
             0.2222222222222222,
             "#7201a8"
            ],
            [
             0.3333333333333333,
             "#9c179e"
            ],
            [
             0.4444444444444444,
             "#bd3786"
            ],
            [
             0.5555555555555556,
             "#d8576b"
            ],
            [
             0.6666666666666666,
             "#ed7953"
            ],
            [
             0.7777777777777778,
             "#fb9f3a"
            ],
            [
             0.8888888888888888,
             "#fdca26"
            ],
            [
             1,
             "#f0f921"
            ]
           ],
           "sequentialminus": [
            [
             0,
             "#0d0887"
            ],
            [
             0.1111111111111111,
             "#46039f"
            ],
            [
             0.2222222222222222,
             "#7201a8"
            ],
            [
             0.3333333333333333,
             "#9c179e"
            ],
            [
             0.4444444444444444,
             "#bd3786"
            ],
            [
             0.5555555555555556,
             "#d8576b"
            ],
            [
             0.6666666666666666,
             "#ed7953"
            ],
            [
             0.7777777777777778,
             "#fb9f3a"
            ],
            [
             0.8888888888888888,
             "#fdca26"
            ],
            [
             1,
             "#f0f921"
            ]
           ]
          },
          "colorway": [
           "#636efa",
           "#EF553B",
           "#00cc96",
           "#ab63fa",
           "#FFA15A",
           "#19d3f3",
           "#FF6692",
           "#B6E880",
           "#FF97FF",
           "#FECB52"
          ],
          "font": {
           "color": "#2a3f5f"
          },
          "geo": {
           "bgcolor": "white",
           "lakecolor": "white",
           "landcolor": "#E5ECF6",
           "showlakes": true,
           "showland": true,
           "subunitcolor": "white"
          },
          "hoverlabel": {
           "align": "left"
          },
          "hovermode": "closest",
          "mapbox": {
           "style": "light"
          },
          "paper_bgcolor": "white",
          "plot_bgcolor": "#E5ECF6",
          "polar": {
           "angularaxis": {
            "gridcolor": "white",
            "linecolor": "white",
            "ticks": ""
           },
           "bgcolor": "#E5ECF6",
           "radialaxis": {
            "gridcolor": "white",
            "linecolor": "white",
            "ticks": ""
           }
          },
          "scene": {
           "xaxis": {
            "backgroundcolor": "#E5ECF6",
            "gridcolor": "white",
            "gridwidth": 2,
            "linecolor": "white",
            "showbackground": true,
            "ticks": "",
            "zerolinecolor": "white"
           },
           "yaxis": {
            "backgroundcolor": "#E5ECF6",
            "gridcolor": "white",
            "gridwidth": 2,
            "linecolor": "white",
            "showbackground": true,
            "ticks": "",
            "zerolinecolor": "white"
           },
           "zaxis": {
            "backgroundcolor": "#E5ECF6",
            "gridcolor": "white",
            "gridwidth": 2,
            "linecolor": "white",
            "showbackground": true,
            "ticks": "",
            "zerolinecolor": "white"
           }
          },
          "shapedefaults": {
           "line": {
            "color": "#2a3f5f"
           }
          },
          "ternary": {
           "aaxis": {
            "gridcolor": "white",
            "linecolor": "white",
            "ticks": ""
           },
           "baxis": {
            "gridcolor": "white",
            "linecolor": "white",
            "ticks": ""
           },
           "bgcolor": "#E5ECF6",
           "caxis": {
            "gridcolor": "white",
            "linecolor": "white",
            "ticks": ""
           }
          },
          "title": {
           "x": 0.05
          },
          "xaxis": {
           "automargin": true,
           "gridcolor": "white",
           "linecolor": "white",
           "ticks": "",
           "title": {
            "standoff": 15
           },
           "zerolinecolor": "white",
           "zerolinewidth": 2
          },
          "yaxis": {
           "automargin": true,
           "gridcolor": "white",
           "linecolor": "white",
           "ticks": "",
           "title": {
            "standoff": 15
           },
           "zerolinecolor": "white",
           "zerolinewidth": 2
          }
         }
        },
        "title": {
         "text": "Cumulative Growth of EV Charging Stations in SDGE Territory"
        },
        "width": 900,
        "xaxis": {
         "anchor": "y",
         "domain": [
          0,
          1
         ],
         "title": {
          "text": "open_date"
         }
        },
        "yaxis": {
         "anchor": "x",
         "domain": [
          0,
          1
         ],
         "title": {
          "text": "Number of Charging Stations"
         }
        }
       }
      }
     },
     "metadata": {},
     "output_type": "display_data"
    }
   ],
   "source": [
    "# Create a plotly express line chart expressing the same data as above but now with interactivity\n",
    "fig = px.line(\n",
    "            SDGE_growth_df,\n",
    "            x='open_date',\n",
    "            y=['cumulative_stations', 'stations_confirmed'],\n",
    "            labels={'value': 'Number of Charging Stations',\n",
    "                    'variable': 'Legend'},\n",
    "            title='Cumulative Growth of EV Charging Stations in SDGE Territory',\n",
    "            width=900,\n",
    "            height=600\n",
    "            )\n",
    "\n",
    "# Update the traces for better visibility\n",
    "fig.update_traces(mode='lines+markers')\n",
    "\n",
    "# Customize the legend\n",
    "fig.for_each_trace(lambda t: t.update(name={'cumulative_stations': 'Cumulative Chargers',\n",
    "                                            'stations_confirmed': 'Chargers Added That Year'}\n",
    "                                            [t.name]))\n",
    "fig.show()"
   ]
  },
  {
   "attachments": {},
   "cell_type": "markdown",
   "metadata": {},
   "source": [
    "Now get the Cumulative Growth of EV Chargering stations in the whole United States"
   ]
  },
  {
   "cell_type": "code",
   "execution_count": 15,
   "metadata": {},
   "outputs": [],
   "source": [
    "# Group by the number entries there are for each year\n",
    "growth_df = rdf_ELEC.groupby(rdf_ELEC['open_date'].dt.to_period('Y')).size().reset_index(name='stations_confirmed')\n",
    "\n",
    "# Create a new column calculating the total number of stations there are\n",
    "growth_df['cumulative_stations'] = growth_df['stations_confirmed'].cumsum()\n",
    "growth_df = growth_df[(growth_df['open_date'].dt.year > 2000) & (growth_df['open_date'].dt.year < 2025)]\n",
    "growth_df['open_date'] = growth_df['open_date'].dt.to_timestamp()"
   ]
  },
  {
   "cell_type": "code",
   "execution_count": 16,
   "metadata": {},
   "outputs": [
    {
     "data": {
      "application/vnd.plotly.v1+json": {
       "config": {
        "plotlyServerURL": "https://plot.ly"
       },
       "data": [
        {
         "hovertemplate": "Legend=cumulative_stations<br>open_date=%{x}<br>Number of Charging Stations=%{y}<extra></extra>",
         "legendgroup": "cumulative_stations",
         "line": {
          "color": "#636efa",
          "dash": "solid"
         },
         "marker": {
          "symbol": "circle"
         },
         "mode": "lines+markers",
         "name": "Cumulative Chargers",
         "orientation": "v",
         "showlegend": true,
         "type": "scatter",
         "x": [
          "2002-01-01T00:00:00",
          "2004-01-01T00:00:00",
          "2005-01-01T00:00:00",
          "2006-01-01T00:00:00",
          "2007-01-01T00:00:00",
          "2008-01-01T00:00:00",
          "2009-01-01T00:00:00",
          "2010-01-01T00:00:00",
          "2011-01-01T00:00:00",
          "2012-01-01T00:00:00",
          "2013-01-01T00:00:00",
          "2014-01-01T00:00:00",
          "2015-01-01T00:00:00",
          "2016-01-01T00:00:00",
          "2017-01-01T00:00:00",
          "2018-01-01T00:00:00",
          "2019-01-01T00:00:00",
          "2020-01-01T00:00:00",
          "2021-01-01T00:00:00",
          "2022-01-01T00:00:00",
          "2023-01-01T00:00:00",
          "2024-01-01T00:00:00"
         ],
         "xaxis": "x",
         "y": [
          52,
          67,
          70,
          73,
          74,
          93,
          105,
          154,
          1209,
          2664,
          3236,
          4369,
          6279,
          8196,
          10388,
          13302,
          17089,
          24555,
          41476,
          53481,
          66813,
          78252
         ],
         "yaxis": "y"
        },
        {
         "hovertemplate": "Legend=stations_confirmed<br>open_date=%{x}<br>Number of Charging Stations=%{y}<extra></extra>",
         "legendgroup": "stations_confirmed",
         "line": {
          "color": "#EF553B",
          "dash": "solid"
         },
         "marker": {
          "symbol": "circle"
         },
         "mode": "lines+markers",
         "name": "Chargers Added That Year",
         "orientation": "v",
         "showlegend": true,
         "type": "scatter",
         "x": [
          "2002-01-01T00:00:00",
          "2004-01-01T00:00:00",
          "2005-01-01T00:00:00",
          "2006-01-01T00:00:00",
          "2007-01-01T00:00:00",
          "2008-01-01T00:00:00",
          "2009-01-01T00:00:00",
          "2010-01-01T00:00:00",
          "2011-01-01T00:00:00",
          "2012-01-01T00:00:00",
          "2013-01-01T00:00:00",
          "2014-01-01T00:00:00",
          "2015-01-01T00:00:00",
          "2016-01-01T00:00:00",
          "2017-01-01T00:00:00",
          "2018-01-01T00:00:00",
          "2019-01-01T00:00:00",
          "2020-01-01T00:00:00",
          "2021-01-01T00:00:00",
          "2022-01-01T00:00:00",
          "2023-01-01T00:00:00",
          "2024-01-01T00:00:00"
         ],
         "xaxis": "x",
         "y": [
          16,
          15,
          3,
          3,
          1,
          19,
          12,
          49,
          1055,
          1455,
          572,
          1133,
          1910,
          1917,
          2192,
          2914,
          3787,
          7466,
          16921,
          12005,
          13332,
          11439
         ],
         "yaxis": "y"
        }
       ],
       "layout": {
        "height": 600,
        "legend": {
         "title": {
          "text": "Legend"
         },
         "tracegroupgap": 0
        },
        "template": {
         "data": {
          "bar": [
           {
            "error_x": {
             "color": "#2a3f5f"
            },
            "error_y": {
             "color": "#2a3f5f"
            },
            "marker": {
             "line": {
              "color": "#E5ECF6",
              "width": 0.5
             },
             "pattern": {
              "fillmode": "overlay",
              "size": 10,
              "solidity": 0.2
             }
            },
            "type": "bar"
           }
          ],
          "barpolar": [
           {
            "marker": {
             "line": {
              "color": "#E5ECF6",
              "width": 0.5
             },
             "pattern": {
              "fillmode": "overlay",
              "size": 10,
              "solidity": 0.2
             }
            },
            "type": "barpolar"
           }
          ],
          "carpet": [
           {
            "aaxis": {
             "endlinecolor": "#2a3f5f",
             "gridcolor": "white",
             "linecolor": "white",
             "minorgridcolor": "white",
             "startlinecolor": "#2a3f5f"
            },
            "baxis": {
             "endlinecolor": "#2a3f5f",
             "gridcolor": "white",
             "linecolor": "white",
             "minorgridcolor": "white",
             "startlinecolor": "#2a3f5f"
            },
            "type": "carpet"
           }
          ],
          "choropleth": [
           {
            "colorbar": {
             "outlinewidth": 0,
             "ticks": ""
            },
            "type": "choropleth"
           }
          ],
          "contour": [
           {
            "colorbar": {
             "outlinewidth": 0,
             "ticks": ""
            },
            "colorscale": [
             [
              0,
              "#0d0887"
             ],
             [
              0.1111111111111111,
              "#46039f"
             ],
             [
              0.2222222222222222,
              "#7201a8"
             ],
             [
              0.3333333333333333,
              "#9c179e"
             ],
             [
              0.4444444444444444,
              "#bd3786"
             ],
             [
              0.5555555555555556,
              "#d8576b"
             ],
             [
              0.6666666666666666,
              "#ed7953"
             ],
             [
              0.7777777777777778,
              "#fb9f3a"
             ],
             [
              0.8888888888888888,
              "#fdca26"
             ],
             [
              1,
              "#f0f921"
             ]
            ],
            "type": "contour"
           }
          ],
          "contourcarpet": [
           {
            "colorbar": {
             "outlinewidth": 0,
             "ticks": ""
            },
            "type": "contourcarpet"
           }
          ],
          "heatmap": [
           {
            "colorbar": {
             "outlinewidth": 0,
             "ticks": ""
            },
            "colorscale": [
             [
              0,
              "#0d0887"
             ],
             [
              0.1111111111111111,
              "#46039f"
             ],
             [
              0.2222222222222222,
              "#7201a8"
             ],
             [
              0.3333333333333333,
              "#9c179e"
             ],
             [
              0.4444444444444444,
              "#bd3786"
             ],
             [
              0.5555555555555556,
              "#d8576b"
             ],
             [
              0.6666666666666666,
              "#ed7953"
             ],
             [
              0.7777777777777778,
              "#fb9f3a"
             ],
             [
              0.8888888888888888,
              "#fdca26"
             ],
             [
              1,
              "#f0f921"
             ]
            ],
            "type": "heatmap"
           }
          ],
          "heatmapgl": [
           {
            "colorbar": {
             "outlinewidth": 0,
             "ticks": ""
            },
            "colorscale": [
             [
              0,
              "#0d0887"
             ],
             [
              0.1111111111111111,
              "#46039f"
             ],
             [
              0.2222222222222222,
              "#7201a8"
             ],
             [
              0.3333333333333333,
              "#9c179e"
             ],
             [
              0.4444444444444444,
              "#bd3786"
             ],
             [
              0.5555555555555556,
              "#d8576b"
             ],
             [
              0.6666666666666666,
              "#ed7953"
             ],
             [
              0.7777777777777778,
              "#fb9f3a"
             ],
             [
              0.8888888888888888,
              "#fdca26"
             ],
             [
              1,
              "#f0f921"
             ]
            ],
            "type": "heatmapgl"
           }
          ],
          "histogram": [
           {
            "marker": {
             "pattern": {
              "fillmode": "overlay",
              "size": 10,
              "solidity": 0.2
             }
            },
            "type": "histogram"
           }
          ],
          "histogram2d": [
           {
            "colorbar": {
             "outlinewidth": 0,
             "ticks": ""
            },
            "colorscale": [
             [
              0,
              "#0d0887"
             ],
             [
              0.1111111111111111,
              "#46039f"
             ],
             [
              0.2222222222222222,
              "#7201a8"
             ],
             [
              0.3333333333333333,
              "#9c179e"
             ],
             [
              0.4444444444444444,
              "#bd3786"
             ],
             [
              0.5555555555555556,
              "#d8576b"
             ],
             [
              0.6666666666666666,
              "#ed7953"
             ],
             [
              0.7777777777777778,
              "#fb9f3a"
             ],
             [
              0.8888888888888888,
              "#fdca26"
             ],
             [
              1,
              "#f0f921"
             ]
            ],
            "type": "histogram2d"
           }
          ],
          "histogram2dcontour": [
           {
            "colorbar": {
             "outlinewidth": 0,
             "ticks": ""
            },
            "colorscale": [
             [
              0,
              "#0d0887"
             ],
             [
              0.1111111111111111,
              "#46039f"
             ],
             [
              0.2222222222222222,
              "#7201a8"
             ],
             [
              0.3333333333333333,
              "#9c179e"
             ],
             [
              0.4444444444444444,
              "#bd3786"
             ],
             [
              0.5555555555555556,
              "#d8576b"
             ],
             [
              0.6666666666666666,
              "#ed7953"
             ],
             [
              0.7777777777777778,
              "#fb9f3a"
             ],
             [
              0.8888888888888888,
              "#fdca26"
             ],
             [
              1,
              "#f0f921"
             ]
            ],
            "type": "histogram2dcontour"
           }
          ],
          "mesh3d": [
           {
            "colorbar": {
             "outlinewidth": 0,
             "ticks": ""
            },
            "type": "mesh3d"
           }
          ],
          "parcoords": [
           {
            "line": {
             "colorbar": {
              "outlinewidth": 0,
              "ticks": ""
             }
            },
            "type": "parcoords"
           }
          ],
          "pie": [
           {
            "automargin": true,
            "type": "pie"
           }
          ],
          "scatter": [
           {
            "fillpattern": {
             "fillmode": "overlay",
             "size": 10,
             "solidity": 0.2
            },
            "type": "scatter"
           }
          ],
          "scatter3d": [
           {
            "line": {
             "colorbar": {
              "outlinewidth": 0,
              "ticks": ""
             }
            },
            "marker": {
             "colorbar": {
              "outlinewidth": 0,
              "ticks": ""
             }
            },
            "type": "scatter3d"
           }
          ],
          "scattercarpet": [
           {
            "marker": {
             "colorbar": {
              "outlinewidth": 0,
              "ticks": ""
             }
            },
            "type": "scattercarpet"
           }
          ],
          "scattergeo": [
           {
            "marker": {
             "colorbar": {
              "outlinewidth": 0,
              "ticks": ""
             }
            },
            "type": "scattergeo"
           }
          ],
          "scattergl": [
           {
            "marker": {
             "colorbar": {
              "outlinewidth": 0,
              "ticks": ""
             }
            },
            "type": "scattergl"
           }
          ],
          "scattermapbox": [
           {
            "marker": {
             "colorbar": {
              "outlinewidth": 0,
              "ticks": ""
             }
            },
            "type": "scattermapbox"
           }
          ],
          "scatterpolar": [
           {
            "marker": {
             "colorbar": {
              "outlinewidth": 0,
              "ticks": ""
             }
            },
            "type": "scatterpolar"
           }
          ],
          "scatterpolargl": [
           {
            "marker": {
             "colorbar": {
              "outlinewidth": 0,
              "ticks": ""
             }
            },
            "type": "scatterpolargl"
           }
          ],
          "scatterternary": [
           {
            "marker": {
             "colorbar": {
              "outlinewidth": 0,
              "ticks": ""
             }
            },
            "type": "scatterternary"
           }
          ],
          "surface": [
           {
            "colorbar": {
             "outlinewidth": 0,
             "ticks": ""
            },
            "colorscale": [
             [
              0,
              "#0d0887"
             ],
             [
              0.1111111111111111,
              "#46039f"
             ],
             [
              0.2222222222222222,
              "#7201a8"
             ],
             [
              0.3333333333333333,
              "#9c179e"
             ],
             [
              0.4444444444444444,
              "#bd3786"
             ],
             [
              0.5555555555555556,
              "#d8576b"
             ],
             [
              0.6666666666666666,
              "#ed7953"
             ],
             [
              0.7777777777777778,
              "#fb9f3a"
             ],
             [
              0.8888888888888888,
              "#fdca26"
             ],
             [
              1,
              "#f0f921"
             ]
            ],
            "type": "surface"
           }
          ],
          "table": [
           {
            "cells": {
             "fill": {
              "color": "#EBF0F8"
             },
             "line": {
              "color": "white"
             }
            },
            "header": {
             "fill": {
              "color": "#C8D4E3"
             },
             "line": {
              "color": "white"
             }
            },
            "type": "table"
           }
          ]
         },
         "layout": {
          "annotationdefaults": {
           "arrowcolor": "#2a3f5f",
           "arrowhead": 0,
           "arrowwidth": 1
          },
          "autotypenumbers": "strict",
          "coloraxis": {
           "colorbar": {
            "outlinewidth": 0,
            "ticks": ""
           }
          },
          "colorscale": {
           "diverging": [
            [
             0,
             "#8e0152"
            ],
            [
             0.1,
             "#c51b7d"
            ],
            [
             0.2,
             "#de77ae"
            ],
            [
             0.3,
             "#f1b6da"
            ],
            [
             0.4,
             "#fde0ef"
            ],
            [
             0.5,
             "#f7f7f7"
            ],
            [
             0.6,
             "#e6f5d0"
            ],
            [
             0.7,
             "#b8e186"
            ],
            [
             0.8,
             "#7fbc41"
            ],
            [
             0.9,
             "#4d9221"
            ],
            [
             1,
             "#276419"
            ]
           ],
           "sequential": [
            [
             0,
             "#0d0887"
            ],
            [
             0.1111111111111111,
             "#46039f"
            ],
            [
             0.2222222222222222,
             "#7201a8"
            ],
            [
             0.3333333333333333,
             "#9c179e"
            ],
            [
             0.4444444444444444,
             "#bd3786"
            ],
            [
             0.5555555555555556,
             "#d8576b"
            ],
            [
             0.6666666666666666,
             "#ed7953"
            ],
            [
             0.7777777777777778,
             "#fb9f3a"
            ],
            [
             0.8888888888888888,
             "#fdca26"
            ],
            [
             1,
             "#f0f921"
            ]
           ],
           "sequentialminus": [
            [
             0,
             "#0d0887"
            ],
            [
             0.1111111111111111,
             "#46039f"
            ],
            [
             0.2222222222222222,
             "#7201a8"
            ],
            [
             0.3333333333333333,
             "#9c179e"
            ],
            [
             0.4444444444444444,
             "#bd3786"
            ],
            [
             0.5555555555555556,
             "#d8576b"
            ],
            [
             0.6666666666666666,
             "#ed7953"
            ],
            [
             0.7777777777777778,
             "#fb9f3a"
            ],
            [
             0.8888888888888888,
             "#fdca26"
            ],
            [
             1,
             "#f0f921"
            ]
           ]
          },
          "colorway": [
           "#636efa",
           "#EF553B",
           "#00cc96",
           "#ab63fa",
           "#FFA15A",
           "#19d3f3",
           "#FF6692",
           "#B6E880",
           "#FF97FF",
           "#FECB52"
          ],
          "font": {
           "color": "#2a3f5f"
          },
          "geo": {
           "bgcolor": "white",
           "lakecolor": "white",
           "landcolor": "#E5ECF6",
           "showlakes": true,
           "showland": true,
           "subunitcolor": "white"
          },
          "hoverlabel": {
           "align": "left"
          },
          "hovermode": "closest",
          "mapbox": {
           "style": "light"
          },
          "paper_bgcolor": "white",
          "plot_bgcolor": "#E5ECF6",
          "polar": {
           "angularaxis": {
            "gridcolor": "white",
            "linecolor": "white",
            "ticks": ""
           },
           "bgcolor": "#E5ECF6",
           "radialaxis": {
            "gridcolor": "white",
            "linecolor": "white",
            "ticks": ""
           }
          },
          "scene": {
           "xaxis": {
            "backgroundcolor": "#E5ECF6",
            "gridcolor": "white",
            "gridwidth": 2,
            "linecolor": "white",
            "showbackground": true,
            "ticks": "",
            "zerolinecolor": "white"
           },
           "yaxis": {
            "backgroundcolor": "#E5ECF6",
            "gridcolor": "white",
            "gridwidth": 2,
            "linecolor": "white",
            "showbackground": true,
            "ticks": "",
            "zerolinecolor": "white"
           },
           "zaxis": {
            "backgroundcolor": "#E5ECF6",
            "gridcolor": "white",
            "gridwidth": 2,
            "linecolor": "white",
            "showbackground": true,
            "ticks": "",
            "zerolinecolor": "white"
           }
          },
          "shapedefaults": {
           "line": {
            "color": "#2a3f5f"
           }
          },
          "ternary": {
           "aaxis": {
            "gridcolor": "white",
            "linecolor": "white",
            "ticks": ""
           },
           "baxis": {
            "gridcolor": "white",
            "linecolor": "white",
            "ticks": ""
           },
           "bgcolor": "#E5ECF6",
           "caxis": {
            "gridcolor": "white",
            "linecolor": "white",
            "ticks": ""
           }
          },
          "title": {
           "x": 0.05
          },
          "xaxis": {
           "automargin": true,
           "gridcolor": "white",
           "linecolor": "white",
           "ticks": "",
           "title": {
            "standoff": 15
           },
           "zerolinecolor": "white",
           "zerolinewidth": 2
          },
          "yaxis": {
           "automargin": true,
           "gridcolor": "white",
           "linecolor": "white",
           "ticks": "",
           "title": {
            "standoff": 15
           },
           "zerolinecolor": "white",
           "zerolinewidth": 2
          }
         }
        },
        "title": {
         "text": "Cumulative Growth of EV Charging Stations Over Time in the US"
        },
        "width": 900,
        "xaxis": {
         "anchor": "y",
         "domain": [
          0,
          1
         ],
         "title": {
          "text": "open_date"
         }
        },
        "yaxis": {
         "anchor": "x",
         "domain": [
          0,
          1
         ],
         "title": {
          "text": "Number of Charging Stations"
         }
        }
       }
      }
     },
     "metadata": {},
     "output_type": "display_data"
    }
   ],
   "source": [
    "# Create a Plotly line chart for Cumulative Growth of EV Charging Stations Over Time in the US\n",
    "fig = px.line(\n",
    "    growth_df, \n",
    "    x='open_date', \n",
    "    y=['cumulative_stations', 'stations_confirmed'],\n",
    "    labels={'value': 'Number of Charging Stations',\n",
    "            'variable': 'Legend'},\n",
    "    title='Cumulative Growth of EV Charging Stations Over Time in the US',\n",
    "    width=900,  # Set desired width\n",
    "    height=600   # Set desired height\n",
    ")\n",
    "\n",
    "# Update the traces for better visualization\n",
    "fig.update_traces(mode='lines+markers')\n",
    "\n",
    "# Customize the legend\n",
    "fig.for_each_trace(lambda t: t.update(name={'cumulative_stations': 'Cumulative Chargers',\n",
    "                                            'stations_confirmed': 'Chargers Added That Year'}\n",
    "                                            [t.name]))\n",
    "fig.show()"
   ]
  },
  {
   "attachments": {},
   "cell_type": "markdown",
   "metadata": {},
   "source": [
    "# Time Series Growth of EV Charging Seperated by Ports"
   ]
  },
  {
   "cell_type": "code",
   "execution_count": 17,
   "metadata": {},
   "outputs": [
    {
     "name": "stderr",
     "output_type": "stream",
     "text": [
      "/var/folders/6g/hzhm6cpn3n53kypvmqckpqrh0000gn/T/ipykernel_84225/2007543763.py:12: SettingWithCopyWarning:\n",
      "\n",
      "\n",
      "A value is trying to be set on a copy of a slice from a DataFrame.\n",
      "Try using .loc[row_indexer,col_indexer] = value instead\n",
      "\n",
      "See the caveats in the documentation: https://pandas.pydata.org/pandas-docs/stable/user_guide/indexing.html#returning-a-view-versus-a-copy\n",
      "\n"
     ]
    },
    {
     "data": {
      "application/vnd.plotly.v1+json": {
       "config": {
        "plotlyServerURL": "https://plot.ly"
       },
       "data": [
        {
         "hovertemplate": "Connector Type=CHADEMO<br>Date=%{x}<br>Number of Charging Stations=%{y}<extra></extra>",
         "legendgroup": "CHADEMO",
         "line": {
          "color": "#636efa",
          "dash": "solid"
         },
         "marker": {
          "symbol": "circle"
         },
         "mode": "lines",
         "name": "CHADEMO",
         "orientation": "v",
         "showlegend": true,
         "type": "scatter",
         "x": [
          "2011-01-01T00:00:00",
          "2013-01-01T00:00:00",
          "2014-01-01T00:00:00",
          "2015-01-01T00:00:00",
          "2016-01-01T00:00:00",
          "2017-01-01T00:00:00",
          "2018-01-01T00:00:00",
          "2019-01-01T00:00:00",
          "2020-01-01T00:00:00",
          "2021-01-01T00:00:00",
          "2022-01-01T00:00:00",
          "2023-01-01T00:00:00",
          "2024-01-01T00:00:00"
         ],
         "xaxis": "x",
         "y": [
          5,
          6,
          10,
          11,
          12,
          13,
          23,
          31,
          45,
          75,
          99,
          124,
          133
         ],
         "yaxis": "y"
        },
        {
         "hovertemplate": "Connector Type=J1772<br>Date=%{x}<br>Number of Charging Stations=%{y}<extra></extra>",
         "legendgroup": "J1772",
         "line": {
          "color": "#EF553B",
          "dash": "solid"
         },
         "marker": {
          "symbol": "circle"
         },
         "mode": "lines",
         "name": "J1772",
         "orientation": "v",
         "showlegend": true,
         "type": "scatter",
         "x": [
          "2011-01-01T00:00:00",
          "2012-01-01T00:00:00",
          "2013-01-01T00:00:00",
          "2014-01-01T00:00:00",
          "2015-01-01T00:00:00",
          "2016-01-01T00:00:00",
          "2017-01-01T00:00:00",
          "2018-01-01T00:00:00",
          "2019-01-01T00:00:00",
          "2020-01-01T00:00:00",
          "2021-01-01T00:00:00",
          "2022-01-01T00:00:00",
          "2023-01-01T00:00:00",
          "2024-01-01T00:00:00"
         ],
         "xaxis": "x",
         "y": [
          21,
          33,
          39,
          51,
          81,
          111,
          126,
          149,
          200,
          402,
          795,
          1156,
          1330,
          1478
         ],
         "yaxis": "y"
        },
        {
         "hovertemplate": "Connector Type=J1772COMBO<br>Date=%{x}<br>Number of Charging Stations=%{y}<extra></extra>",
         "legendgroup": "J1772COMBO",
         "line": {
          "color": "#00cc96",
          "dash": "solid"
         },
         "marker": {
          "symbol": "circle"
         },
         "mode": "lines",
         "name": "J1772COMBO",
         "orientation": "v",
         "showlegend": true,
         "type": "scatter",
         "x": [
          "2011-01-01T00:00:00",
          "2013-01-01T00:00:00",
          "2014-01-01T00:00:00",
          "2015-01-01T00:00:00",
          "2016-01-01T00:00:00",
          "2018-01-01T00:00:00",
          "2019-01-01T00:00:00",
          "2020-01-01T00:00:00",
          "2021-01-01T00:00:00",
          "2022-01-01T00:00:00",
          "2023-01-01T00:00:00",
          "2024-01-01T00:00:00"
         ],
         "xaxis": "x",
         "y": [
          2,
          3,
          7,
          9,
          10,
          20,
          33,
          52,
          86,
          108,
          137,
          160
         ],
         "yaxis": "y"
        },
        {
         "hovertemplate": "Connector Type=TESLA<br>Date=%{x}<br>Number of Charging Stations=%{y}<extra></extra>",
         "legendgroup": "TESLA",
         "line": {
          "color": "#ab63fa",
          "dash": "solid"
         },
         "marker": {
          "symbol": "circle"
         },
         "mode": "lines",
         "name": "TESLA",
         "orientation": "v",
         "showlegend": true,
         "type": "scatter",
         "x": [
          "2014-01-01T00:00:00",
          "2015-01-01T00:00:00",
          "2016-01-01T00:00:00",
          "2017-01-01T00:00:00",
          "2018-01-01T00:00:00",
          "2019-01-01T00:00:00",
          "2020-01-01T00:00:00",
          "2021-01-01T00:00:00",
          "2022-01-01T00:00:00",
          "2023-01-01T00:00:00",
          "2024-01-01T00:00:00"
         ],
         "xaxis": "x",
         "y": [
          4,
          30,
          39,
          45,
          56,
          62,
          73,
          78,
          89,
          98,
          104
         ],
         "yaxis": "y"
        }
       ],
       "layout": {
        "height": 600,
        "legend": {
         "title": {
          "text": "Connector Type"
         },
         "tracegroupgap": 0
        },
        "template": {
         "data": {
          "bar": [
           {
            "error_x": {
             "color": "#2a3f5f"
            },
            "error_y": {
             "color": "#2a3f5f"
            },
            "marker": {
             "line": {
              "color": "#E5ECF6",
              "width": 0.5
             },
             "pattern": {
              "fillmode": "overlay",
              "size": 10,
              "solidity": 0.2
             }
            },
            "type": "bar"
           }
          ],
          "barpolar": [
           {
            "marker": {
             "line": {
              "color": "#E5ECF6",
              "width": 0.5
             },
             "pattern": {
              "fillmode": "overlay",
              "size": 10,
              "solidity": 0.2
             }
            },
            "type": "barpolar"
           }
          ],
          "carpet": [
           {
            "aaxis": {
             "endlinecolor": "#2a3f5f",
             "gridcolor": "white",
             "linecolor": "white",
             "minorgridcolor": "white",
             "startlinecolor": "#2a3f5f"
            },
            "baxis": {
             "endlinecolor": "#2a3f5f",
             "gridcolor": "white",
             "linecolor": "white",
             "minorgridcolor": "white",
             "startlinecolor": "#2a3f5f"
            },
            "type": "carpet"
           }
          ],
          "choropleth": [
           {
            "colorbar": {
             "outlinewidth": 0,
             "ticks": ""
            },
            "type": "choropleth"
           }
          ],
          "contour": [
           {
            "colorbar": {
             "outlinewidth": 0,
             "ticks": ""
            },
            "colorscale": [
             [
              0,
              "#0d0887"
             ],
             [
              0.1111111111111111,
              "#46039f"
             ],
             [
              0.2222222222222222,
              "#7201a8"
             ],
             [
              0.3333333333333333,
              "#9c179e"
             ],
             [
              0.4444444444444444,
              "#bd3786"
             ],
             [
              0.5555555555555556,
              "#d8576b"
             ],
             [
              0.6666666666666666,
              "#ed7953"
             ],
             [
              0.7777777777777778,
              "#fb9f3a"
             ],
             [
              0.8888888888888888,
              "#fdca26"
             ],
             [
              1,
              "#f0f921"
             ]
            ],
            "type": "contour"
           }
          ],
          "contourcarpet": [
           {
            "colorbar": {
             "outlinewidth": 0,
             "ticks": ""
            },
            "type": "contourcarpet"
           }
          ],
          "heatmap": [
           {
            "colorbar": {
             "outlinewidth": 0,
             "ticks": ""
            },
            "colorscale": [
             [
              0,
              "#0d0887"
             ],
             [
              0.1111111111111111,
              "#46039f"
             ],
             [
              0.2222222222222222,
              "#7201a8"
             ],
             [
              0.3333333333333333,
              "#9c179e"
             ],
             [
              0.4444444444444444,
              "#bd3786"
             ],
             [
              0.5555555555555556,
              "#d8576b"
             ],
             [
              0.6666666666666666,
              "#ed7953"
             ],
             [
              0.7777777777777778,
              "#fb9f3a"
             ],
             [
              0.8888888888888888,
              "#fdca26"
             ],
             [
              1,
              "#f0f921"
             ]
            ],
            "type": "heatmap"
           }
          ],
          "heatmapgl": [
           {
            "colorbar": {
             "outlinewidth": 0,
             "ticks": ""
            },
            "colorscale": [
             [
              0,
              "#0d0887"
             ],
             [
              0.1111111111111111,
              "#46039f"
             ],
             [
              0.2222222222222222,
              "#7201a8"
             ],
             [
              0.3333333333333333,
              "#9c179e"
             ],
             [
              0.4444444444444444,
              "#bd3786"
             ],
             [
              0.5555555555555556,
              "#d8576b"
             ],
             [
              0.6666666666666666,
              "#ed7953"
             ],
             [
              0.7777777777777778,
              "#fb9f3a"
             ],
             [
              0.8888888888888888,
              "#fdca26"
             ],
             [
              1,
              "#f0f921"
             ]
            ],
            "type": "heatmapgl"
           }
          ],
          "histogram": [
           {
            "marker": {
             "pattern": {
              "fillmode": "overlay",
              "size": 10,
              "solidity": 0.2
             }
            },
            "type": "histogram"
           }
          ],
          "histogram2d": [
           {
            "colorbar": {
             "outlinewidth": 0,
             "ticks": ""
            },
            "colorscale": [
             [
              0,
              "#0d0887"
             ],
             [
              0.1111111111111111,
              "#46039f"
             ],
             [
              0.2222222222222222,
              "#7201a8"
             ],
             [
              0.3333333333333333,
              "#9c179e"
             ],
             [
              0.4444444444444444,
              "#bd3786"
             ],
             [
              0.5555555555555556,
              "#d8576b"
             ],
             [
              0.6666666666666666,
              "#ed7953"
             ],
             [
              0.7777777777777778,
              "#fb9f3a"
             ],
             [
              0.8888888888888888,
              "#fdca26"
             ],
             [
              1,
              "#f0f921"
             ]
            ],
            "type": "histogram2d"
           }
          ],
          "histogram2dcontour": [
           {
            "colorbar": {
             "outlinewidth": 0,
             "ticks": ""
            },
            "colorscale": [
             [
              0,
              "#0d0887"
             ],
             [
              0.1111111111111111,
              "#46039f"
             ],
             [
              0.2222222222222222,
              "#7201a8"
             ],
             [
              0.3333333333333333,
              "#9c179e"
             ],
             [
              0.4444444444444444,
              "#bd3786"
             ],
             [
              0.5555555555555556,
              "#d8576b"
             ],
             [
              0.6666666666666666,
              "#ed7953"
             ],
             [
              0.7777777777777778,
              "#fb9f3a"
             ],
             [
              0.8888888888888888,
              "#fdca26"
             ],
             [
              1,
              "#f0f921"
             ]
            ],
            "type": "histogram2dcontour"
           }
          ],
          "mesh3d": [
           {
            "colorbar": {
             "outlinewidth": 0,
             "ticks": ""
            },
            "type": "mesh3d"
           }
          ],
          "parcoords": [
           {
            "line": {
             "colorbar": {
              "outlinewidth": 0,
              "ticks": ""
             }
            },
            "type": "parcoords"
           }
          ],
          "pie": [
           {
            "automargin": true,
            "type": "pie"
           }
          ],
          "scatter": [
           {
            "fillpattern": {
             "fillmode": "overlay",
             "size": 10,
             "solidity": 0.2
            },
            "type": "scatter"
           }
          ],
          "scatter3d": [
           {
            "line": {
             "colorbar": {
              "outlinewidth": 0,
              "ticks": ""
             }
            },
            "marker": {
             "colorbar": {
              "outlinewidth": 0,
              "ticks": ""
             }
            },
            "type": "scatter3d"
           }
          ],
          "scattercarpet": [
           {
            "marker": {
             "colorbar": {
              "outlinewidth": 0,
              "ticks": ""
             }
            },
            "type": "scattercarpet"
           }
          ],
          "scattergeo": [
           {
            "marker": {
             "colorbar": {
              "outlinewidth": 0,
              "ticks": ""
             }
            },
            "type": "scattergeo"
           }
          ],
          "scattergl": [
           {
            "marker": {
             "colorbar": {
              "outlinewidth": 0,
              "ticks": ""
             }
            },
            "type": "scattergl"
           }
          ],
          "scattermapbox": [
           {
            "marker": {
             "colorbar": {
              "outlinewidth": 0,
              "ticks": ""
             }
            },
            "type": "scattermapbox"
           }
          ],
          "scatterpolar": [
           {
            "marker": {
             "colorbar": {
              "outlinewidth": 0,
              "ticks": ""
             }
            },
            "type": "scatterpolar"
           }
          ],
          "scatterpolargl": [
           {
            "marker": {
             "colorbar": {
              "outlinewidth": 0,
              "ticks": ""
             }
            },
            "type": "scatterpolargl"
           }
          ],
          "scatterternary": [
           {
            "marker": {
             "colorbar": {
              "outlinewidth": 0,
              "ticks": ""
             }
            },
            "type": "scatterternary"
           }
          ],
          "surface": [
           {
            "colorbar": {
             "outlinewidth": 0,
             "ticks": ""
            },
            "colorscale": [
             [
              0,
              "#0d0887"
             ],
             [
              0.1111111111111111,
              "#46039f"
             ],
             [
              0.2222222222222222,
              "#7201a8"
             ],
             [
              0.3333333333333333,
              "#9c179e"
             ],
             [
              0.4444444444444444,
              "#bd3786"
             ],
             [
              0.5555555555555556,
              "#d8576b"
             ],
             [
              0.6666666666666666,
              "#ed7953"
             ],
             [
              0.7777777777777778,
              "#fb9f3a"
             ],
             [
              0.8888888888888888,
              "#fdca26"
             ],
             [
              1,
              "#f0f921"
             ]
            ],
            "type": "surface"
           }
          ],
          "table": [
           {
            "cells": {
             "fill": {
              "color": "#EBF0F8"
             },
             "line": {
              "color": "white"
             }
            },
            "header": {
             "fill": {
              "color": "#C8D4E3"
             },
             "line": {
              "color": "white"
             }
            },
            "type": "table"
           }
          ]
         },
         "layout": {
          "annotationdefaults": {
           "arrowcolor": "#2a3f5f",
           "arrowhead": 0,
           "arrowwidth": 1
          },
          "autotypenumbers": "strict",
          "coloraxis": {
           "colorbar": {
            "outlinewidth": 0,
            "ticks": ""
           }
          },
          "colorscale": {
           "diverging": [
            [
             0,
             "#8e0152"
            ],
            [
             0.1,
             "#c51b7d"
            ],
            [
             0.2,
             "#de77ae"
            ],
            [
             0.3,
             "#f1b6da"
            ],
            [
             0.4,
             "#fde0ef"
            ],
            [
             0.5,
             "#f7f7f7"
            ],
            [
             0.6,
             "#e6f5d0"
            ],
            [
             0.7,
             "#b8e186"
            ],
            [
             0.8,
             "#7fbc41"
            ],
            [
             0.9,
             "#4d9221"
            ],
            [
             1,
             "#276419"
            ]
           ],
           "sequential": [
            [
             0,
             "#0d0887"
            ],
            [
             0.1111111111111111,
             "#46039f"
            ],
            [
             0.2222222222222222,
             "#7201a8"
            ],
            [
             0.3333333333333333,
             "#9c179e"
            ],
            [
             0.4444444444444444,
             "#bd3786"
            ],
            [
             0.5555555555555556,
             "#d8576b"
            ],
            [
             0.6666666666666666,
             "#ed7953"
            ],
            [
             0.7777777777777778,
             "#fb9f3a"
            ],
            [
             0.8888888888888888,
             "#fdca26"
            ],
            [
             1,
             "#f0f921"
            ]
           ],
           "sequentialminus": [
            [
             0,
             "#0d0887"
            ],
            [
             0.1111111111111111,
             "#46039f"
            ],
            [
             0.2222222222222222,
             "#7201a8"
            ],
            [
             0.3333333333333333,
             "#9c179e"
            ],
            [
             0.4444444444444444,
             "#bd3786"
            ],
            [
             0.5555555555555556,
             "#d8576b"
            ],
            [
             0.6666666666666666,
             "#ed7953"
            ],
            [
             0.7777777777777778,
             "#fb9f3a"
            ],
            [
             0.8888888888888888,
             "#fdca26"
            ],
            [
             1,
             "#f0f921"
            ]
           ]
          },
          "colorway": [
           "#636efa",
           "#EF553B",
           "#00cc96",
           "#ab63fa",
           "#FFA15A",
           "#19d3f3",
           "#FF6692",
           "#B6E880",
           "#FF97FF",
           "#FECB52"
          ],
          "font": {
           "color": "#2a3f5f"
          },
          "geo": {
           "bgcolor": "white",
           "lakecolor": "white",
           "landcolor": "#E5ECF6",
           "showlakes": true,
           "showland": true,
           "subunitcolor": "white"
          },
          "hoverlabel": {
           "align": "left"
          },
          "hovermode": "closest",
          "mapbox": {
           "style": "light"
          },
          "paper_bgcolor": "white",
          "plot_bgcolor": "#E5ECF6",
          "polar": {
           "angularaxis": {
            "gridcolor": "white",
            "linecolor": "white",
            "ticks": ""
           },
           "bgcolor": "#E5ECF6",
           "radialaxis": {
            "gridcolor": "white",
            "linecolor": "white",
            "ticks": ""
           }
          },
          "scene": {
           "xaxis": {
            "backgroundcolor": "#E5ECF6",
            "gridcolor": "white",
            "gridwidth": 2,
            "linecolor": "white",
            "showbackground": true,
            "ticks": "",
            "zerolinecolor": "white"
           },
           "yaxis": {
            "backgroundcolor": "#E5ECF6",
            "gridcolor": "white",
            "gridwidth": 2,
            "linecolor": "white",
            "showbackground": true,
            "ticks": "",
            "zerolinecolor": "white"
           },
           "zaxis": {
            "backgroundcolor": "#E5ECF6",
            "gridcolor": "white",
            "gridwidth": 2,
            "linecolor": "white",
            "showbackground": true,
            "ticks": "",
            "zerolinecolor": "white"
           }
          },
          "shapedefaults": {
           "line": {
            "color": "#2a3f5f"
           }
          },
          "ternary": {
           "aaxis": {
            "gridcolor": "white",
            "linecolor": "white",
            "ticks": ""
           },
           "baxis": {
            "gridcolor": "white",
            "linecolor": "white",
            "ticks": ""
           },
           "bgcolor": "#E5ECF6",
           "caxis": {
            "gridcolor": "white",
            "linecolor": "white",
            "ticks": ""
           }
          },
          "title": {
           "x": 0.05
          },
          "xaxis": {
           "automargin": true,
           "gridcolor": "white",
           "linecolor": "white",
           "ticks": "",
           "title": {
            "standoff": 15
           },
           "zerolinecolor": "white",
           "zerolinewidth": 2
          },
          "yaxis": {
           "automargin": true,
           "gridcolor": "white",
           "linecolor": "white",
           "ticks": "",
           "title": {
            "standoff": 15
           },
           "zerolinecolor": "white",
           "zerolinewidth": 2
          }
         }
        },
        "title": {
         "text": "Growth of EV Charging Stations by Connector Type Over Time in SDGE Territory"
        },
        "width": 900,
        "xaxis": {
         "anchor": "y",
         "domain": [
          0,
          1
         ],
         "title": {
          "text": "Date"
         }
        },
        "yaxis": {
         "anchor": "x",
         "domain": [
          0,
          1
         ],
         "title": {
          "text": "Number of Charging Stations"
         }
        }
       }
      }
     },
     "metadata": {},
     "output_type": "display_data"
    }
   ],
   "source": [
    "# Explode the lists into individual rows\n",
    "def safe_literal_eval(val):\n",
    "    \"\"\"Safely evaluate strings to Python lists, leaving lists as is.\"\"\"\n",
    "    if isinstance(val, str):\n",
    "        try:\n",
    "            return ast.literal_eval(val)\n",
    "        except (ValueError, SyntaxError):\n",
    "            return val\n",
    "    return val\n",
    "\n",
    "# Apply `safe_literal_eval` only to strings\n",
    "SDGE_df['ev_connector_types'] = SDGE_df['ev_connector_types'].dropna().apply(safe_literal_eval)\n",
    "SDGE_df_exploded = SDGE_df.explode('ev_connector_types')\n",
    "SDGE_df_exploded = SDGE_df_exploded.dropna(subset=['ev_connector_types'])\n",
    "\n",
    "# Remove unwanted connector types (e.g., NEMA types)\n",
    "SDGE_df_exploded = SDGE_df_exploded[~SDGE_df_exploded['ev_connector_types'].str.contains('NEMA')]\n",
    "\n",
    "# Group by year and 'ev_connector_types' and count the number of stations confirmed\n",
    "growth_df = SDGE_df_exploded.groupby([SDGE_df_exploded['open_date'].dt.to_period('Y'), 'ev_connector_types']).size().reset_index(name='stations_confirmed')\n",
    "\n",
    "# Create cumulative sum for each connector type\n",
    "growth_df['cumulative_stations'] = growth_df.groupby('ev_connector_types')['stations_confirmed'].cumsum()\n",
    "growth_df = growth_df[(growth_df['open_date'].dt.year > 2008) & (growth_df['open_date'].dt.year < 2025)]\n",
    "\n",
    "# Convert 'open_date' to a timestamp for plotting\n",
    "growth_df['open_date'] = growth_df['open_date'].dt.to_timestamp()\n",
    "\n",
    "# Create the interactive Plotly plot\n",
    "fig = px.line(\n",
    "    growth_df, \n",
    "    x='open_date', \n",
    "    y='cumulative_stations', \n",
    "    color='ev_connector_types',\n",
    "    labels={'cumulative_stations': 'Number of Charging Stations',\n",
    "            'open_date': 'Date',\n",
    "            'ev_connector_types': 'Connector Type'},\n",
    "    title='Growth of EV Charging Stations by Connector Type Over Time in SDGE Territory',\n",
    "    width=900,\n",
    "    height=600\n",
    ")\n",
    "\n",
    "fig.show()"
   ]
  },
  {
   "cell_type": "code",
   "execution_count": 18,
   "metadata": {},
   "outputs": [
    {
     "name": "stderr",
     "output_type": "stream",
     "text": [
      "/var/folders/6g/hzhm6cpn3n53kypvmqckpqrh0000gn/T/ipykernel_84225/1969747140.py:2: SettingWithCopyWarning:\n",
      "\n",
      "\n",
      "A value is trying to be set on a copy of a slice from a DataFrame.\n",
      "Try using .loc[row_indexer,col_indexer] = value instead\n",
      "\n",
      "See the caveats in the documentation: https://pandas.pydata.org/pandas-docs/stable/user_guide/indexing.html#returning-a-view-versus-a-copy\n",
      "\n"
     ]
    },
    {
     "data": {
      "application/vnd.plotly.v1+json": {
       "config": {
        "plotlyServerURL": "https://plot.ly"
       },
       "data": [
        {
         "hovertemplate": "Connector Type=J1772<br>Date=%{x}<br>Number of Charging Stations=%{y}<extra></extra>",
         "legendgroup": "J1772",
         "line": {
          "color": "#636efa",
          "dash": "solid"
         },
         "marker": {
          "symbol": "circle"
         },
         "mode": "lines",
         "name": "J1772",
         "orientation": "v",
         "showlegend": true,
         "type": "scatter",
         "x": [
          "2009-01-01T00:00:00",
          "2010-01-01T00:00:00",
          "2011-01-01T00:00:00",
          "2012-01-01T00:00:00",
          "2013-01-01T00:00:00",
          "2014-01-01T00:00:00",
          "2015-01-01T00:00:00",
          "2016-01-01T00:00:00",
          "2017-01-01T00:00:00",
          "2018-01-01T00:00:00",
          "2019-01-01T00:00:00",
          "2020-01-01T00:00:00",
          "2021-01-01T00:00:00",
          "2022-01-01T00:00:00",
          "2023-01-01T00:00:00",
          "2024-01-01T00:00:00",
          "2025-01-01T00:00:00"
         ],
         "xaxis": "x",
         "y": [
          96,
          143,
          1192,
          2632,
          3123,
          4023,
          5449,
          6946,
          8656,
          10820,
          13770,
          20093,
          35231,
          45506,
          56042,
          64750,
          64752
         ],
         "yaxis": "y"
        },
        {
         "hovertemplate": "Connector Type=CHADEMO<br>Date=%{x}<br>Number of Charging Stations=%{y}<extra></extra>",
         "legendgroup": "CHADEMO",
         "line": {
          "color": "#EF553B",
          "dash": "solid"
         },
         "marker": {
          "symbol": "circle"
         },
         "mode": "lines",
         "name": "CHADEMO",
         "orientation": "v",
         "showlegend": true,
         "type": "scatter",
         "x": [
          "2010-01-01T00:00:00",
          "2011-01-01T00:00:00",
          "2012-01-01T00:00:00",
          "2013-01-01T00:00:00",
          "2014-01-01T00:00:00",
          "2015-01-01T00:00:00",
          "2016-01-01T00:00:00",
          "2017-01-01T00:00:00",
          "2018-01-01T00:00:00",
          "2019-01-01T00:00:00",
          "2020-01-01T00:00:00",
          "2021-01-01T00:00:00",
          "2022-01-01T00:00:00",
          "2023-01-01T00:00:00",
          "2024-01-01T00:00:00",
          "2025-01-01T00:00:00"
         ],
         "xaxis": "x",
         "y": [
          9,
          192,
          384,
          396,
          439,
          476,
          572,
          619,
          982,
          1320,
          1987,
          3010,
          3944,
          5257,
          6342,
          6343
         ],
         "yaxis": "y"
        },
        {
         "hovertemplate": "Connector Type=J1772COMBO<br>Date=%{x}<br>Number of Charging Stations=%{y}<extra></extra>",
         "legendgroup": "J1772COMBO",
         "line": {
          "color": "#00cc96",
          "dash": "solid"
         },
         "marker": {
          "symbol": "circle"
         },
         "mode": "lines",
         "name": "J1772COMBO",
         "orientation": "v",
         "showlegend": true,
         "type": "scatter",
         "x": [
          "2010-01-01T00:00:00",
          "2011-01-01T00:00:00",
          "2012-01-01T00:00:00",
          "2013-01-01T00:00:00",
          "2014-01-01T00:00:00",
          "2015-01-01T00:00:00",
          "2016-01-01T00:00:00",
          "2017-01-01T00:00:00",
          "2018-01-01T00:00:00",
          "2019-01-01T00:00:00",
          "2020-01-01T00:00:00",
          "2021-01-01T00:00:00",
          "2022-01-01T00:00:00",
          "2023-01-01T00:00:00",
          "2024-01-01T00:00:00",
          "2025-01-01T00:00:00"
         ],
         "xaxis": "x",
         "y": [
          6,
          103,
          221,
          235,
          271,
          309,
          396,
          440,
          826,
          1263,
          2101,
          3334,
          4591,
          7069,
          9696,
          9697
         ],
         "yaxis": "y"
        },
        {
         "hovertemplate": "Connector Type=TESLA<br>Date=%{x}<br>Number of Charging Stations=%{y}<extra></extra>",
         "legendgroup": "TESLA",
         "line": {
          "color": "#ab63fa",
          "dash": "solid"
         },
         "marker": {
          "symbol": "circle"
         },
         "mode": "lines",
         "name": "TESLA",
         "orientation": "v",
         "showlegend": true,
         "type": "scatter",
         "x": [
          "2010-01-01T00:00:00",
          "2011-01-01T00:00:00",
          "2012-01-01T00:00:00",
          "2013-01-01T00:00:00",
          "2014-01-01T00:00:00",
          "2015-01-01T00:00:00",
          "2016-01-01T00:00:00",
          "2017-01-01T00:00:00",
          "2018-01-01T00:00:00",
          "2019-01-01T00:00:00",
          "2020-01-01T00:00:00",
          "2021-01-01T00:00:00",
          "2022-01-01T00:00:00",
          "2023-01-01T00:00:00",
          "2024-01-01T00:00:00"
         ],
         "xaxis": "x",
         "y": [
          1,
          4,
          9,
          61,
          356,
          1338,
          2105,
          3133,
          4123,
          4668,
          5220,
          5642,
          6226,
          6786,
          7291
         ],
         "yaxis": "y"
        }
       ],
       "layout": {
        "height": 600,
        "legend": {
         "title": {
          "text": "Connector Type"
         },
         "tracegroupgap": 0
        },
        "template": {
         "data": {
          "bar": [
           {
            "error_x": {
             "color": "#2a3f5f"
            },
            "error_y": {
             "color": "#2a3f5f"
            },
            "marker": {
             "line": {
              "color": "#E5ECF6",
              "width": 0.5
             },
             "pattern": {
              "fillmode": "overlay",
              "size": 10,
              "solidity": 0.2
             }
            },
            "type": "bar"
           }
          ],
          "barpolar": [
           {
            "marker": {
             "line": {
              "color": "#E5ECF6",
              "width": 0.5
             },
             "pattern": {
              "fillmode": "overlay",
              "size": 10,
              "solidity": 0.2
             }
            },
            "type": "barpolar"
           }
          ],
          "carpet": [
           {
            "aaxis": {
             "endlinecolor": "#2a3f5f",
             "gridcolor": "white",
             "linecolor": "white",
             "minorgridcolor": "white",
             "startlinecolor": "#2a3f5f"
            },
            "baxis": {
             "endlinecolor": "#2a3f5f",
             "gridcolor": "white",
             "linecolor": "white",
             "minorgridcolor": "white",
             "startlinecolor": "#2a3f5f"
            },
            "type": "carpet"
           }
          ],
          "choropleth": [
           {
            "colorbar": {
             "outlinewidth": 0,
             "ticks": ""
            },
            "type": "choropleth"
           }
          ],
          "contour": [
           {
            "colorbar": {
             "outlinewidth": 0,
             "ticks": ""
            },
            "colorscale": [
             [
              0,
              "#0d0887"
             ],
             [
              0.1111111111111111,
              "#46039f"
             ],
             [
              0.2222222222222222,
              "#7201a8"
             ],
             [
              0.3333333333333333,
              "#9c179e"
             ],
             [
              0.4444444444444444,
              "#bd3786"
             ],
             [
              0.5555555555555556,
              "#d8576b"
             ],
             [
              0.6666666666666666,
              "#ed7953"
             ],
             [
              0.7777777777777778,
              "#fb9f3a"
             ],
             [
              0.8888888888888888,
              "#fdca26"
             ],
             [
              1,
              "#f0f921"
             ]
            ],
            "type": "contour"
           }
          ],
          "contourcarpet": [
           {
            "colorbar": {
             "outlinewidth": 0,
             "ticks": ""
            },
            "type": "contourcarpet"
           }
          ],
          "heatmap": [
           {
            "colorbar": {
             "outlinewidth": 0,
             "ticks": ""
            },
            "colorscale": [
             [
              0,
              "#0d0887"
             ],
             [
              0.1111111111111111,
              "#46039f"
             ],
             [
              0.2222222222222222,
              "#7201a8"
             ],
             [
              0.3333333333333333,
              "#9c179e"
             ],
             [
              0.4444444444444444,
              "#bd3786"
             ],
             [
              0.5555555555555556,
              "#d8576b"
             ],
             [
              0.6666666666666666,
              "#ed7953"
             ],
             [
              0.7777777777777778,
              "#fb9f3a"
             ],
             [
              0.8888888888888888,
              "#fdca26"
             ],
             [
              1,
              "#f0f921"
             ]
            ],
            "type": "heatmap"
           }
          ],
          "heatmapgl": [
           {
            "colorbar": {
             "outlinewidth": 0,
             "ticks": ""
            },
            "colorscale": [
             [
              0,
              "#0d0887"
             ],
             [
              0.1111111111111111,
              "#46039f"
             ],
             [
              0.2222222222222222,
              "#7201a8"
             ],
             [
              0.3333333333333333,
              "#9c179e"
             ],
             [
              0.4444444444444444,
              "#bd3786"
             ],
             [
              0.5555555555555556,
              "#d8576b"
             ],
             [
              0.6666666666666666,
              "#ed7953"
             ],
             [
              0.7777777777777778,
              "#fb9f3a"
             ],
             [
              0.8888888888888888,
              "#fdca26"
             ],
             [
              1,
              "#f0f921"
             ]
            ],
            "type": "heatmapgl"
           }
          ],
          "histogram": [
           {
            "marker": {
             "pattern": {
              "fillmode": "overlay",
              "size": 10,
              "solidity": 0.2
             }
            },
            "type": "histogram"
           }
          ],
          "histogram2d": [
           {
            "colorbar": {
             "outlinewidth": 0,
             "ticks": ""
            },
            "colorscale": [
             [
              0,
              "#0d0887"
             ],
             [
              0.1111111111111111,
              "#46039f"
             ],
             [
              0.2222222222222222,
              "#7201a8"
             ],
             [
              0.3333333333333333,
              "#9c179e"
             ],
             [
              0.4444444444444444,
              "#bd3786"
             ],
             [
              0.5555555555555556,
              "#d8576b"
             ],
             [
              0.6666666666666666,
              "#ed7953"
             ],
             [
              0.7777777777777778,
              "#fb9f3a"
             ],
             [
              0.8888888888888888,
              "#fdca26"
             ],
             [
              1,
              "#f0f921"
             ]
            ],
            "type": "histogram2d"
           }
          ],
          "histogram2dcontour": [
           {
            "colorbar": {
             "outlinewidth": 0,
             "ticks": ""
            },
            "colorscale": [
             [
              0,
              "#0d0887"
             ],
             [
              0.1111111111111111,
              "#46039f"
             ],
             [
              0.2222222222222222,
              "#7201a8"
             ],
             [
              0.3333333333333333,
              "#9c179e"
             ],
             [
              0.4444444444444444,
              "#bd3786"
             ],
             [
              0.5555555555555556,
              "#d8576b"
             ],
             [
              0.6666666666666666,
              "#ed7953"
             ],
             [
              0.7777777777777778,
              "#fb9f3a"
             ],
             [
              0.8888888888888888,
              "#fdca26"
             ],
             [
              1,
              "#f0f921"
             ]
            ],
            "type": "histogram2dcontour"
           }
          ],
          "mesh3d": [
           {
            "colorbar": {
             "outlinewidth": 0,
             "ticks": ""
            },
            "type": "mesh3d"
           }
          ],
          "parcoords": [
           {
            "line": {
             "colorbar": {
              "outlinewidth": 0,
              "ticks": ""
             }
            },
            "type": "parcoords"
           }
          ],
          "pie": [
           {
            "automargin": true,
            "type": "pie"
           }
          ],
          "scatter": [
           {
            "fillpattern": {
             "fillmode": "overlay",
             "size": 10,
             "solidity": 0.2
            },
            "type": "scatter"
           }
          ],
          "scatter3d": [
           {
            "line": {
             "colorbar": {
              "outlinewidth": 0,
              "ticks": ""
             }
            },
            "marker": {
             "colorbar": {
              "outlinewidth": 0,
              "ticks": ""
             }
            },
            "type": "scatter3d"
           }
          ],
          "scattercarpet": [
           {
            "marker": {
             "colorbar": {
              "outlinewidth": 0,
              "ticks": ""
             }
            },
            "type": "scattercarpet"
           }
          ],
          "scattergeo": [
           {
            "marker": {
             "colorbar": {
              "outlinewidth": 0,
              "ticks": ""
             }
            },
            "type": "scattergeo"
           }
          ],
          "scattergl": [
           {
            "marker": {
             "colorbar": {
              "outlinewidth": 0,
              "ticks": ""
             }
            },
            "type": "scattergl"
           }
          ],
          "scattermapbox": [
           {
            "marker": {
             "colorbar": {
              "outlinewidth": 0,
              "ticks": ""
             }
            },
            "type": "scattermapbox"
           }
          ],
          "scatterpolar": [
           {
            "marker": {
             "colorbar": {
              "outlinewidth": 0,
              "ticks": ""
             }
            },
            "type": "scatterpolar"
           }
          ],
          "scatterpolargl": [
           {
            "marker": {
             "colorbar": {
              "outlinewidth": 0,
              "ticks": ""
             }
            },
            "type": "scatterpolargl"
           }
          ],
          "scatterternary": [
           {
            "marker": {
             "colorbar": {
              "outlinewidth": 0,
              "ticks": ""
             }
            },
            "type": "scatterternary"
           }
          ],
          "surface": [
           {
            "colorbar": {
             "outlinewidth": 0,
             "ticks": ""
            },
            "colorscale": [
             [
              0,
              "#0d0887"
             ],
             [
              0.1111111111111111,
              "#46039f"
             ],
             [
              0.2222222222222222,
              "#7201a8"
             ],
             [
              0.3333333333333333,
              "#9c179e"
             ],
             [
              0.4444444444444444,
              "#bd3786"
             ],
             [
              0.5555555555555556,
              "#d8576b"
             ],
             [
              0.6666666666666666,
              "#ed7953"
             ],
             [
              0.7777777777777778,
              "#fb9f3a"
             ],
             [
              0.8888888888888888,
              "#fdca26"
             ],
             [
              1,
              "#f0f921"
             ]
            ],
            "type": "surface"
           }
          ],
          "table": [
           {
            "cells": {
             "fill": {
              "color": "#EBF0F8"
             },
             "line": {
              "color": "white"
             }
            },
            "header": {
             "fill": {
              "color": "#C8D4E3"
             },
             "line": {
              "color": "white"
             }
            },
            "type": "table"
           }
          ]
         },
         "layout": {
          "annotationdefaults": {
           "arrowcolor": "#2a3f5f",
           "arrowhead": 0,
           "arrowwidth": 1
          },
          "autotypenumbers": "strict",
          "coloraxis": {
           "colorbar": {
            "outlinewidth": 0,
            "ticks": ""
           }
          },
          "colorscale": {
           "diverging": [
            [
             0,
             "#8e0152"
            ],
            [
             0.1,
             "#c51b7d"
            ],
            [
             0.2,
             "#de77ae"
            ],
            [
             0.3,
             "#f1b6da"
            ],
            [
             0.4,
             "#fde0ef"
            ],
            [
             0.5,
             "#f7f7f7"
            ],
            [
             0.6,
             "#e6f5d0"
            ],
            [
             0.7,
             "#b8e186"
            ],
            [
             0.8,
             "#7fbc41"
            ],
            [
             0.9,
             "#4d9221"
            ],
            [
             1,
             "#276419"
            ]
           ],
           "sequential": [
            [
             0,
             "#0d0887"
            ],
            [
             0.1111111111111111,
             "#46039f"
            ],
            [
             0.2222222222222222,
             "#7201a8"
            ],
            [
             0.3333333333333333,
             "#9c179e"
            ],
            [
             0.4444444444444444,
             "#bd3786"
            ],
            [
             0.5555555555555556,
             "#d8576b"
            ],
            [
             0.6666666666666666,
             "#ed7953"
            ],
            [
             0.7777777777777778,
             "#fb9f3a"
            ],
            [
             0.8888888888888888,
             "#fdca26"
            ],
            [
             1,
             "#f0f921"
            ]
           ],
           "sequentialminus": [
            [
             0,
             "#0d0887"
            ],
            [
             0.1111111111111111,
             "#46039f"
            ],
            [
             0.2222222222222222,
             "#7201a8"
            ],
            [
             0.3333333333333333,
             "#9c179e"
            ],
            [
             0.4444444444444444,
             "#bd3786"
            ],
            [
             0.5555555555555556,
             "#d8576b"
            ],
            [
             0.6666666666666666,
             "#ed7953"
            ],
            [
             0.7777777777777778,
             "#fb9f3a"
            ],
            [
             0.8888888888888888,
             "#fdca26"
            ],
            [
             1,
             "#f0f921"
            ]
           ]
          },
          "colorway": [
           "#636efa",
           "#EF553B",
           "#00cc96",
           "#ab63fa",
           "#FFA15A",
           "#19d3f3",
           "#FF6692",
           "#B6E880",
           "#FF97FF",
           "#FECB52"
          ],
          "font": {
           "color": "#2a3f5f"
          },
          "geo": {
           "bgcolor": "white",
           "lakecolor": "white",
           "landcolor": "#E5ECF6",
           "showlakes": true,
           "showland": true,
           "subunitcolor": "white"
          },
          "hoverlabel": {
           "align": "left"
          },
          "hovermode": "closest",
          "mapbox": {
           "style": "light"
          },
          "paper_bgcolor": "white",
          "plot_bgcolor": "#E5ECF6",
          "polar": {
           "angularaxis": {
            "gridcolor": "white",
            "linecolor": "white",
            "ticks": ""
           },
           "bgcolor": "#E5ECF6",
           "radialaxis": {
            "gridcolor": "white",
            "linecolor": "white",
            "ticks": ""
           }
          },
          "scene": {
           "xaxis": {
            "backgroundcolor": "#E5ECF6",
            "gridcolor": "white",
            "gridwidth": 2,
            "linecolor": "white",
            "showbackground": true,
            "ticks": "",
            "zerolinecolor": "white"
           },
           "yaxis": {
            "backgroundcolor": "#E5ECF6",
            "gridcolor": "white",
            "gridwidth": 2,
            "linecolor": "white",
            "showbackground": true,
            "ticks": "",
            "zerolinecolor": "white"
           },
           "zaxis": {
            "backgroundcolor": "#E5ECF6",
            "gridcolor": "white",
            "gridwidth": 2,
            "linecolor": "white",
            "showbackground": true,
            "ticks": "",
            "zerolinecolor": "white"
           }
          },
          "shapedefaults": {
           "line": {
            "color": "#2a3f5f"
           }
          },
          "ternary": {
           "aaxis": {
            "gridcolor": "white",
            "linecolor": "white",
            "ticks": ""
           },
           "baxis": {
            "gridcolor": "white",
            "linecolor": "white",
            "ticks": ""
           },
           "bgcolor": "#E5ECF6",
           "caxis": {
            "gridcolor": "white",
            "linecolor": "white",
            "ticks": ""
           }
          },
          "title": {
           "x": 0.05
          },
          "xaxis": {
           "automargin": true,
           "gridcolor": "white",
           "linecolor": "white",
           "ticks": "",
           "title": {
            "standoff": 15
           },
           "zerolinecolor": "white",
           "zerolinewidth": 2
          },
          "yaxis": {
           "automargin": true,
           "gridcolor": "white",
           "linecolor": "white",
           "ticks": "",
           "title": {
            "standoff": 15
           },
           "zerolinecolor": "white",
           "zerolinewidth": 2
          }
         }
        },
        "title": {
         "text": "Growth of EV Charging Stations by Connector Type Over Time in the United States"
        },
        "width": 900,
        "xaxis": {
         "anchor": "y",
         "domain": [
          0,
          1
         ],
         "title": {
          "text": "Date"
         }
        },
        "yaxis": {
         "anchor": "x",
         "domain": [
          0,
          1
         ],
         "title": {
          "text": "Number of Charging Stations"
         }
        }
       }
      }
     },
     "metadata": {},
     "output_type": "display_data"
    }
   ],
   "source": [
    "\n",
    "# Apply `safe_literal_eval` only to strings\n",
    "rdf_ELEC['ev_connector_types'] = rdf_ELEC['ev_connector_types'].dropna().apply(safe_literal_eval)\n",
    "rdf_ELEC_exploded = rdf_ELEC.explode('ev_connector_types')\n",
    "rdf_ELEC_exploded = rdf_ELEC_exploded.dropna(subset=['ev_connector_types'])\n",
    "\n",
    "# Remove unwanted connector types (e.g., NEMA types)\n",
    "rdf_ELEC_exploded = rdf_ELEC_exploded[~rdf_ELEC_exploded['ev_connector_types'].str.contains('NEMA')]\n",
    "\n",
    "# Step 2: Group by year and 'ev_connector_types' and count the number of stations confirmed\n",
    "growth_df = rdf_ELEC_exploded.groupby([rdf_ELEC_exploded['open_date'].dt.to_period('Y'), 'ev_connector_types']).size().reset_index(name='stations_confirmed')\n",
    "\n",
    "# Step 3: Create cumulative sum for each connector type\n",
    "growth_df['cumulative_stations'] = growth_df.groupby('ev_connector_types')['stations_confirmed'].cumsum()\n",
    "growth_df = growth_df[growth_df['open_date'].dt.year > 2008]\n",
    "\n",
    "# Convert 'open_date' to a timestamp for plotting\n",
    "growth_df['open_date'] = growth_df['open_date'].dt.to_timestamp()\n",
    "\n",
    "# Step 4: Create the interactive Plotly plot\n",
    "fig = px.line(\n",
    "    growth_df, \n",
    "    x='open_date', \n",
    "    y='cumulative_stations', \n",
    "    color='ev_connector_types',\n",
    "    labels={'cumulative_stations': 'Number of Charging Stations',\n",
    "            'open_date': 'Date',\n",
    "            'ev_connector_types': 'Connector Type'},\n",
    "    title='Growth of EV Charging Stations by Connector Type Over Time in the United States',\n",
    "    width=900,\n",
    "    height=600\n",
    ")\n",
    "fig.show()"
   ]
  },
  {
   "attachments": {},
   "cell_type": "markdown",
   "metadata": {},
   "source": [
    "# Creating Choropleth Geospatial Map of Charger Density in Zip Codes of SDGE"
   ]
  },
  {
   "cell_type": "code",
   "execution_count": 19,
   "metadata": {},
   "outputs": [
    {
     "ename": "DriverError",
     "evalue": "Failed to open dataset (flags=68): data/tl_2024_us_zcta520/tl_2024_us_zcta520.shp",
     "output_type": "error",
     "traceback": [
      "\u001b[0;31m---------------------------------------------------------------------------\u001b[0m",
      "\u001b[0;31mCPLE_OpenFailedError\u001b[0m                      Traceback (most recent call last)",
      "File \u001b[0;32mfiona/ogrext.pyx:130\u001b[0m, in \u001b[0;36mfiona.ogrext.gdal_open_vector\u001b[0;34m()\u001b[0m\n",
      "File \u001b[0;32mfiona/ogrext.pyx:134\u001b[0m, in \u001b[0;36mfiona.ogrext.gdal_open_vector\u001b[0;34m()\u001b[0m\n",
      "File \u001b[0;32mfiona/_err.pyx:375\u001b[0m, in \u001b[0;36mfiona._err.StackChecker.exc_wrap_pointer\u001b[0;34m()\u001b[0m\n",
      "\u001b[0;31mCPLE_OpenFailedError\u001b[0m: data/tl_2024_us_zcta520/tl_2024_us_zcta520.shp: No such file or directory",
      "\nThe above exception was the direct cause of the following exception:\n",
      "\u001b[0;31mDriverError\u001b[0m                               Traceback (most recent call last)",
      "Cell \u001b[0;32mIn[19], line 4\u001b[0m\n\u001b[1;32m      2\u001b[0m chargers_per_zip_SDGE \u001b[39m=\u001b[39m SDGE_df\u001b[39m.\u001b[39mgroupby(\u001b[39m'\u001b[39m\u001b[39mzip\u001b[39m\u001b[39m'\u001b[39m)\u001b[39m.\u001b[39msize()\u001b[39m.\u001b[39mreset_index(name\u001b[39m=\u001b[39m\u001b[39m'\u001b[39m\u001b[39mcharger_count\u001b[39m\u001b[39m'\u001b[39m)\n\u001b[1;32m      3\u001b[0m \u001b[39m# Load the shapefile containing ZIP code boundaries for all of US\u001b[39;00m\n\u001b[0;32m----> 4\u001b[0m zip_shapefile \u001b[39m=\u001b[39m gpd\u001b[39m.\u001b[39mread_file(\u001b[39m'\u001b[39m\u001b[39mdata/tl_2024_us_zcta520/tl_2024_us_zcta520.shp\u001b[39m\u001b[39m'\u001b[39m)\n\u001b[1;32m      5\u001b[0m \u001b[39m# Ensure that the ZIP code column in both dataframes are of the same type (string)\u001b[39;00m\n\u001b[1;32m      6\u001b[0m chargers_per_zip_SDGE[\u001b[39m'\u001b[39m\u001b[39mzip\u001b[39m\u001b[39m'\u001b[39m] \u001b[39m=\u001b[39m chargers_per_zip_SDGE[\u001b[39m'\u001b[39m\u001b[39mzip\u001b[39m\u001b[39m'\u001b[39m]\u001b[39m.\u001b[39mastype(\u001b[39mstr\u001b[39m)\n",
      "File \u001b[0;32m~/anaconda3/envs/dsc180a/lib/python3.11/site-packages/geopandas/io/file.py:289\u001b[0m, in \u001b[0;36m_read_file\u001b[0;34m(filename, bbox, mask, rows, engine, **kwargs)\u001b[0m\n\u001b[1;32m    286\u001b[0m     \u001b[39melse\u001b[39;00m:\n\u001b[1;32m    287\u001b[0m         path_or_bytes \u001b[39m=\u001b[39m filename\n\u001b[0;32m--> 289\u001b[0m     \u001b[39mreturn\u001b[39;00m _read_file_fiona(\n\u001b[1;32m    290\u001b[0m         path_or_bytes, from_bytes, bbox\u001b[39m=\u001b[39mbbox, mask\u001b[39m=\u001b[39mmask, rows\u001b[39m=\u001b[39mrows, \u001b[39m*\u001b[39m\u001b[39m*\u001b[39mkwargs\n\u001b[1;32m    291\u001b[0m     )\n\u001b[1;32m    293\u001b[0m \u001b[39melse\u001b[39;00m:\n\u001b[1;32m    294\u001b[0m     \u001b[39mraise\u001b[39;00m \u001b[39mValueError\u001b[39;00m(\u001b[39mf\u001b[39m\u001b[39m\"\u001b[39m\u001b[39munknown engine \u001b[39m\u001b[39m'\u001b[39m\u001b[39m{\u001b[39;00mengine\u001b[39m}\u001b[39;00m\u001b[39m'\u001b[39m\u001b[39m\"\u001b[39m)\n",
      "File \u001b[0;32m~/anaconda3/envs/dsc180a/lib/python3.11/site-packages/geopandas/io/file.py:315\u001b[0m, in \u001b[0;36m_read_file_fiona\u001b[0;34m(path_or_bytes, from_bytes, bbox, mask, rows, where, **kwargs)\u001b[0m\n\u001b[1;32m    312\u001b[0m     reader \u001b[39m=\u001b[39m fiona\u001b[39m.\u001b[39mopen\n\u001b[1;32m    314\u001b[0m \u001b[39mwith\u001b[39;00m fiona_env():\n\u001b[0;32m--> 315\u001b[0m     \u001b[39mwith\u001b[39;00m reader(path_or_bytes, \u001b[39m*\u001b[39m\u001b[39m*\u001b[39mkwargs) \u001b[39mas\u001b[39;00m features:\n\u001b[1;32m    316\u001b[0m         crs \u001b[39m=\u001b[39m features\u001b[39m.\u001b[39mcrs_wkt\n\u001b[1;32m    317\u001b[0m         \u001b[39m# attempt to get EPSG code\u001b[39;00m\n",
      "File \u001b[0;32m~/anaconda3/envs/dsc180a/lib/python3.11/site-packages/fiona/env.py:457\u001b[0m, in \u001b[0;36mensure_env_with_credentials.<locals>.wrapper\u001b[0;34m(*args, **kwds)\u001b[0m\n\u001b[1;32m    454\u001b[0m     session \u001b[39m=\u001b[39m DummySession()\n\u001b[1;32m    456\u001b[0m \u001b[39mwith\u001b[39;00m env_ctor(session\u001b[39m=\u001b[39msession):\n\u001b[0;32m--> 457\u001b[0m     \u001b[39mreturn\u001b[39;00m f(\u001b[39m*\u001b[39margs, \u001b[39m*\u001b[39m\u001b[39m*\u001b[39mkwds)\n",
      "File \u001b[0;32m~/anaconda3/envs/dsc180a/lib/python3.11/site-packages/fiona/__init__.py:342\u001b[0m, in \u001b[0;36mopen\u001b[0;34m(fp, mode, driver, schema, crs, encoding, layer, vfs, enabled_drivers, crs_wkt, ignore_fields, ignore_geometry, include_fields, wkt_version, allow_unsupported_drivers, opener, **kwargs)\u001b[0m\n\u001b[1;32m    339\u001b[0m         path \u001b[39m=\u001b[39m _parse_path(fp)\n\u001b[1;32m    341\u001b[0m \u001b[39mif\u001b[39;00m mode \u001b[39min\u001b[39;00m (\u001b[39m\"\u001b[39m\u001b[39ma\u001b[39m\u001b[39m\"\u001b[39m, \u001b[39m\"\u001b[39m\u001b[39mr\u001b[39m\u001b[39m\"\u001b[39m):\n\u001b[0;32m--> 342\u001b[0m     colxn \u001b[39m=\u001b[39m Collection(\n\u001b[1;32m    343\u001b[0m         path,\n\u001b[1;32m    344\u001b[0m         mode,\n\u001b[1;32m    345\u001b[0m         driver\u001b[39m=\u001b[39mdriver,\n\u001b[1;32m    346\u001b[0m         encoding\u001b[39m=\u001b[39mencoding,\n\u001b[1;32m    347\u001b[0m         layer\u001b[39m=\u001b[39mlayer,\n\u001b[1;32m    348\u001b[0m         ignore_fields\u001b[39m=\u001b[39mignore_fields,\n\u001b[1;32m    349\u001b[0m         include_fields\u001b[39m=\u001b[39minclude_fields,\n\u001b[1;32m    350\u001b[0m         ignore_geometry\u001b[39m=\u001b[39mignore_geometry,\n\u001b[1;32m    351\u001b[0m         wkt_version\u001b[39m=\u001b[39mwkt_version,\n\u001b[1;32m    352\u001b[0m         enabled_drivers\u001b[39m=\u001b[39menabled_drivers,\n\u001b[1;32m    353\u001b[0m         allow_unsupported_drivers\u001b[39m=\u001b[39mallow_unsupported_drivers,\n\u001b[1;32m    354\u001b[0m         \u001b[39m*\u001b[39m\u001b[39m*\u001b[39mkwargs\n\u001b[1;32m    355\u001b[0m     )\n\u001b[1;32m    356\u001b[0m \u001b[39melif\u001b[39;00m mode \u001b[39m==\u001b[39m \u001b[39m\"\u001b[39m\u001b[39mw\u001b[39m\u001b[39m\"\u001b[39m:\n\u001b[1;32m    357\u001b[0m     colxn \u001b[39m=\u001b[39m Collection(\n\u001b[1;32m    358\u001b[0m         path,\n\u001b[1;32m    359\u001b[0m         mode,\n\u001b[0;32m   (...)\u001b[0m\n\u001b[1;32m    372\u001b[0m         \u001b[39m*\u001b[39m\u001b[39m*\u001b[39mkwargs\n\u001b[1;32m    373\u001b[0m     )\n",
      "File \u001b[0;32m~/anaconda3/envs/dsc180a/lib/python3.11/site-packages/fiona/collection.py:226\u001b[0m, in \u001b[0;36mCollection.__init__\u001b[0;34m(self, path, mode, driver, schema, crs, encoding, layer, vsi, archive, enabled_drivers, crs_wkt, ignore_fields, ignore_geometry, include_fields, wkt_version, allow_unsupported_drivers, **kwargs)\u001b[0m\n\u001b[1;32m    224\u001b[0m \u001b[39mif\u001b[39;00m \u001b[39mself\u001b[39m\u001b[39m.\u001b[39mmode \u001b[39m==\u001b[39m \u001b[39m\"\u001b[39m\u001b[39mr\u001b[39m\u001b[39m\"\u001b[39m:\n\u001b[1;32m    225\u001b[0m     \u001b[39mself\u001b[39m\u001b[39m.\u001b[39msession \u001b[39m=\u001b[39m Session()\n\u001b[0;32m--> 226\u001b[0m     \u001b[39mself\u001b[39m\u001b[39m.\u001b[39msession\u001b[39m.\u001b[39mstart(\u001b[39mself\u001b[39m, \u001b[39m*\u001b[39m\u001b[39m*\u001b[39mkwargs)\n\u001b[1;32m    227\u001b[0m \u001b[39melif\u001b[39;00m \u001b[39mself\u001b[39m\u001b[39m.\u001b[39mmode \u001b[39min\u001b[39;00m (\u001b[39m\"\u001b[39m\u001b[39ma\u001b[39m\u001b[39m\"\u001b[39m, \u001b[39m\"\u001b[39m\u001b[39mw\u001b[39m\u001b[39m\"\u001b[39m):\n\u001b[1;32m    228\u001b[0m     \u001b[39mself\u001b[39m\u001b[39m.\u001b[39msession \u001b[39m=\u001b[39m WritingSession()\n",
      "File \u001b[0;32mfiona/ogrext.pyx:876\u001b[0m, in \u001b[0;36mfiona.ogrext.Session.start\u001b[0;34m()\u001b[0m\n",
      "File \u001b[0;32mfiona/ogrext.pyx:136\u001b[0m, in \u001b[0;36mfiona.ogrext.gdal_open_vector\u001b[0;34m()\u001b[0m\n",
      "\u001b[0;31mDriverError\u001b[0m: Failed to open dataset (flags=68): data/tl_2024_us_zcta520/tl_2024_us_zcta520.shp"
     ]
    }
   ],
   "source": [
    "# Group by 'zip' to get the count of chargers in each ZIP code\n",
    "chargers_per_zip_SDGE = SDGE_df.groupby('zip').size().reset_index(name='charger_count')\n",
    "# Load the shapefile containing ZIP code boundaries for all of US\n",
    "zip_shapefile = gpd.read_file('data/tl_2024_us_zcta520/tl_2024_us_zcta520.shp')\n",
    "# Ensure that the ZIP code column in both dataframes are of the same type (string)\n",
    "chargers_per_zip_SDGE['zip'] = chargers_per_zip_SDGE['zip'].astype(str)\n",
    "zip_shapefile['ZCTA5CE20'] = zip_shapefile['ZCTA5CE20'].astype(str)\n",
    "\n",
    "# Merge the charger data with the ZIP code shapefile\n",
    "map_zip_chargers = zip_shapefile.merge(chargers_per_zip_SDGE, left_on='ZCTA5CE20', right_on='zip', how='inner')\n",
    "\n",
    "# Fill NaN values with 0 for ZIP codes that have no chargers\n",
    "map_zip_chargers['charger_count'] = map_zip_chargers['charger_count'].fillna(0)\n",
    "map_zip_chargers = map_zip_chargers.sort_values('charger_count', ascending=False)\n",
    "map_zip_chargers"
   ]
  },
  {
   "attachments": {},
   "cell_type": "markdown",
   "metadata": {},
   "source": [
    "Plot the density of EV chargers by zip code on a geospatial map"
   ]
  },
  {
   "cell_type": "code",
   "execution_count": null,
   "metadata": {},
   "outputs": [],
   "source": [
    "# Plot the merged GeoDataFrame\n",
    "fig, ax = plt.subplots(1, 1, figsize=(12, 8))\n",
    "map_zip_chargers.plot(column='charger_count', cmap='OrRd', linewidth=0.8, ax=ax, edgecolor='0.8', legend=True)\n",
    "\n",
    "# Add title and axis labels\n",
    "ax.set_title('EV Charger Density by ZIP Code', fontdict={'fontsize': 15})\n",
    "ax.set_xlabel('Longitude')\n",
    "ax.set_ylabel('Latitude')\n",
    "\n",
    "# Show the plot\n",
    "plt.show()"
   ]
  },
  {
   "attachments": {},
   "cell_type": "markdown",
   "metadata": {},
   "source": [
    "Here I did the same thing but used folium to make the map interactive and more detailed"
   ]
  },
  {
   "cell_type": "code",
   "execution_count": null,
   "metadata": {},
   "outputs": [],
   "source": [
    "# Create a Folium map centered around the region\n",
    "m = folium.Map(location=[32.8, -117.2], zoom_start=10)  # Center on San Diego area\n",
    "\n",
    "# Add the GeoJson layer with a choropleth representation\n",
    "folium.Choropleth(\n",
    "    geo_data=map_zip_chargers.to_json(),\n",
    "    data=map_zip_chargers,\n",
    "    columns=['ZCTA5CE20', 'charger_count'],\n",
    "    key_on='feature.properties.ZCTA5CE20',\n",
    "    fill_color='YlOrRd',\n",
    "    fill_opacity=0.6,\n",
    "    line_opacity=0.2,\n",
    "    legend_name='EV Charger Density'\n",
    ").add_to(m)\n",
    "\n",
    "# Add tooltips to display ZIP code and charger count when hovering over each area\n",
    "folium.GeoJson(\n",
    "    map_zip_chargers.to_json(),\n",
    "    tooltip=folium.GeoJsonTooltip(fields=['ZCTA5CE20', 'charger_count'],\n",
    "                                  aliases=['ZIP Code', 'Charger Count'])\n",
    ").add_to(m)\n",
    "\n",
    "# Save the map to an HTML file\n",
    "m.save('figures/ev_charger_density_map.html')\n",
    "\n",
    "# Display the interactive map\n",
    "m"
   ]
  },
  {
   "attachments": {},
   "cell_type": "markdown",
   "metadata": {},
   "source": [
    "# Gathering Census Data with Cenpy and Merging with AFDC for more EDA"
   ]
  },
  {
   "cell_type": "code",
   "execution_count": null,
   "metadata": {},
   "outputs": [],
   "source": [
    "# Use products.APIConnection to connect to the \n",
    "# American Community Survey (ACS) dataset 5-Year Estimates\n",
    "connection = c.products.APIConnection('ACSDT5Y2022')\n",
    "# Drop all rows where concept is NA\n",
    "census_df = connection.variables[~connection.variables['concept'].isna()]"
   ]
  },
  {
   "attachments": {},
   "cell_type": "markdown",
   "metadata": {},
   "source": [
    "# Finding Relationship Between Median Household Income and EV Charger Density"
   ]
  },
  {
   "cell_type": "code",
   "execution_count": null,
   "metadata": {},
   "outputs": [],
   "source": [
    "# MEDIAN HOUSEHOLD INCOME IN THE PAST 12 MONTHS (IN 2021 INFLATION-ADJUSTED DOLLARS)\n",
    "income_variable = 'B19013_001E'\n",
    "\n",
    "# Query the data for all zip codes in the ACS 5-Year Estimates dataset\n",
    "income_data = connection.query(\n",
    "    cols=[income_variable],\n",
    "    geo_unit='zip code tabulation area'\n",
    ")"
   ]
  },
  {
   "cell_type": "code",
   "execution_count": null,
   "metadata": {},
   "outputs": [],
   "source": [
    "# Rename columns and filter for SDGE ZIP codes\n",
    "income_data = income_data.rename(columns={'zip code tabulation area': 'zip', income_variable: 'median_income'})\n",
    "SDGE_income_data = income_data[income_data['zip'].isin(chargers_per_zip_SDGE['zip'])]\n",
    "SDGE_income_data"
   ]
  },
  {
   "cell_type": "code",
   "execution_count": null,
   "metadata": {},
   "outputs": [],
   "source": [
    "# Merge charger count with median income data\n",
    "chargers_and_income_SDGE = chargers_per_zip_SDGE.merge(SDGE_income_data, on='zip', how='left')\n",
    "\n",
    "# Merge the combined data with the ZIP code shapefile\n",
    "map_chargers_income = zip_shapefile.merge(chargers_and_income_SDGE, left_on='ZCTA5CE20', right_on='zip', how='inner')\n",
    "map_chargers_income['charger_count'] = pd.to_numeric(map_chargers_income['charger_count'], errors='coerce').fillna(0)\n",
    "map_chargers_income['median_income'] = pd.to_numeric(map_chargers_income['median_income'], errors='coerce').fillna(0)"
   ]
  },
  {
   "attachments": {},
   "cell_type": "markdown",
   "metadata": {},
   "source": [
    "Created a dataframe that has zip code, charger count, and median income that can then be plotted on a map"
   ]
  },
  {
   "cell_type": "code",
   "execution_count": null,
   "metadata": {},
   "outputs": [],
   "source": [
    "# Drop rows that didn't have a valid median_income \n",
    "map_chargers_income = map_chargers_income[map_chargers_income['median_income'] >= 0]\n",
    "map_chargers_income.sort_values(by='median_income', ascending=False)"
   ]
  },
  {
   "cell_type": "code",
   "execution_count": null,
   "metadata": {},
   "outputs": [],
   "source": [
    "# Create a Folium map centered around the San Diego area\n",
    "m = folium.Map(location=[32.8, -117.2], zoom_start=10)\n",
    "\n",
    "# Add a Choropleth layer for EV Charger Density\n",
    "folium.Choropleth(\n",
    "    geo_data=map_chargers_income.to_json(),\n",
    "    data=map_chargers_income,\n",
    "    columns=['ZCTA5CE20', 'charger_count'],\n",
    "    key_on='feature.properties.ZCTA5CE20',\n",
    "    fill_color='YlOrRd',\n",
    "    fill_opacity=0.5,\n",
    "    line_opacity=0.2,\n",
    "    legend_name='EV Charger Density'\n",
    ").add_to(m)\n",
    "\n",
    "# Add another Choropleth layer for Median Income\n",
    "folium.Choropleth(\n",
    "    geo_data=map_chargers_income.to_json(),\n",
    "    data=map_chargers_income,\n",
    "    columns=['ZCTA5CE20', 'median_income'],\n",
    "    key_on='feature.properties.ZCTA5CE20',\n",
    "    fill_color='BuPu',\n",
    "    fill_opacity=0.5,\n",
    "    line_opacity=0.2,\n",
    "    legend_name='Median Household Income'\n",
    ").add_to(m)\n",
    "\n",
    "# Add tooltips to display ZIP code, charger count, and median income\n",
    "folium.GeoJson(\n",
    "    map_chargers_income.to_json(),\n",
    "    tooltip=folium.GeoJsonTooltip(\n",
    "        fields=['ZCTA5CE20', 'charger_count', 'median_income'],\n",
    "        aliases=['ZIP Code', 'Charger Count', 'Median Income']\n",
    "    )\n",
    ").add_to(m)\n",
    "\n",
    "# Save the map to an HTML file\n",
    "m.save('figures/ev_charger_income_density_map.html')\n",
    "\n",
    "# Display the interactive map\n",
    "m"
   ]
  },
  {
   "cell_type": "code",
   "execution_count": null,
   "metadata": {},
   "outputs": [],
   "source": [
    "fig = px.scatter(\n",
    "    map_chargers_income,\n",
    "    x='median_income',\n",
    "    y='charger_count',\n",
    "    labels={'median_income': 'Median Household Income', 'charger_count': 'Charger Count'},\n",
    "    title='Relationship Between Median Household Income and EV Charger Count by Zip Code in SDGE'\n",
    ")\n",
    "fig.show()"
   ]
  },
  {
   "attachments": {},
   "cell_type": "markdown",
   "metadata": {},
   "source": [
    "# Finding Relationship between Vehicle Counts and EV Charger Density in SDGE zip codes "
   ]
  },
  {
   "cell_type": "code",
   "execution_count": null,
   "metadata": {},
   "outputs": [],
   "source": [
    "# Define vehicle ownership variables, between 1 vehicle households and 3 vehicle households inclusive\n",
    "vehicle_vars = ['B25044_004E', 'B25044_005E', 'B25044_006E']  \n",
    "\n",
    "# Query for these variables across ZIP codes\n",
    "vehicle_data = connection.query(\n",
    "    cols=vehicle_vars,\n",
    "    geo_unit='zip code tabulation area'\n",
    ")\n",
    "\n",
    "# Ensure columns are numeric after querying\n",
    "vehicle_data['B25044_004E'] = pd.to_numeric(vehicle_data['B25044_004E'], errors='coerce')\n",
    "vehicle_data['B25044_005E'] = pd.to_numeric(vehicle_data['B25044_005E'], errors='coerce')\n",
    "vehicle_data['B25044_006E'] = pd.to_numeric(vehicle_data['B25044_006E'], errors='coerce')\n",
    "\n",
    "# Rename columns for clarity\n",
    "vehicle_data = vehicle_data.rename(columns={\n",
    "    'B25044_004E': 'households_1_vehicle',\n",
    "    'B25044_005E': 'households_2_vehicles',\n",
    "    'B25044_006E': 'households_3_or_more_vehicles'\n",
    "})\n",
    "# Estimate total vehicles (approximate by using 3 vehicles for \"3 or more\" category)\n",
    "vehicle_data['total_vehicles'] = (\n",
    "    vehicle_data['households_1_vehicle'] * 1 +\n",
    "    vehicle_data['households_2_vehicles'] * 2 +\n",
    "    vehicle_data['households_3_or_more_vehicles'] * 3\n",
    ")\n",
    "\n",
    "# Calculate vehicle ownership rate (vehicles per household)\n",
    "vehicle_data['vehicle_per_household'] = vehicle_data['total_vehicles'] / (\n",
    "    vehicle_data['households_1_vehicle'] +\n",
    "    vehicle_data['households_2_vehicles'] +\n",
    "    vehicle_data['households_3_or_more_vehicles']\n",
    ")"
   ]
  },
  {
   "cell_type": "code",
   "execution_count": null,
   "metadata": {},
   "outputs": [],
   "source": [
    "vehicle_data = vehicle_data.rename(columns={'zip code tabulation area': 'zip'})\n",
    "vehicle_data_SDGE = vehicle_data[vehicle_data['zip'].isin(chargers_per_zip_SDGE['zip'])]\n",
    "vehicle_data_SDGE = vehicle_data_SDGE.dropna()\n",
    "vehicle_data_SDGE['zip'] = vehicle_data_SDGE['zip'].astype(str)\n",
    "\n",
    "# Merge charger count with vehicle data\n",
    "chargers_and_vehicles_SDGE = chargers_per_zip_SDGE.merge(vehicle_data_SDGE, on='zip', how='inner')\n",
    "\n",
    "# Merge the vehicle data with the ZIP code shapefile on 'zip'\n",
    "map_chargers_vehicles = zip_shapefile.merge(chargers_and_vehicles_SDGE, left_on='ZCTA5CE20', right_on='zip', how='inner')"
   ]
  },
  {
   "cell_type": "code",
   "execution_count": null,
   "metadata": {},
   "outputs": [],
   "source": [
    "# Create a Folium map centered around the San Diego area\n",
    "m = folium.Map(location=[32.8, -117.2], zoom_start=10)\n",
    "\n",
    "folium.Choropleth(\n",
    "    geo_data=map_chargers_vehicles.to_json(),\n",
    "    data=map_chargers_vehicles,\n",
    "    columns=['ZCTA5CE20', 'charger_count'],\n",
    "    key_on='feature.properties.ZCTA5CE20',\n",
    "    fill_color='YlOrRd',\n",
    "    fill_opacity=0.5,\n",
    "    line_opacity=0.2,\n",
    "    legend_name='EV Charger Density'\n",
    ").add_to(m)\n",
    "\n",
    "\n",
    "# Add a choropleth layer to represent the total vehicles per ZIP code\n",
    "folium.Choropleth(\n",
    "    geo_data=map_chargers_vehicles.to_json(),\n",
    "    data=map_chargers_vehicles,\n",
    "    columns=['ZCTA5CE20', 'total_vehicles'],\n",
    "    key_on='feature.properties.ZCTA5CE20',\n",
    "    fill_color='YlGnBu',\n",
    "    fill_opacity=0.5,\n",
    "    line_opacity=0.2,\n",
    "    legend_name='Total Vehicles per ZIP Code'\n",
    ").add_to(m)\n",
    "\n",
    "# Add tooltips to display ZIP code and total vehicles when hovering over each area\n",
    "folium.GeoJson(\n",
    "    map_chargers_vehicles.to_json(),\n",
    "    tooltip=folium.GeoJsonTooltip(\n",
    "        fields=['ZCTA5CE20', 'charger_count', 'total_vehicles'],\n",
    "        aliases=['ZIP Code', 'Charger Count', 'Total Vehicles']\n",
    "    )\n",
    ").add_to(m)\n",
    "\n",
    "# Save the map to an HTML file\n",
    "m.save('figures/vehicle_density_map.html')\n",
    "\n",
    "# Display the interactive map\n",
    "m"
   ]
  },
  {
   "cell_type": "code",
   "execution_count": null,
   "metadata": {},
   "outputs": [],
   "source": [
    "fig = px.scatter(\n",
    "    map_chargers_vehicles,\n",
    "    x='total_vehicles',\n",
    "    y='charger_count',\n",
    "    labels={'total_vehicles': 'Total Vehicles', 'charger_count': 'Charger Count'},\n",
    "    title='Relationship Between Total Vehicles and EV Charger Count by Zip Code in SDGE'\n",
    ")\n",
    "fig.show()"
   ]
  },
  {
   "attachments": {},
   "cell_type": "markdown",
   "metadata": {},
   "source": [
    "# Using osmnx to Find the Distance Between My EV Charger and SDGE"
   ]
  },
  {
   "cell_type": "code",
   "execution_count": null,
   "metadata": {},
   "outputs": [],
   "source": [
    "# Defined starting and ending points (latitude, longitude)\n",
    "point_a = (32.87506710695114, -117.20368651139246)  # My Charger Location\n",
    "point_b = (32.82432124022306, -117.14287218508292)  # SDGE Century Park Location\n",
    "\n",
    "# Download the network graph for the area around the points\n",
    "G = ox.graph_from_point(point_a, dist=7000, network_type='drive')  # Increase dist if needed to cover the area\n",
    "\n",
    "# Get the nearest nodes on the network to your points\n",
    "node_a = ox.distance.nearest_nodes(G, X=point_a[1], Y=point_a[0])\n",
    "node_b = ox.distance.nearest_nodes(G, X=point_b[1], Y=point_b[0])\n",
    "\n",
    "# Calculate the shortest path length (in meters) between the nodes\n",
    "distance_meters = nx.shortest_path_length(G, node_a, node_b, weight='length')\n",
    "print(f\"The shortest path distance between the points is {distance_meters:.2f} meters.\")\n",
    "\n",
    "# Calculate the shortest path between the nodes (in terms of network distance)\n",
    "shortest_path = nx.shortest_path(G, node_a, node_b, weight='length')\n",
    "\n",
    "# Get the bounding box for the route (slightly expanded)\n",
    "north, south, east, west = ox.utils_geo.bbox_from_point(point_a, dist=7000)\n",
    "\n",
    "# Plot the graph and highlight the shortest path\n",
    "fig, ax = ox.plot_graph_route(\n",
    "    G, \n",
    "    route=shortest_path, \n",
    "    route_linewidth=4, \n",
    "    node_size=0, \n",
    "    bgcolor='w',\n",
    "    show=False,\n",
    "    close=False,\n",
    "    bbox=(north, south, east, west)  # Set custom bounding box\n",
    ")\n",
    "\n",
    "# Add starting and ending points to the plot\n",
    "ax.plot(point_a[1], point_a[0], marker='o', markersize=10, color='red', label='Start')\n",
    "ax.plot(point_b[1], point_b[0], marker='o', markersize=10, color='blue', label='End')\n",
    "\n",
    "# Add legend and show the plot\n",
    "plt.legend()\n",
    "plt.title(\"Shortest Path between Two Points\")\n",
    "plt.show()"
   ]
  },
  {
   "cell_type": "code",
   "execution_count": null,
   "metadata": {},
   "outputs": [],
   "source": [
    "# Extract latitude and longitude of each node in the shortest path\n",
    "route_coords = [(G.nodes[node]['y'], G.nodes[node]['x']) for node in shortest_path]\n",
    "\n",
    "# Create a Folium map centered between the two points\n",
    "map_center = ((point_a[0] + point_b[0]) / 2, (point_a[1] + point_b[1]) / 2)\n",
    "m = folium.Map(location=map_center, zoom_start=13)\n",
    "\n",
    "# Add the shortest path as a Polyline on the map\n",
    "folium.PolyLine(route_coords, color='red', weight=5, opacity=0.7).add_to(m)\n",
    "\n",
    "# Add markers for the start and end points\n",
    "folium.Marker(location=point_a, tooltip='Start', icon=folium.Icon(color='green')).add_to(m)\n",
    "folium.Marker(location=point_b, tooltip='End', icon=folium.Icon(color='blue')).add_to(m)\n",
    "\n",
    "# Add a legend manually using a HTML/CSS-based approach\n",
    "legend_html = '''\n",
    "     <div style=\"position: fixed; \n",
    "                 bottom: 20px; left: 20px; width: 140px; height: 110px; \n",
    "                 background-color: white; border:2px solid grey; z-index:9999; font-size:14px;\">\n",
    "     &nbsp; <b>Legend</b> <br>\n",
    "     &nbsp; Start Point &nbsp; <i class=\"fa fa-map-marker fa-2x\" style=\"color:green\"></i><br>\n",
    "     &nbsp; End Point &nbsp; <i class=\"fa fa-map-marker fa-2x\" style=\"color:blue\"></i><br>\n",
    "     &nbsp; Route &nbsp; <i style=\"color:red;\">&#8212;&#8212;&#8212;&#8212;</i>\n",
    "     </div>\n",
    "     '''\n",
    "m.get_root().html.add_child(folium.Element(legend_html))\n",
    "\n",
    "# Save the map to an HTML file\n",
    "m.save('figures/shortest_path_map_with_legend.html')\n",
    "\n",
    "# Display the interactive map\n",
    "m"
   ]
  },
  {
   "cell_type": "code",
   "execution_count": null,
   "metadata": {},
   "outputs": [],
   "source": []
  },
  {
   "cell_type": "code",
   "execution_count": null,
   "metadata": {},
   "outputs": [],
   "source": []
  },
  {
   "cell_type": "code",
   "execution_count": null,
   "metadata": {},
   "outputs": [],
   "source": []
  },
  {
   "cell_type": "code",
   "execution_count": null,
   "metadata": {},
   "outputs": [],
   "source": []
  },
  {
   "cell_type": "code",
   "execution_count": null,
   "metadata": {},
   "outputs": [],
   "source": []
  }
 ],
 "metadata": {
  "kernelspec": {
   "display_name": "dsc180a",
   "language": "python",
   "name": "python3"
  },
  "language_info": {
   "codemirror_mode": {
    "name": "ipython",
    "version": 3
   },
   "file_extension": ".py",
   "mimetype": "text/x-python",
   "name": "python",
   "nbconvert_exporter": "python",
   "pygments_lexer": "ipython3",
   "version": "3.11.10"
  },
  "orig_nbformat": 4
 },
 "nbformat": 4,
 "nbformat_minor": 2
}
