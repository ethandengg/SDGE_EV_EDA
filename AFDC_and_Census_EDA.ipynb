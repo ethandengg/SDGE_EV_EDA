{
 "cells": [
  {
   "cell_type": "code",
   "execution_count": null,
   "metadata": {},
   "outputs": [],
   "source": [
    "import numpy as np\n",
    "import requests\n",
    "import pandas as pd\n",
    "import matplotlib.pyplot as plt\n",
    "import itertools\n",
    "from collections import Counter\n",
    "import seaborn as sns\n",
    "import plotly.express as px\n",
    "import geopandas as gpd\n",
    "import folium\n",
    "from folium.features import Choropleth\n",
    "import cenpy as c\n",
    "import networkx as nx\n",
    "import osmnx as ox\n",
    "from IPython.display import IFrame\n",
    "import ast"
   ]
  },
  {
   "attachments": {},
   "cell_type": "markdown",
   "metadata": {},
   "source": [
    "# Finding insights on AFDC dataset, mostly focusing on EV Chargers"
   ]
  },
  {
   "cell_type": "code",
   "execution_count": null,
   "metadata": {},
   "outputs": [],
   "source": [
    "df = pd.read_csv('data/fuel_stations.csv')\n",
    "df"
   ]
  },
  {
   "attachments": {},
   "cell_type": "markdown",
   "metadata": {},
   "source": [
    "There are so many columns in this dataset, lets just look at the ones that could bring more insights on EV Chargers"
   ]
  },
  {
   "cell_type": "code",
   "execution_count": null,
   "metadata": {},
   "outputs": [],
   "source": [
    "df.columns"
   ]
  },
  {
   "attachments": {},
   "cell_type": "markdown",
   "metadata": {},
   "source": [
    "Below we can see that there are way too many facility types to consider, and many of them are 'nan.' So this isn't very useful to us"
   ]
  },
  {
   "cell_type": "code",
   "execution_count": null,
   "metadata": {},
   "outputs": [],
   "source": [
    "# Count all unique facility in the 'facility_type' column\n",
    "facility_counts = df['facility_type'].value_counts(dropna=False).to_dict()\n",
    "facility_counts"
   ]
  },
  {
   "attachments": {},
   "cell_type": "markdown",
   "metadata": {},
   "source": [
    "It's interesting to see how many are utilizing renewable sources, and theres clearly a very limitted amount, and most are not even documented"
   ]
  },
  {
   "cell_type": "code",
   "execution_count": null,
   "metadata": {},
   "outputs": [],
   "source": [
    "# Count all unique renewable source in the 'ev_renewable_source' column\n",
    "ev_renewables_count = df['ev_renewable_source'].value_counts(dropna=False).to_dict()\n",
    "ev_renewables_count"
   ]
  },
  {
   "attachments": {},
   "cell_type": "markdown",
   "metadata": {},
   "source": [
    "Here we investigate the distribution of the different EV connector types, and there is some interesting data here that tells us that there are far more J1772 plugs than any other charger out there"
   ]
  },
  {
   "cell_type": "code",
   "execution_count": null,
   "metadata": {},
   "outputs": [],
   "source": [
    "# Flatten the lists by parsing the string representation of lists into actual lists\n",
    "flattened_connectors = []\n",
    "\n",
    "for connectors in df['ev_connector_types'].dropna():\n",
    "    # Convert the string representation of lists to actual lists\n",
    "    connector_list = ast.literal_eval(connectors)\n",
    "    flattened_connectors.extend(connector_list)\n",
    "\n",
    "# Count the occurrences of each connector type\n",
    "connector_counts = Counter(flattened_connectors)\n",
    "\n",
    "# Include None\n",
    "nan_count = df['ev_connector_types'].isna().sum()\n",
    "connector_counts['None'] = nan_count\n",
    "\n",
    "# Sort the result by count\n",
    "ev_connectors_count_sorted = dict(sorted(connector_counts.items(), key=lambda item: item[1], reverse=True))\n",
    "\n",
    "# Display the sorted counts\n",
    "ev_connectors_count_sorted"
   ]
  },
  {
   "attachments": {},
   "cell_type": "markdown",
   "metadata": {},
   "source": [
    "Here I plot the number of each connector on a bar graph to get a better visual representation of the differences in values"
   ]
  },
  {
   "cell_type": "code",
   "execution_count": null,
   "metadata": {},
   "outputs": [],
   "source": [
    "plt.figure(figsize=(10,6))\n",
    "plt.bar(ev_connectors_count_sorted.keys(), ev_connectors_count_sorted.values(), color='skyblue')\n",
    "plt.title('Count of EV Connector Types in AFDC')\n",
    "plt.xlabel('Connector Type')\n",
    "plt.ylabel('Count')\n",
    "plt.xticks(rotation=45)\n",
    "plt.show"
   ]
  },
  {
   "attachments": {},
   "cell_type": "markdown",
   "metadata": {},
   "source": [
    "Here I get the count of each fuel type found in the dataset, and the overwhelming majority is electric"
   ]
  },
  {
   "cell_type": "code",
   "execution_count": null,
   "metadata": {},
   "outputs": [],
   "source": [
    "# Count all unique fuel types in the 'fuel_type_code' column\n",
    "fuel_code_count = df['fuel_type_code'].value_counts(dropna=False).to_dict()\n",
    "fuel_code_count"
   ]
  },
  {
   "attachments": {},
   "cell_type": "markdown",
   "metadata": {},
   "source": [
    "Here I plot the count of each fuel type to help visualize how drastic the differnece in values are"
   ]
  },
  {
   "cell_type": "code",
   "execution_count": null,
   "metadata": {},
   "outputs": [],
   "source": [
    "plt.figure(figsize=(10,6))\n",
    "plt.bar(fuel_code_count.keys(), fuel_code_count.values(), color='blue')\n",
    "plt.title('Count of Fuel Types in AFDC')\n",
    "plt.xlabel('Fuel Type')\n",
    "plt.ylabel('Count')\n",
    "plt.xticks(rotation=45)\n",
    "plt.show()"
   ]
  },
  {
   "attachments": {},
   "cell_type": "markdown",
   "metadata": {},
   "source": [
    "Here I get the columns I found relevant to get more insight on the EV Chargers, as most of the other columns give us information about other fuel types or are just completely irrelevant."
   ]
  },
  {
   "cell_type": "code",
   "execution_count": null,
   "metadata": {},
   "outputs": [],
   "source": [
    "# Extracting the relevant columns in the dataframe for analysis\n",
    "relevant_columns = ['id', 'access_code', 'fuel_type_code', 'open_date', 'date_last_confirmed', \n",
    "                    'state', 'zip', 'city', 'latitude', 'longitude', 'ev_connector_types', 'ev_network'\n",
    "                    ]\n",
    "rdf = df[relevant_columns]\n",
    "\n",
    "# Getting only Electric fuel types\n",
    "rdf_ELEC = rdf[rdf['fuel_type_code'] == 'ELEC']\n",
    "rdf_ELEC['open_date'] = pd.to_datetime(rdf_ELEC['open_date'], errors='coerce')\n",
    "rdf_ELEC"
   ]
  },
  {
   "attachments": {},
   "cell_type": "markdown",
   "metadata": {},
   "source": [
    "Here I use data from the internet that contains all the zip codes in SDGE and I use that to condence down the dataframe into just the rows that have a zip code in the SDGE territory"
   ]
  },
  {
   "cell_type": "code",
   "execution_count": null,
   "metadata": {},
   "outputs": [],
   "source": [
    "# Read in csv that contains all the zip codes in the SDGE Territory \n",
    "# and creates a list of unique zip codes in SDGE\n",
    "SDGE_zip_codes_df = pd.read_csv('data/SDGE_zip_codes_2024.csv')\n",
    "SDGE_zip_codes = SDGE_zip_codes_df['ZipCode'].unique()\n",
    "SDGE_zip_codes = [str(zip_code) for zip_code in SDGE_zip_codes]\n",
    "\n",
    "# Create Dataframe of all Electric Fuel sources in SDGE Zip codes\n",
    "rdf_ELEC['zip'] = rdf_ELEC['zip'].astype(str)\n",
    "SDGE_df = rdf_ELEC[rdf_ELEC['zip'].isin(SDGE_zip_codes)]\n",
    "SDGE_df\n"
   ]
  },
  {
   "attachments": {},
   "cell_type": "markdown",
   "metadata": {},
   "source": [
    "# Time series graph shows massive increase in EV Charging Stations in 2020"
   ]
  },
  {
   "attachments": {},
   "cell_type": "markdown",
   "metadata": {},
   "source": [
    "Getting the total number of EV chargers added per year in the SDGE territory"
   ]
  },
  {
   "cell_type": "code",
   "execution_count": null,
   "metadata": {},
   "outputs": [],
   "source": [
    "# Group by the number entries there are for each year\n",
    "SDGE_growth_df = SDGE_df.groupby(SDGE_df['open_date'].dt.to_period('Y')).size().reset_index(name='stations_confirmed')\n",
    "\n",
    "# Create a new column calculating the total number of stations there are\n",
    "SDGE_growth_df['cumulative_stations'] = SDGE_growth_df['stations_confirmed'].cumsum()\n",
    "SDGE_growth_df = SDGE_growth_df[(SDGE_growth_df['open_date'].dt.year > 2000) & (SDGE_growth_df['open_date'].dt.year < 2025)]\n",
    "SDGE_growth_df['open_date'] = SDGE_growth_df['open_date'].dt.to_timestamp()"
   ]
  },
  {
   "attachments": {},
   "cell_type": "markdown",
   "metadata": {},
   "source": [
    "Plot the Time Series graph to see the massive growth spike in EV chargers being built in 2020"
   ]
  },
  {
   "cell_type": "code",
   "execution_count": null,
   "metadata": {},
   "outputs": [],
   "source": [
    "# Create a plotly express line chart expressing the same data as above but now with interactivity\n",
    "fig = px.line(\n",
    "            SDGE_growth_df,\n",
    "            x='open_date',\n",
    "            y=['cumulative_stations', 'stations_confirmed'],\n",
    "            labels={'value': 'Number of Charging Stations',\n",
    "                    'variable': 'Legend'},\n",
    "            title='Cumulative Growth of EV Charging Stations in SDGE Territory',\n",
    "            width=900,\n",
    "            height=600\n",
    "            )\n",
    "\n",
    "# Update the traces for better visibility\n",
    "fig.update_traces(mode='lines+markers')\n",
    "\n",
    "# Customize the legend\n",
    "fig.for_each_trace(lambda t: t.update(name={'cumulative_stations': 'Cumulative Chargers',\n",
    "                                            'stations_confirmed': 'Chargers Added That Year'}\n",
    "                                            [t.name]))\n",
    "fig.show()"
   ]
  },
  {
   "attachments": {},
   "cell_type": "markdown",
   "metadata": {},
   "source": [
    "Now get the Cumulative Growth of EV Chargering stations in the whole United States"
   ]
  },
  {
   "cell_type": "code",
   "execution_count": null,
   "metadata": {},
   "outputs": [],
   "source": [
    "# Group by the number entries there are for each year\n",
    "growth_df = rdf_ELEC.groupby(rdf_ELEC['open_date'].dt.to_period('Y')).size().reset_index(name='stations_confirmed')\n",
    "\n",
    "# Create a new column calculating the total number of stations there are\n",
    "growth_df['cumulative_stations'] = growth_df['stations_confirmed'].cumsum()\n",
    "growth_df = growth_df[(growth_df['open_date'].dt.year > 2000) & (growth_df['open_date'].dt.year < 2025)]\n",
    "growth_df['open_date'] = growth_df['open_date'].dt.to_timestamp()"
   ]
  },
  {
   "cell_type": "code",
   "execution_count": null,
   "metadata": {},
   "outputs": [],
   "source": [
    "# Create a Plotly line chart for Cumulative Growth of EV Charging Stations Over Time in the US\n",
    "fig = px.line(\n",
    "    growth_df, \n",
    "    x='open_date', \n",
    "    y=['cumulative_stations', 'stations_confirmed'],\n",
    "    labels={'value': 'Number of Charging Stations',\n",
    "            'variable': 'Legend'},\n",
    "    title='Cumulative Growth of EV Charging Stations Over Time in the US',\n",
    "    width=900,  # Set desired width\n",
    "    height=600   # Set desired height\n",
    ")\n",
    "\n",
    "# Update the traces for better visualization\n",
    "fig.update_traces(mode='lines+markers')\n",
    "\n",
    "# Customize the legend\n",
    "fig.for_each_trace(lambda t: t.update(name={'cumulative_stations': 'Cumulative Chargers',\n",
    "                                            'stations_confirmed': 'Chargers Added That Year'}\n",
    "                                            [t.name]))\n",
    "fig.show()"
   ]
  },
  {
   "attachments": {},
   "cell_type": "markdown",
   "metadata": {},
   "source": [
    "# Time Series Growth of EV Charging Seperated by Ports"
   ]
  },
  {
   "cell_type": "code",
   "execution_count": null,
   "metadata": {},
   "outputs": [],
   "source": [
    "# Explode the lists into individual rows\n",
    "def safe_literal_eval(val):\n",
    "    \"\"\"Safely evaluate strings to Python lists, leaving lists as is.\"\"\"\n",
    "    if isinstance(val, str):\n",
    "        try:\n",
    "            return ast.literal_eval(val)\n",
    "        except (ValueError, SyntaxError):\n",
    "            return val\n",
    "    return val\n",
    "\n",
    "# Apply `safe_literal_eval` only to strings\n",
    "SDGE_df['ev_connector_types'] = SDGE_df['ev_connector_types'].dropna().apply(safe_literal_eval)\n",
    "SDGE_df_exploded = SDGE_df.explode('ev_connector_types')\n",
    "SDGE_df_exploded = SDGE_df_exploded.dropna(subset=['ev_connector_types'])\n",
    "\n",
    "# Remove unwanted connector types (e.g., NEMA types)\n",
    "SDGE_df_exploded = SDGE_df_exploded[~SDGE_df_exploded['ev_connector_types'].str.contains('NEMA')]\n",
    "\n",
    "# Group by year and 'ev_connector_types' and count the number of stations confirmed\n",
    "growth_df = SDGE_df_exploded.groupby([SDGE_df_exploded['open_date'].dt.to_period('Y'), 'ev_connector_types']).size().reset_index(name='stations_confirmed')\n",
    "\n",
    "# Create cumulative sum for each connector type\n",
    "growth_df['cumulative_stations'] = growth_df.groupby('ev_connector_types')['stations_confirmed'].cumsum()\n",
    "growth_df = growth_df[(growth_df['open_date'].dt.year > 2008) & (growth_df['open_date'].dt.year < 2025)]\n",
    "\n",
    "# Convert 'open_date' to a timestamp for plotting\n",
    "growth_df['open_date'] = growth_df['open_date'].dt.to_timestamp()\n",
    "\n",
    "# Create the interactive Plotly plot\n",
    "fig = px.line(\n",
    "    growth_df, \n",
    "    x='open_date', \n",
    "    y='cumulative_stations', \n",
    "    color='ev_connector_types',\n",
    "    labels={'cumulative_stations': 'Number of Charging Stations',\n",
    "            'open_date': 'Date',\n",
    "            'ev_connector_types': 'Connector Type'},\n",
    "    title='Growth of EV Charging Stations by Connector Type Over Time in SDGE Territory',\n",
    "    width=900,\n",
    "    height=600\n",
    ")\n",
    "\n",
    "fig.show()"
   ]
  },
  {
   "cell_type": "code",
   "execution_count": null,
   "metadata": {},
   "outputs": [],
   "source": [
    "\n",
    "# Apply `safe_literal_eval` only to strings\n",
    "rdf_ELEC['ev_connector_types'] = rdf_ELEC['ev_connector_types'].dropna().apply(safe_literal_eval)\n",
    "rdf_ELEC_exploded = rdf_ELEC.explode('ev_connector_types')\n",
    "rdf_ELEC_exploded = rdf_ELEC_exploded.dropna(subset=['ev_connector_types'])\n",
    "\n",
    "# Remove unwanted connector types (e.g., NEMA types)\n",
    "rdf_ELEC_exploded = rdf_ELEC_exploded[~rdf_ELEC_exploded['ev_connector_types'].str.contains('NEMA')]\n",
    "\n",
    "# Step 2: Group by year and 'ev_connector_types' and count the number of stations confirmed\n",
    "growth_df = rdf_ELEC_exploded.groupby([rdf_ELEC_exploded['open_date'].dt.to_period('Y'), 'ev_connector_types']).size().reset_index(name='stations_confirmed')\n",
    "\n",
    "# Step 3: Create cumulative sum for each connector type\n",
    "growth_df['cumulative_stations'] = growth_df.groupby('ev_connector_types')['stations_confirmed'].cumsum()\n",
    "growth_df = growth_df[growth_df['open_date'].dt.year > 2008]\n",
    "\n",
    "# Convert 'open_date' to a timestamp for plotting\n",
    "growth_df['open_date'] = growth_df['open_date'].dt.to_timestamp()\n",
    "\n",
    "# Step 4: Create the interactive Plotly plot\n",
    "fig = px.line(\n",
    "    growth_df, \n",
    "    x='open_date', \n",
    "    y='cumulative_stations', \n",
    "    color='ev_connector_types',\n",
    "    labels={'cumulative_stations': 'Number of Charging Stations',\n",
    "            'open_date': 'Date',\n",
    "            'ev_connector_types': 'Connector Type'},\n",
    "    title='Growth of EV Charging Stations by Connector Type Over Time in the United States',\n",
    "    width=900,\n",
    "    height=600\n",
    ")\n",
    "fig.show()"
   ]
  },
  {
   "attachments": {},
   "cell_type": "markdown",
   "metadata": {},
   "source": [
    "# Creating Choropleth Geospatial Map of Charger Density in Zip Codes of SDGE"
   ]
  },
  {
   "cell_type": "code",
   "execution_count": null,
   "metadata": {},
   "outputs": [],
   "source": [
    "# Group by 'zip' to get the count of chargers in each ZIP code\n",
    "chargers_per_zip_SDGE = SDGE_df.groupby('zip').size().reset_index(name='charger_count')\n",
    "# Load the shapefile containing ZIP code boundaries for all of US\n",
    "zip_shapefile = gpd.read_file('data/tl_2024_us_zcta520/tl_2024_us_zcta520.shp')\n",
    "# Ensure that the ZIP code column in both dataframes are of the same type (string)\n",
    "chargers_per_zip_SDGE['zip'] = chargers_per_zip_SDGE['zip'].astype(str)\n",
    "zip_shapefile['ZCTA5CE20'] = zip_shapefile['ZCTA5CE20'].astype(str)\n",
    "\n",
    "# Merge the charger data with the ZIP code shapefile\n",
    "map_zip_chargers = zip_shapefile.merge(chargers_per_zip_SDGE, left_on='ZCTA5CE20', right_on='zip', how='inner')\n",
    "\n",
    "# Fill NaN values with 0 for ZIP codes that have no chargers\n",
    "map_zip_chargers['charger_count'] = map_zip_chargers['charger_count'].fillna(0)\n",
    "map_zip_chargers = map_zip_chargers.sort_values('charger_count', ascending=False)\n",
    "map_zip_chargers"
   ]
  },
  {
   "attachments": {},
   "cell_type": "markdown",
   "metadata": {},
   "source": [
    "Plot the density of EV chargers by zip code on a geospatial map"
   ]
  },
  {
   "cell_type": "code",
   "execution_count": null,
   "metadata": {},
   "outputs": [],
   "source": [
    "# Plot the merged GeoDataFrame\n",
    "fig, ax = plt.subplots(1, 1, figsize=(12, 8))\n",
    "map_zip_chargers.plot(column='charger_count', cmap='OrRd', linewidth=0.8, ax=ax, edgecolor='0.8', legend=True)\n",
    "\n",
    "# Add title and axis labels\n",
    "ax.set_title('EV Charger Density by ZIP Code', fontdict={'fontsize': 15})\n",
    "ax.set_xlabel('Longitude')\n",
    "ax.set_ylabel('Latitude')\n",
    "\n",
    "# Show the plot\n",
    "plt.show()"
   ]
  },
  {
   "attachments": {},
   "cell_type": "markdown",
   "metadata": {},
   "source": [
    "Here I did the same thing but used folium to make the map interactive and more detailed"
   ]
  },
  {
   "cell_type": "code",
   "execution_count": null,
   "metadata": {},
   "outputs": [],
   "source": [
    "# Create a Folium map centered around the region\n",
    "m = folium.Map(location=[32.8, -117.2], zoom_start=10)  # Center on San Diego area\n",
    "\n",
    "# Add the GeoJson layer with a choropleth representation\n",
    "folium.Choropleth(\n",
    "    geo_data=map_zip_chargers.to_json(),\n",
    "    data=map_zip_chargers,\n",
    "    columns=['ZCTA5CE20', 'charger_count'],\n",
    "    key_on='feature.properties.ZCTA5CE20',\n",
    "    fill_color='YlOrRd',\n",
    "    fill_opacity=0.6,\n",
    "    line_opacity=0.2,\n",
    "    legend_name='EV Charger Density'\n",
    ").add_to(m)\n",
    "\n",
    "# Add tooltips to display ZIP code and charger count when hovering over each area\n",
    "folium.GeoJson(\n",
    "    map_zip_chargers.to_json(),\n",
    "    tooltip=folium.GeoJsonTooltip(fields=['ZCTA5CE20', 'charger_count'],\n",
    "                                  aliases=['ZIP Code', 'Charger Count'])\n",
    ").add_to(m)\n",
    "\n",
    "# Save the map to an HTML file\n",
    "m.save('figures/ev_charger_density_map.html')\n",
    "\n",
    "# Display the interactive map\n",
    "m"
   ]
  },
  {
   "attachments": {},
   "cell_type": "markdown",
   "metadata": {},
   "source": [
    "# Gathering Census Data with Cenpy and Merging with AFDC for more EDA"
   ]
  },
  {
   "cell_type": "code",
   "execution_count": null,
   "metadata": {},
   "outputs": [],
   "source": [
    "# Use products.APIConnection to connect to the \n",
    "# American Community Survey (ACS) dataset 5-Year Estimates\n",
    "connection = c.products.APIConnection('ACSDT5Y2022')\n",
    "# Drop all rows where concept is NA\n",
    "census_df = connection.variables[~connection.variables['concept'].isna()]"
   ]
  },
  {
   "attachments": {},
   "cell_type": "markdown",
   "metadata": {},
   "source": [
    "# Finding Relationship Between Median Household Income and EV Charger Density"
   ]
  },
  {
   "cell_type": "code",
   "execution_count": null,
   "metadata": {},
   "outputs": [],
   "source": [
    "# MEDIAN HOUSEHOLD INCOME IN THE PAST 12 MONTHS (IN 2021 INFLATION-ADJUSTED DOLLARS)\n",
    "income_variable = 'B19013_001E'\n",
    "\n",
    "# Query the data for all zip codes in the ACS 5-Year Estimates dataset\n",
    "income_data = connection.query(\n",
    "    cols=[income_variable],\n",
    "    geo_unit='zip code tabulation area'\n",
    ")"
   ]
  },
  {
   "cell_type": "code",
   "execution_count": null,
   "metadata": {},
   "outputs": [],
   "source": [
    "# Rename columns and filter for SDGE ZIP codes\n",
    "income_data = income_data.rename(columns={'zip code tabulation area': 'zip', income_variable: 'median_income'})\n",
    "SDGE_income_data = income_data[income_data['zip'].isin(chargers_per_zip_SDGE['zip'])]\n",
    "SDGE_income_data"
   ]
  },
  {
   "cell_type": "code",
   "execution_count": null,
   "metadata": {},
   "outputs": [],
   "source": [
    "# Merge charger count with median income data\n",
    "chargers_and_income_SDGE = chargers_per_zip_SDGE.merge(SDGE_income_data, on='zip', how='left')\n",
    "\n",
    "# Merge the combined data with the ZIP code shapefile\n",
    "map_chargers_income = zip_shapefile.merge(chargers_and_income_SDGE, left_on='ZCTA5CE20', right_on='zip', how='inner')\n",
    "map_chargers_income['charger_count'] = pd.to_numeric(map_chargers_income['charger_count'], errors='coerce').fillna(0)\n",
    "map_chargers_income['median_income'] = pd.to_numeric(map_chargers_income['median_income'], errors='coerce').fillna(0)"
   ]
  },
  {
   "attachments": {},
   "cell_type": "markdown",
   "metadata": {},
   "source": [
    "Created a dataframe that has zip code, charger count, and median income that can then be plotted on a map"
   ]
  },
  {
   "cell_type": "code",
   "execution_count": null,
   "metadata": {},
   "outputs": [],
   "source": [
    "# Drop rows that didn't have a valid median_income \n",
    "map_chargers_income = map_chargers_income[map_chargers_income['median_income'] >= 0]\n",
    "map_chargers_income.sort_values(by='median_income', ascending=False)"
   ]
  },
  {
   "cell_type": "code",
   "execution_count": null,
   "metadata": {},
   "outputs": [],
   "source": [
    "# Create a Folium map centered around the San Diego area\n",
    "m = folium.Map(location=[32.8, -117.2], zoom_start=10)\n",
    "\n",
    "# Add a Choropleth layer for EV Charger Density\n",
    "folium.Choropleth(\n",
    "    geo_data=map_chargers_income.to_json(),\n",
    "    data=map_chargers_income,\n",
    "    columns=['ZCTA5CE20', 'charger_count'],\n",
    "    key_on='feature.properties.ZCTA5CE20',\n",
    "    fill_color='YlOrRd',\n",
    "    fill_opacity=0.5,\n",
    "    line_opacity=0.2,\n",
    "    legend_name='EV Charger Density'\n",
    ").add_to(m)\n",
    "\n",
    "# Add another Choropleth layer for Median Income\n",
    "folium.Choropleth(\n",
    "    geo_data=map_chargers_income.to_json(),\n",
    "    data=map_chargers_income,\n",
    "    columns=['ZCTA5CE20', 'median_income'],\n",
    "    key_on='feature.properties.ZCTA5CE20',\n",
    "    fill_color='BuPu',\n",
    "    fill_opacity=0.5,\n",
    "    line_opacity=0.2,\n",
    "    legend_name='Median Household Income'\n",
    ").add_to(m)\n",
    "\n",
    "# Add tooltips to display ZIP code, charger count, and median income\n",
    "folium.GeoJson(\n",
    "    map_chargers_income.to_json(),\n",
    "    tooltip=folium.GeoJsonTooltip(\n",
    "        fields=['ZCTA5CE20', 'charger_count', 'median_income'],\n",
    "        aliases=['ZIP Code', 'Charger Count', 'Median Income']\n",
    "    )\n",
    ").add_to(m)\n",
    "\n",
    "# Save the map to an HTML file\n",
    "m.save('figures/ev_charger_income_density_map.html')\n",
    "\n",
    "# Display the interactive map\n",
    "m"
   ]
  },
  {
   "cell_type": "code",
   "execution_count": null,
   "metadata": {},
   "outputs": [],
   "source": [
    "fig = px.scatter(\n",
    "    map_chargers_income,\n",
    "    x='median_income',\n",
    "    y='charger_count',\n",
    "    labels={'median_income': 'Median Household Income', 'charger_count': 'Charger Count'},\n",
    "    title='Relationship Between Median Household Income and EV Charger Count by Zip Code in SDGE'\n",
    ")\n",
    "fig.show()"
   ]
  },
  {
   "attachments": {},
   "cell_type": "markdown",
   "metadata": {},
   "source": [
    "# Finding Relationship between Vehicle Counts and EV Charger Density in SDGE zip codes "
   ]
  },
  {
   "cell_type": "code",
   "execution_count": null,
   "metadata": {},
   "outputs": [],
   "source": [
    "# Define vehicle ownership variables, between 1 vehicle households and 3 vehicle households inclusive\n",
    "vehicle_vars = ['B25044_004E', 'B25044_005E', 'B25044_006E']  \n",
    "\n",
    "# Query for these variables across ZIP codes\n",
    "vehicle_data = connection.query(\n",
    "    cols=vehicle_vars,\n",
    "    geo_unit='zip code tabulation area'\n",
    ")\n",
    "\n",
    "# Ensure columns are numeric after querying\n",
    "vehicle_data['B25044_004E'] = pd.to_numeric(vehicle_data['B25044_004E'], errors='coerce')\n",
    "vehicle_data['B25044_005E'] = pd.to_numeric(vehicle_data['B25044_005E'], errors='coerce')\n",
    "vehicle_data['B25044_006E'] = pd.to_numeric(vehicle_data['B25044_006E'], errors='coerce')\n",
    "\n",
    "# Rename columns for clarity\n",
    "vehicle_data = vehicle_data.rename(columns={\n",
    "    'B25044_004E': 'households_1_vehicle',\n",
    "    'B25044_005E': 'households_2_vehicles',\n",
    "    'B25044_006E': 'households_3_or_more_vehicles'\n",
    "})\n",
    "# Estimate total vehicles (approximate by using 3 vehicles for \"3 or more\" category)\n",
    "vehicle_data['total_vehicles'] = (\n",
    "    vehicle_data['households_1_vehicle'] * 1 +\n",
    "    vehicle_data['households_2_vehicles'] * 2 +\n",
    "    vehicle_data['households_3_or_more_vehicles'] * 3\n",
    ")\n",
    "\n",
    "# Calculate vehicle ownership rate (vehicles per household)\n",
    "vehicle_data['vehicle_per_household'] = vehicle_data['total_vehicles'] / (\n",
    "    vehicle_data['households_1_vehicle'] +\n",
    "    vehicle_data['households_2_vehicles'] +\n",
    "    vehicle_data['households_3_or_more_vehicles']\n",
    ")"
   ]
  },
  {
   "cell_type": "code",
   "execution_count": null,
   "metadata": {},
   "outputs": [],
   "source": [
    "vehicle_data = vehicle_data.rename(columns={'zip code tabulation area': 'zip'})\n",
    "vehicle_data_SDGE = vehicle_data[vehicle_data['zip'].isin(chargers_per_zip_SDGE['zip'])]\n",
    "vehicle_data_SDGE = vehicle_data_SDGE.dropna()\n",
    "vehicle_data_SDGE['zip'] = vehicle_data_SDGE['zip'].astype(str)\n",
    "\n",
    "# Merge charger count with vehicle data\n",
    "chargers_and_vehicles_SDGE = chargers_per_zip_SDGE.merge(vehicle_data_SDGE, on='zip', how='inner')\n",
    "\n",
    "# Merge the vehicle data with the ZIP code shapefile on 'zip'\n",
    "map_chargers_vehicles = zip_shapefile.merge(chargers_and_vehicles_SDGE, left_on='ZCTA5CE20', right_on='zip', how='inner')"
   ]
  },
  {
   "cell_type": "code",
   "execution_count": null,
   "metadata": {},
   "outputs": [],
   "source": [
    "# Create a Folium map centered around the San Diego area\n",
    "m = folium.Map(location=[32.8, -117.2], zoom_start=10)\n",
    "\n",
    "folium.Choropleth(\n",
    "    geo_data=map_chargers_vehicles.to_json(),\n",
    "    data=map_chargers_vehicles,\n",
    "    columns=['ZCTA5CE20', 'charger_count'],\n",
    "    key_on='feature.properties.ZCTA5CE20',\n",
    "    fill_color='YlOrRd',\n",
    "    fill_opacity=0.5,\n",
    "    line_opacity=0.2,\n",
    "    legend_name='EV Charger Density'\n",
    ").add_to(m)\n",
    "\n",
    "\n",
    "# Add a choropleth layer to represent the total vehicles per ZIP code\n",
    "folium.Choropleth(\n",
    "    geo_data=map_chargers_vehicles.to_json(),\n",
    "    data=map_chargers_vehicles,\n",
    "    columns=['ZCTA5CE20', 'total_vehicles'],\n",
    "    key_on='feature.properties.ZCTA5CE20',\n",
    "    fill_color='YlGnBu',\n",
    "    fill_opacity=0.5,\n",
    "    line_opacity=0.2,\n",
    "    legend_name='Total Vehicles per ZIP Code'\n",
    ").add_to(m)\n",
    "\n",
    "# Add tooltips to display ZIP code and total vehicles when hovering over each area\n",
    "folium.GeoJson(\n",
    "    map_chargers_vehicles.to_json(),\n",
    "    tooltip=folium.GeoJsonTooltip(\n",
    "        fields=['ZCTA5CE20', 'charger_count', 'total_vehicles'],\n",
    "        aliases=['ZIP Code', 'Charger Count', 'Total Vehicles']\n",
    "    )\n",
    ").add_to(m)\n",
    "\n",
    "# Save the map to an HTML file\n",
    "m.save('figures/vehicle_density_map.html')\n",
    "\n",
    "# Display the interactive map\n",
    "m"
   ]
  },
  {
   "cell_type": "code",
   "execution_count": null,
   "metadata": {},
   "outputs": [],
   "source": [
    "fig = px.scatter(\n",
    "    map_chargers_vehicles,\n",
    "    x='total_vehicles',\n",
    "    y='charger_count',\n",
    "    labels={'total_vehicles': 'Total Vehicles', 'charger_count': 'Charger Count'},\n",
    "    title='Relationship Between Total Vehicles and EV Charger Count by Zip Code in SDGE'\n",
    ")\n",
    "fig.show()"
   ]
  },
  {
   "attachments": {},
   "cell_type": "markdown",
   "metadata": {},
   "source": [
    "# Using osmnx to Find the Distance Between My EV Charger and SDGE"
   ]
  },
  {
   "cell_type": "code",
   "execution_count": null,
   "metadata": {},
   "outputs": [],
   "source": [
    "# Defined starting and ending points (latitude, longitude)\n",
    "point_a = (32.87506710695114, -117.20368651139246)  # My Charger Location\n",
    "point_b = (32.82432124022306, -117.14287218508292)  # SDGE Century Park Location\n",
    "\n",
    "# Download the network graph for the area around the points\n",
    "G = ox.graph_from_point(point_a, dist=7000, network_type='drive')  # Increase dist if needed to cover the area\n",
    "\n",
    "# Get the nearest nodes on the network to your points\n",
    "node_a = ox.distance.nearest_nodes(G, X=point_a[1], Y=point_a[0])\n",
    "node_b = ox.distance.nearest_nodes(G, X=point_b[1], Y=point_b[0])\n",
    "\n",
    "# Calculate the shortest path length (in meters) between the nodes\n",
    "distance_meters = nx.shortest_path_length(G, node_a, node_b, weight='length')\n",
    "print(f\"The shortest path distance between the points is {distance_meters:.2f} meters.\")\n",
    "\n",
    "# Calculate the shortest path between the nodes (in terms of network distance)\n",
    "shortest_path = nx.shortest_path(G, node_a, node_b, weight='length')\n",
    "\n",
    "# Get the bounding box for the route (slightly expanded)\n",
    "north, south, east, west = ox.utils_geo.bbox_from_point(point_a, dist=7000)\n",
    "\n",
    "# Plot the graph and highlight the shortest path\n",
    "fig, ax = ox.plot_graph_route(\n",
    "    G, \n",
    "    route=shortest_path, \n",
    "    route_linewidth=4, \n",
    "    node_size=0, \n",
    "    bgcolor='w',\n",
    "    show=False,\n",
    "    close=False,\n",
    "    bbox=(north, south, east, west)  # Set custom bounding box\n",
    ")\n",
    "\n",
    "# Add starting and ending points to the plot\n",
    "ax.plot(point_a[1], point_a[0], marker='o', markersize=10, color='red', label='Start')\n",
    "ax.plot(point_b[1], point_b[0], marker='o', markersize=10, color='blue', label='End')\n",
    "\n",
    "# Add legend and show the plot\n",
    "plt.legend()\n",
    "plt.title(\"Shortest Path between Two Points\")\n",
    "plt.show()"
   ]
  },
  {
   "cell_type": "code",
   "execution_count": null,
   "metadata": {},
   "outputs": [],
   "source": [
    "# Extract latitude and longitude of each node in the shortest path\n",
    "route_coords = [(G.nodes[node]['y'], G.nodes[node]['x']) for node in shortest_path]\n",
    "\n",
    "# Create a Folium map centered between the two points\n",
    "map_center = ((point_a[0] + point_b[0]) / 2, (point_a[1] + point_b[1]) / 2)\n",
    "m = folium.Map(location=map_center, zoom_start=13)\n",
    "\n",
    "# Add the shortest path as a Polyline on the map\n",
    "folium.PolyLine(route_coords, color='red', weight=5, opacity=0.7).add_to(m)\n",
    "\n",
    "# Add markers for the start and end points\n",
    "folium.Marker(location=point_a, tooltip='Start', icon=folium.Icon(color='green')).add_to(m)\n",
    "folium.Marker(location=point_b, tooltip='End', icon=folium.Icon(color='blue')).add_to(m)\n",
    "\n",
    "# Add a legend manually using a HTML/CSS-based approach\n",
    "legend_html = '''\n",
    "     <div style=\"position: fixed; \n",
    "                 bottom: 20px; left: 20px; width: 140px; height: 110px; \n",
    "                 background-color: white; border:2px solid grey; z-index:9999; font-size:14px;\">\n",
    "     &nbsp; <b>Legend</b> <br>\n",
    "     &nbsp; Start Point &nbsp; <i class=\"fa fa-map-marker fa-2x\" style=\"color:green\"></i><br>\n",
    "     &nbsp; End Point &nbsp; <i class=\"fa fa-map-marker fa-2x\" style=\"color:blue\"></i><br>\n",
    "     &nbsp; Route &nbsp; <i style=\"color:red;\">&#8212;&#8212;&#8212;&#8212;</i>\n",
    "     </div>\n",
    "     '''\n",
    "m.get_root().html.add_child(folium.Element(legend_html))\n",
    "\n",
    "# Save the map to an HTML file\n",
    "m.save('figures/shortest_path_map_with_legend.html')\n",
    "\n",
    "# Display the interactive map\n",
    "m"
   ]
  },
  {
   "cell_type": "code",
   "execution_count": null,
   "metadata": {},
   "outputs": [],
   "source": []
  },
  {
   "cell_type": "code",
   "execution_count": null,
   "metadata": {},
   "outputs": [],
   "source": []
  },
  {
   "cell_type": "code",
   "execution_count": null,
   "metadata": {},
   "outputs": [],
   "source": []
  },
  {
   "cell_type": "code",
   "execution_count": null,
   "metadata": {},
   "outputs": [],
   "source": []
  },
  {
   "cell_type": "code",
   "execution_count": null,
   "metadata": {},
   "outputs": [],
   "source": []
  }
 ],
 "metadata": {
  "kernelspec": {
   "display_name": "dsc180a",
   "language": "python",
   "name": "python3"
  },
  "language_info": {
   "codemirror_mode": {
    "name": "ipython",
    "version": 3
   },
   "file_extension": ".py",
   "mimetype": "text/x-python",
   "name": "python",
   "nbconvert_exporter": "python",
   "pygments_lexer": "ipython3",
   "version": "3.11.10"
  },
  "orig_nbformat": 4
 },
 "nbformat": 4,
 "nbformat_minor": 2
}
