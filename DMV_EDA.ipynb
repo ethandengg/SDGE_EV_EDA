{
 "cells": [
  {
   "cell_type": "code",
   "execution_count": null,
   "metadata": {},
   "outputs": [],
   "source": [
    "import numpy as np\n",
    "import pandas as pd\n",
    "import ujson as json\n",
    "import urllib.request\n",
    "from concurrent.futures import ThreadPoolExecutor\n",
    "import requests\n",
    "import matplotlib.pyplot as plt\n",
    "import itertools\n",
    "from collections import Counter\n",
    "import seaborn as sns\n",
    "import plotly.express as px\n",
    "import geopandas as gpd\n",
    "import folium\n",
    "from folium.features import Choropleth\n",
    "import cenpy as c\n",
    "import networkx as nx\n",
    "import osmnx as ox\n",
    "import statsmodels.api as sm\n",
    "from scipy.stats import chisquare"
   ]
  },
  {
   "attachments": {},
   "cell_type": "markdown",
   "metadata": {},
   "source": [
    "# DMV EDA with AFDC On Density of EVs and EV Charging Stations Per Zip Code"
   ]
  },
  {
   "cell_type": "code",
   "execution_count": null,
   "metadata": {},
   "outputs": [],
   "source": [
    "# Load DMV data\n",
    "dmv_df = pd.read_csv('data/DMV_data.csv') \n",
    "dmv_df"
   ]
  },
  {
   "cell_type": "code",
   "execution_count": null,
   "metadata": {},
   "outputs": [],
   "source": [
    "# Load AFDC data\n",
    "afdc_df = pd.read_csv('data/fuel_stations.csv')\n",
    "afdc_df"
   ]
  },
  {
   "cell_type": "code",
   "execution_count": null,
   "metadata": {},
   "outputs": [],
   "source": [
    "# Extracting the relevant columns in the dataframe for analysis\n",
    "relevant_columns = ['id', 'access_code', 'fuel_type_code', 'open_date', 'date_last_confirmed', \n",
    "                    'state', 'zip', 'city', 'latitude', 'longitude', 'ev_connector_types', 'ev_network'\n",
    "                    ]\n",
    "afdc_df = afdc_df[relevant_columns]\n",
    "\n",
    "# Getting only Electric fuel types\n",
    "afdc_df_ELEC = afdc_df[afdc_df['fuel_type_code'] == 'ELEC']\n",
    "afdc_df_ELEC['open_date'] = pd.to_datetime(afdc_df_ELEC['open_date'], errors='coerce')\n",
    "afdc_df_ELEC"
   ]
  },
  {
   "cell_type": "code",
   "execution_count": null,
   "metadata": {},
   "outputs": [],
   "source": [
    "# Read in csv that contains all the zip codes in the SDGE Territory \n",
    "# and creates a list of unique zip codes in SDGE\n",
    "SDGE_zip_codes_df = pd.read_csv('data/SDGE_zip_codes_2024.csv')\n",
    "SDGE_zip_codes = SDGE_zip_codes_df['ZipCode'].astype(str).unique()\n",
    "SDGE_zip_codes = [zip_code.strip() for zip_code in SDGE_zip_codes]\n",
    "\n",
    "# Create Dataframe of all Vehicles in SDGE Zip codes\n",
    "dmv_df['ZIP Code'] = dmv_df['ZIP Code'].astype(str)\n",
    "SDGE_DMV_df = dmv_df[dmv_df['ZIP Code'].isin(SDGE_zip_codes)]\n",
    "\n",
    "# Creates Dataframe of all EV Chargers in SDGE ZIP Codes\n",
    "afdc_df_ELEC['zip'] = afdc_df_ELEC['zip'].astype(str).str.strip()\n",
    "# Remove any leading/trailing spaces\n",
    "SDGE_chargers_df = afdc_df_ELEC[afdc_df_ELEC['zip'].isin(SDGE_zip_codes)]\n",
    "SDGE_chargers_df"
   ]
  },
  {
   "attachments": {},
   "cell_type": "markdown",
   "metadata": {},
   "source": []
  },
  {
   "cell_type": "code",
   "execution_count": null,
   "metadata": {},
   "outputs": [],
   "source": [
    "# Dataframe of all Vehicles in SDGE Zip codes\n",
    "SDGE_DMV_df"
   ]
  },
  {
   "cell_type": "code",
   "execution_count": null,
   "metadata": {},
   "outputs": [],
   "source": [
    "# Get the sum of all vehicles registered for each year in the United States and plot it\n",
    "dmv_vehicles = dmv_df.groupby('Date')['Vehicles'].sum().reset_index(name='Total Number of Vehicles')\n",
    "fig = px.line(\n",
    "    dmv_vehicles,\n",
    "    x='Date',\n",
    "    y='Total Number of Vehicles',\n",
    "    title='Total Number of Vehicles Registered by Year in the United States'\n",
    ")\n",
    "fig.show()"
   ]
  },
  {
   "cell_type": "code",
   "execution_count": null,
   "metadata": {},
   "outputs": [],
   "source": [
    "# Get the sum of all vehicles registered for each year in the SDGE territory and plot it\n",
    "SDGE_vehicles = SDGE_DMV_df.groupby('Date')['Vehicles'].sum().reset_index(name='Total Number of Vehicles')\n",
    "fig = px.line(\n",
    "    SDGE_vehicles,\n",
    "    x='Date',\n",
    "    y='Total Number of Vehicles',\n",
    "    title='Total Number of Vehicles registered by Year in SDGE Territory'\n",
    ")\n",
    "fig.show()"
   ]
  },
  {
   "cell_type": "code",
   "execution_count": null,
   "metadata": {},
   "outputs": [],
   "source": [
    "# Get the sum of all EVs registered for each year in the United States and plot it\n",
    "ev_df = dmv_df[(dmv_df['Fuel'] == 'Battery Electric') | (dmv_df['Fuel'] == 'Plug-in Hybrid')]\n",
    "total_EVs = ev_df.groupby('Date')['Vehicles'].sum().reset_index(name='Total Number of Vehicles')\n",
    "\n",
    "fig = px.line(\n",
    "    total_EVs,\n",
    "    x='Date',\n",
    "    y='Total Number of Vehicles',\n",
    "    title='Total Number of EVs and plug-in hybrids registered by Year in California'\n",
    ")\n",
    "fig.show()"
   ]
  },
  {
   "cell_type": "code",
   "execution_count": null,
   "metadata": {},
   "outputs": [],
   "source": [
    "# Filter DF down to just EVs and Plug-in Hybrids\n",
    "sdge_ev_df = SDGE_DMV_df[(SDGE_DMV_df['Fuel'] == 'Battery Electric') | (SDGE_DMV_df['Fuel'] == 'Plug-in Hybrid')]\n",
    "\n",
    "# Get the sum of all EVs registered for each year in the SDGE territory and plot it\n",
    "SDGE_EVs = sdge_ev_df.groupby('Date')['Vehicles'].sum().reset_index(name='Total Number of Vehicles')\n",
    "fig = px.line(\n",
    "    SDGE_EVs,\n",
    "    x='Date',\n",
    "    y='Total Number of Vehicles',\n",
    "    title='Total Number of EVs and plug-in hybrids registered by Year in SDGE Territory'\n",
    ")\n",
    "fig.show()"
   ]
  },
  {
   "attachments": {},
   "cell_type": "markdown",
   "metadata": {},
   "source": [
    "Number of EVs + Plug-in Hybrids (PHEV) expected and predicted from forecast model\n",
    "\n",
    "2030 Expected: 7.1 million\n",
    "\n",
    "2030 Predicted: 6.2 million\n",
    "\n",
    "2035 Expected: 15.2 million\n",
    "\n",
    "2035 Predicted: 21.1 million"
   ]
  },
  {
   "cell_type": "code",
   "execution_count": null,
   "metadata": {},
   "outputs": [],
   "source": [
    "# Fitting an exponential line to the trend for forecasting\n",
    "# Step 1: Prepare the data for exponential regression\n",
    "total_EVs['Log Vehicles'] = np.log(total_EVs['Total Number of Vehicles'])  # Take the log of the vehicle count\n",
    "\n",
    "# Step 2: Fit a linear regression model to the log-transformed data\n",
    "X = sm.add_constant(total_EVs['Date'])  # Add a constant to the model (intercept)\n",
    "y = total_EVs['Log Vehicles']\n",
    "model = sm.OLS(y, X).fit()\n",
    "\n",
    "# Step 3: Make predictions and exponentiate to get the original scale\n",
    "years_forecast = np.arange(total_EVs['Date'].min(), total_EVs['Date'].max() + 12)  # Extend forecast 12 years beyond the last data point\n",
    "X_forecast = sm.add_constant(years_forecast)\n",
    "log_y_forecast = model.predict(X_forecast)\n",
    "y_forecast = np.exp(log_y_forecast)  # Exponentiate to reverse the log transformation\n",
    "\n",
    "# Step 4: Combine actual data and forecasted data for plotting\n",
    "forecast_df = pd.DataFrame({'Date': years_forecast, 'Forecasted Vehicles': y_forecast})\n",
    "\n",
    "# Step 5: Plot the original data and the exponential regression forecast\n",
    "fig = px.line(\n",
    "    total_EVs,\n",
    "    x='Date',\n",
    "    y='Total Number of Vehicles',\n",
    "    title='Total Number of EVs and Plug-in Hybrids Registered by Year in California with Exponential Forecast'\n",
    ")\n",
    "\n",
    "# Add the forecasted line\n",
    "fig.add_scatter(x=forecast_df['Date'], y=forecast_df['Forecasted Vehicles'], mode='lines', name='Forecasted Vehicles', line=dict(dash='dash', color='red'))\n",
    "\n",
    "fig.show()"
   ]
  },
  {
   "cell_type": "code",
   "execution_count": null,
   "metadata": {},
   "outputs": [],
   "source": [
    "# Step 1: Prepare the data for exponential regression\n",
    "SDGE_EVs['Log Vehicles'] = np.log(SDGE_EVs['Total Number of Vehicles'])  # Take the log of the vehicle count\n",
    "\n",
    "# Step 2: Fit a linear regression model to the log-transformed data\n",
    "X = sm.add_constant(SDGE_EVs['Date'])  # Add a constant to the model (intercept)\n",
    "y = SDGE_EVs['Log Vehicles']\n",
    "model = sm.OLS(y, X).fit()\n",
    "\n",
    "# Step 3: Make predictions and exponentiate to get the original scale\n",
    "years_forecast = np.arange(SDGE_EVs['Date'].min(), SDGE_EVs['Date'].max() + 12)  # Extend forecast to 2035\n",
    "X_forecast = sm.add_constant(years_forecast)\n",
    "log_y_forecast = model.predict(X_forecast)\n",
    "y_forecast = np.exp(log_y_forecast)  # Exponentiate to reverse the log transformation\n",
    "\n",
    "# Step 4: Combine actual data and forecasted data for plotting\n",
    "forecast_df = pd.DataFrame({'Date': years_forecast, 'Forecasted Vehicles': y_forecast})\n",
    "\n",
    "# Step 5: Plot the original data and the exponential regression forecast\n",
    "fig = px.line(\n",
    "    SDGE_EVs,\n",
    "    x='Date',\n",
    "    y='Total Number of Vehicles',\n",
    "    title='Total Number of EVs and Plug-in Hybrids Registered by Year in SDGE Territory with Exponential Forecast'\n",
    ")\n",
    "\n",
    "# Add the forecasted line\n",
    "fig.add_scatter(x=forecast_df['Date'], y=forecast_df['Forecasted Vehicles'], mode='lines', name='Forecasted Vehicles', line=dict(dash='dash', color='red'))\n",
    "\n",
    "fig.show()"
   ]
  },
  {
   "attachments": {},
   "cell_type": "markdown",
   "metadata": {},
   "source": [
    "## Generate a Poisson Distribution for EVs in SDGE and plot a Monte Carlo histogram"
   ]
  },
  {
   "cell_type": "code",
   "execution_count": null,
   "metadata": {},
   "outputs": [],
   "source": [
    "# Get Total EVs per ZIP Code and Year with a groupby\n",
    "ev_by_zip_year = sdge_ev_df.groupby(['ZIP Code', 'Date'])['Vehicles'].sum().reset_index()\n",
    "\n",
    "# Pivot table for poisson fitting\n",
    "pivot_table = ev_by_zip_year.pivot(index='Date', columns='ZIP Code', values='Vehicles').fillna(0)\n",
    "\n",
    "# Prepare to store results\n",
    "poisson_results = []\n",
    "\n",
    "# Fit Poisson Distribution for each zip code\n",
    "for zip in pivot_table.columns:\n",
    "    ev_counts = pivot_table[zip]\n",
    "\n",
    "    # Only fit if not null\n",
    "    if ev_counts.sum() > 0:    \n",
    "        # Fitting Poisson using MLE (Maximum Likelihood Estimation)\n",
    "        model = sm.GLM(ev_counts, np.ones_like(ev_counts), family=sm.families.Poisson())\n",
    "        result = model.fit()\n",
    "\n",
    "        # Get lambda (mean of distribution)\n",
    "        lambda_estimate = result.mu.mean()\n",
    "        poisson_results.append({'zip': zip, 'lambda': lambda_estimate})\n",
    "\n",
    "poisson_df = pd.DataFrame(poisson_results)\n",
    "poisson_df.to_csv('figures/poisson_sdge.csv', index=False)\n",
    "\n",
    "poisson_df"
   ]
  },
  {
   "cell_type": "code",
   "execution_count": null,
   "metadata": {},
   "outputs": [],
   "source": [
    "# Monte Carlo simulation\n",
    "n_samples = 1000\n",
    "sample_results = {}\n",
    "\n",
    "# Extract lambda values for each zip code\n",
    "poisson_params = poisson_df.set_index('zip')['lambda'].to_dict()\n",
    "\n",
    "# For loop for sampling\n",
    "for n in range(n_samples):\n",
    "    results = []\n",
    "    for zip in poisson_params.keys():\n",
    "        # Sample from Poisson\n",
    "        val = poisson.rvs(mu = poisson_params[zip], size=1)\n",
    "        results.append(val[0])\n",
    "        sample_results[n] = results\n",
    "    \n",
    "# Convert sampling results to Data frame\n",
    "samples_df = pd.DataFrame.from_dict(sample_results, orient='index', columns=poisson_params.keys())\n",
    "\n",
    "samples_df.to_csv('figures/monte_carlo.csv', index=False)\n",
    "samples_df"
   ]
  },
  {
   "cell_type": "code",
   "execution_count": null,
   "metadata": {},
   "outputs": [],
   "source": [
    "# Select the data for ZIP code 91910\n",
    "zip_code_data = samples_df['91901']\n",
    "\n",
    "# Plot a histogram\n",
    "plt.figure(figsize=(10, 6))\n",
    "plt.hist(zip_code_data, bins=40, edgecolor='k', alpha=0.7)\n",
    "plt.title('Poisson Distribution of Values for ZIP Code 91901')\n",
    "plt.xlabel('Number of EVs and PHEVs Registered')\n",
    "plt.ylabel('Frequency')\n",
    "plt.grid(axis='y', linestyle='--', alpha=0.7)\n",
    "plt.show()"
   ]
  },
  {
   "cell_type": "code",
   "execution_count": null,
   "metadata": {},
   "outputs": [],
   "source": [
    "# Aggregate data by zip code and year\n",
    "ev_by_zip_year = ev_df.groupby(['ZIP Code', 'Date'])['Vehicles'].sum().reset_index()\n",
    "ev_by_zip_year.columns = ['ZIP Code', 'Year', 'Yearly Registrations']\n",
    "ev_by_zip_year"
   ]
  },
  {
   "cell_type": "code",
   "execution_count": null,
   "metadata": {},
   "outputs": [],
   "source": [
    "# Aggregate EV counts by ZIP code\n",
    "ev_counts = sdge_ev_df.groupby('ZIP Code')['Vehicles'].sum().reset_index()\n",
    "ev_counts.columns= ['zip', 'Total EVs']\n",
    "\n",
    "# Aggregate Charger counts by ZIP code\n",
    "charger_counts = SDGE_chargers_df.groupby('zip').size().reset_index(name='Charger Count')\n",
    "charger_counts.sort_values('Charger Count')"
   ]
  },
  {
   "cell_type": "code",
   "execution_count": null,
   "metadata": {},
   "outputs": [],
   "source": [
    "ev_counts.sort_values('Total EVs')"
   ]
  },
  {
   "cell_type": "code",
   "execution_count": null,
   "metadata": {},
   "outputs": [],
   "source": [
    "# Getting the total EV counts per zip code in SDGE in 2024\n",
    "ev_df_2024 = sdge_ev_df[sdge_ev_df['Date'] == 2024]\n",
    "ev_counts_2024 = ev_df_2024.groupby('ZIP Code')['Vehicles'].sum().reset_index()\n",
    "ev_counts_2024.columns = ['zip', 'Total EVs']"
   ]
  },
  {
   "cell_type": "code",
   "execution_count": null,
   "metadata": {},
   "outputs": [],
   "source": [
    "# Merge the total EV counts with charger counts per zip code in SDGE\n",
    "SDGE_chargers_vehicles = pd.merge(ev_counts_2024, charger_counts, on='zip', how='left').dropna()\n",
    "\n",
    "# Add new column that get the EV count per Charger\n",
    "SDGE_chargers_vehicles['EVs per Charger'] = SDGE_chargers_vehicles['Total EVs'] / SDGE_chargers_vehicles['Charger Count'].replace(0, np.nan) \n",
    "SDGE_chargers_vehicles"
   ]
  },
  {
   "cell_type": "code",
   "execution_count": null,
   "metadata": {},
   "outputs": [],
   "source": [
    "# Create the scatter plot using plotly.express\n",
    "fig = px.scatter(\n",
    "    SDGE_chargers_vehicles, \n",
    "    x='Charger Count', \n",
    "    y='Total EVs', \n",
    "    title='Scatter Plot of Charger Count vs Total EVs per ZIP Code',\n",
    "    labels={\n",
    "        'Charger Count': 'Charger Count',\n",
    "        'Total EVs': 'Total EVs'\n",
    "    },\n",
    "    size='Total EVs',  # Size of the points based on Total EVs\n",
    "    hover_data=['Charger Count', 'Total EVs']  # Display detailed info on hover\n",
    ")\n",
    "\n",
    "# Update layout for better readability\n",
    "fig.update_traces(marker=dict(opacity=0.7, line=dict(width=1, color='DarkSlateGrey')))\n",
    "fig.update_layout(\n",
    "    xaxis_title='Charger Count',\n",
    "    yaxis_title='Total EVs',\n",
    "    showlegend=False\n",
    ")\n",
    "\n",
    "# Fit a linear regression model for the line of best fit\n",
    "X = SDGE_chargers_vehicles['Charger Count']\n",
    "X = sm.add_constant(X)  # Add a constant term for the intercept\n",
    "Y = SDGE_chargers_vehicles['Total EVs']\n",
    "model = sm.OLS(Y, X).fit()\n",
    "\n",
    "# Generate the line of best fit\n",
    "SDGE_chargers_vehicles['Best Fit Line'] = model.predict(X)\n",
    "\n",
    "# Get the equation of the line\n",
    "slope = model.params[1]\n",
    "intercept = model.params[0]\n",
    "equation = f'Y = {intercept:.2f} + {slope:.2f}X'\n",
    "\n",
    "# Add the line of best fit to the plot\n",
    "fig.add_traces(\n",
    "    px.line(\n",
    "        SDGE_chargers_vehicles, \n",
    "        x='Charger Count', \n",
    "        y='Best Fit Line'\n",
    "    ).data\n",
    ")\n",
    "\n",
    "# Update layout for better readability and add equation annotation\n",
    "fig.update_traces(marker=dict(opacity=0.7, line=dict(width=1, color='DarkSlateGrey')))\n",
    "fig.update_layout(\n",
    "    xaxis_title='Charger Count',\n",
    "    yaxis_title='Total EVs',\n",
    "    annotations=[\n",
    "        dict(\n",
    "            x=0.5,\n",
    "            y=0.95,\n",
    "            xref='paper',\n",
    "            yref='paper',\n",
    "            text=equation,\n",
    "            showarrow=False,\n",
    "            font=dict(size=14)\n",
    "        )\n",
    "    ],\n",
    "    showlegend=False\n",
    ")\n",
    "\n",
    "# Show the interactive plot\n",
    "fig.show()\n"
   ]
  },
  {
   "attachments": {},
   "cell_type": "markdown",
   "metadata": {},
   "source": [
    "# Folium Map Showing the EV Vehicle Density Relative to the number of EV Chargers per Zip Code "
   ]
  },
  {
   "cell_type": "code",
   "execution_count": null,
   "metadata": {},
   "outputs": [],
   "source": [
    "# Load the shapefile containing ZIP code boundaries for all of US\n",
    "zip_shapefile = gpd.read_file('data/tl_2024_us_zcta520/tl_2024_us_zcta520.shp')\n",
    "# Ensure that the ZIP code column in both dataframes are of the same type (string)\n",
    "SDGE_chargers_vehicles['zip'] = SDGE_chargers_vehicles['zip'].astype(str)\n",
    "zip_shapefile['ZCTA5CE20'] = zip_shapefile['ZCTA5CE20'].astype(str)\n",
    "\n",
    "# Merge the charger data with the ZIP code shapefile\n",
    "map_zip_chargers = zip_shapefile.merge(SDGE_chargers_vehicles, left_on='ZCTA5CE20', right_on='zip', how='inner')\n",
    "\n",
    "# Fill NaN values with 0 for ZIP codes that have no chargers\n",
    "map_zip_chargers['Charger Count'] = map_zip_chargers['Charger Count'].fillna(0)\n",
    "map_zip_chargers = map_zip_chargers.sort_values('Charger Count', ascending=False)\n",
    "map_zip_chargers"
   ]
  },
  {
   "cell_type": "code",
   "execution_count": null,
   "metadata": {},
   "outputs": [],
   "source": [
    "# Calculate the density of Total EVs per Charger and fill NaNs with 0\n",
    "map_zip_chargers['EVs per Charger Density'] = map_zip_chargers['EVs per Charger'].fillna(0)\n",
    "\n",
    "# Create a base map centered around the SDGE region\n",
    "m = folium.Map(location=[32.7157, -117.1611], zoom_start=10)\n",
    "\n",
    "# Add a choropleth layer for EVs per Charger Density\n",
    "Choropleth(\n",
    "    geo_data=map_zip_chargers,\n",
    "    data=map_zip_chargers,\n",
    "    columns=['zip', 'EVs per Charger Density'],\n",
    "    key_on='feature.properties.ZCTA5CE20',\n",
    "    fill_color='YlGnBu',\n",
    "    fill_opacity=0.7,\n",
    "    line_opacity=0.2,\n",
    "    legend_name='EVs per Charger Density per ZIP Code'\n",
    ").add_to(m)\n",
    "\n",
    "# Add tooltips for interactivity\n",
    "folium.GeoJson(\n",
    "    map_zip_chargers,\n",
    "    style_function=lambda feature: {\n",
    "        'fillColor': 'transparent',\n",
    "        'color': 'black',\n",
    "        'weight': 0.5\n",
    "    },\n",
    "    tooltip=folium.GeoJsonTooltip(\n",
    "        fields=['zip', 'Charger Count', 'Total EVs', 'EVs per Charger Density'],\n",
    "        aliases=['ZIP Code:', 'Charger Count:', 'Total EVs:', 'EVs per Charger Density:'],\n",
    "        localize=True\n",
    "    )\n",
    ").add_to(m)\n",
    "\n",
    "# Save and display the map\n",
    "m.save('figures/choropleth_map_evs_per_charger.html')\n",
    "m"
   ]
  },
  {
   "cell_type": "code",
   "execution_count": null,
   "metadata": {},
   "outputs": [],
   "source": []
  },
  {
   "cell_type": "code",
   "execution_count": null,
   "metadata": {},
   "outputs": [],
   "source": []
  },
  {
   "cell_type": "code",
   "execution_count": null,
   "metadata": {},
   "outputs": [],
   "source": []
  }
 ],
 "metadata": {
  "kernelspec": {
   "display_name": "dsc180a",
   "language": "python",
   "name": "python3"
  },
  "language_info": {
   "codemirror_mode": {
    "name": "ipython",
    "version": 3
   },
   "file_extension": ".py",
   "mimetype": "text/x-python",
   "name": "python",
   "nbconvert_exporter": "python",
   "pygments_lexer": "ipython3",
   "version": "3.11.10"
  },
  "orig_nbformat": 4
 },
 "nbformat": 4,
 "nbformat_minor": 2
}
